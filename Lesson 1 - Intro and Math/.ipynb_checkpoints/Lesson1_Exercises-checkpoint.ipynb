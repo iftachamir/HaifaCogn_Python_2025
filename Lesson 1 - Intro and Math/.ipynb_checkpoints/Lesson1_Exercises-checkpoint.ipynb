{
 "cells": [
  {
   "cell_type": "markdown",
   "id": "a56a0c2e",
   "metadata": {},
   "source": [
    "### Exercise 1: Printing a Message\n",
    "Use the `print()` function to display the message: 'Hello, Python!'"
   ]
  },
  {
   "cell_type": "code",
   "execution_count": null,
   "id": "2089d697",
   "metadata": {},
   "outputs": [],
   "source": []
  },
  {
   "cell_type": "markdown",
   "id": "41be4a9a",
   "metadata": {},
   "source": [
    "**Expected Outputs:**\n",
    "['Hello, Python!']"
   ]
  },
  {
   "cell_type": "markdown",
   "id": "b03ed350",
   "metadata": {},
   "source": [
    "### Exercise 2: Basic Arithmetic\n",
    "Calculate and print the result of 15 multiplied by 3."
   ]
  },
  {
   "cell_type": "code",
   "execution_count": null,
   "id": "67fd963f",
   "metadata": {},
   "outputs": [],
   "source": []
  },
  {
   "cell_type": "markdown",
   "id": "42a99136",
   "metadata": {},
   "source": [
    "**Expected Outputs:**\n",
    "['45']"
   ]
  },
  {
   "cell_type": "markdown",
   "id": "dabbeaa8",
   "metadata": {},
   "source": [
    "### Exercise 3: Variable Assignment\n",
    "Assign the number 25 to a variable called `age` and print it."
   ]
  },
  {
   "cell_type": "code",
   "execution_count": null,
   "id": "db84a34d",
   "metadata": {},
   "outputs": [],
   "source": []
  },
  {
   "cell_type": "markdown",
   "id": "0a22d464",
   "metadata": {},
   "source": [
    "**Expected Outputs:**\n",
    "['25']"
   ]
  },
  {
   "cell_type": "markdown",
   "id": "46e7f702",
   "metadata": {},
   "source": [
    "### Exercise 4: Type Checking\n",
    "Assign the value 12.5 to a variable and print its type."
   ]
  },
  {
   "cell_type": "code",
   "execution_count": 1,
   "id": "d7230109",
   "metadata": {},
   "outputs": [
    {
     "name": "stdout",
     "output_type": "stream",
     "text": [
      "<class 'float'>\n"
     ]
    }
   ],
   "source": []
  },
  {
   "cell_type": "markdown",
   "id": "9473b34f",
   "metadata": {},
   "source": [
    "**Expected Outputs:**\n",
    "[\"<class 'float'>\"]"
   ]
  },
  {
   "cell_type": "markdown",
   "id": "4ab6d58c",
   "metadata": {},
   "source": [
    "### Exercise 5: String Concatenation\n",
    "Create two variables, `first_name` and `last_name`, and print them separated by a space."
   ]
  },
  {
   "cell_type": "code",
   "execution_count": 2,
   "id": "74320b17",
   "metadata": {},
   "outputs": [
    {
     "name": "stdout",
     "output_type": "stream",
     "text": [
      "Jane Doe\n"
     ]
    }
   ],
   "source": []
  },
  {
   "cell_type": "markdown",
   "id": "79919463-9a15-4747-8ff7-04154e8f5b9a",
   "metadata": {},
   "source": [
    "### Exercise 5B\n",
    "Print the sme variables separated by a \"#\"."
   ]
  },
  {
   "cell_type": "code",
   "execution_count": 2,
   "id": "afac161c-1ff9-42d0-8df0-5c8357a78947",
   "metadata": {},
   "outputs": [
    {
     "name": "stdout",
     "output_type": "stream",
     "text": [
      "Jane Doe\n"
     ]
    }
   ],
   "source": []
  },
  {
   "cell_type": "markdown",
   "id": "402dc3ac",
   "metadata": {},
   "source": [
    "**Expected Outputs:**\n",
    "['Jane#Doe']"
   ]
  },
  {
   "cell_type": "markdown",
   "id": "6db26a29",
   "metadata": {},
   "source": [
    "### Exercise 6: Integer Division and Modulo\n",
    "Calculate and print the quotient (floor division) and remainder of 22 divided by 5."
   ]
  },
  {
   "cell_type": "code",
   "execution_count": null,
   "id": "28bf3e08",
   "metadata": {},
   "outputs": [],
   "source": []
  },
  {
   "cell_type": "markdown",
   "id": "ffe2e1ed",
   "metadata": {},
   "source": [
    "**Expected Outputs:**\n",
    "['4 2']"
   ]
  },
  {
   "cell_type": "markdown",
   "id": "41250e8e",
   "metadata": {},
   "source": [
    "### Exercise 7: Floating-Point Precision\n",
    "Show the result of adding 0.1 and 0.2, then round it to 2 decimal places."
   ]
  },
  {
   "cell_type": "code",
   "execution_count": null,
   "id": "fdab53c2",
   "metadata": {},
   "outputs": [],
   "source": []
  },
  {
   "cell_type": "markdown",
   "id": "d8e6b1f4",
   "metadata": {},
   "source": [
    "**Expected Outputs:**\n",
    "['0.3']"
   ]
  },
  {
   "cell_type": "markdown",
   "id": "16afac51",
   "metadata": {},
   "source": [
    "### Exercise 8: Descriptive Variable Names\n",
    "Create ___descriptive___ variable names for storing the length and width of a rectangle, then calculate and print its area."
   ]
  },
  {
   "cell_type": "code",
   "execution_count": null,
   "id": "92f05ecc",
   "metadata": {},
   "outputs": [],
   "source": []
  },
  {
   "cell_type": "markdown",
   "id": "6ffefe35",
   "metadata": {},
   "source": [
    "**Expected Outputs:**\n",
    "['50']"
   ]
  },
  {
   "cell_type": "markdown",
   "id": "d8ba3051",
   "metadata": {},
   "source": [
    "### Exercise 9: Reserved Names and Errors\n",
    "Intentionally write code that tries to assign a value to a Python reserved keyword (e.g., `for`) to observe the error."
   ]
  },
  {
   "cell_type": "code",
   "execution_count": null,
   "id": "4a17d13f",
   "metadata": {},
   "outputs": [],
   "source": [
    "# Uncomment to observe the error\n",
    "# for = 10"
   ]
  },
  {
   "cell_type": "markdown",
   "id": "370fc254",
   "metadata": {},
   "source": [
    "**Expected Outputs:**\n",
    "['SyntaxError']"
   ]
  },
  {
   "cell_type": "markdown",
   "id": "de44e730",
   "metadata": {
    "tags": []
   },
   "source": [
    "### Exercise 10: Importing Modules\n",
    "Import the `math` module and print the square root of 81."
   ]
  },
  {
   "cell_type": "code",
   "execution_count": null,
   "id": "88580b94",
   "metadata": {},
   "outputs": [],
   "source": []
  },
  {
   "cell_type": "markdown",
   "id": "8fdedc62",
   "metadata": {},
   "source": [
    "**Expected Outputs:**\n",
    "['9.0']"
   ]
  },
  {
   "cell_type": "markdown",
   "id": "0375ce4e",
   "metadata": {},
   "source": [
    "### Exercise 11: Circle Calculations\n",
    "Calculate and print the circumference of a circle with radius 7 using `math.pi`."
   ]
  },
  {
   "cell_type": "code",
   "execution_count": null,
   "id": "b57dfa72",
   "metadata": {},
   "outputs": [],
   "source": []
  },
  {
   "cell_type": "markdown",
   "id": "6fc6e190",
   "metadata": {},
   "source": [
    "**Expected Outputs:**\n",
    "['43.98']"
   ]
  },
  {
   "cell_type": "markdown",
   "id": "43a6d363",
   "metadata": {},
   "source": [
    "### Exercise 12: Complex Expression\n",
    "Evaluate and print the result of the following expression: `(5 + 3) * (12 / 4)`."
   ]
  },
  {
   "cell_type": "code",
   "execution_count": null,
   "id": "2a3f7e47",
   "metadata": {},
   "outputs": [],
   "source": []
  },
  {
   "cell_type": "markdown",
   "id": "85775aa0",
   "metadata": {},
   "source": [
    "**Expected Outputs:**\n",
    "['24.0']"
   ]
  },
  {
   "cell_type": "markdown",
   "id": "3290f39f",
   "metadata": {},
   "source": [
    "### Exercise 14: Interactive Input\n",
    "Write code to accept an integer input from the user, double the value, and print the result."
   ]
  },
  {
   "cell_type": "code",
   "execution_count": null,
   "id": "0bbc93ce",
   "metadata": {},
   "outputs": [],
   "source": []
  },
  {
   "cell_type": "markdown",
   "id": "ab1c8bca",
   "metadata": {},
   "source": [
    "**Expected Outputs:**\n",
    "['Input: 3 -> Output: Double the number is: 6', 'Input: 10 -> Output: Double the number is: 20', 'Input: -5 -> Output: Double the number is: -10']"
   ]
  },
  {
   "cell_type": "markdown",
   "id": "2b9d1daa-0c16-45d4-986b-d449dfcbbf13",
   "metadata": {},
   "source": [
    "### Exercise 13: Sharing Candies (Modulo Operator)\n",
    "\n",
    "You have a certain number of candies and want to divide them equally among a certain number of friends. Calculate how many candies will be left after dividing them equally.\n",
    "\n",
    "**Instructions:**  \n",
    "- Ask the user for the total number of candies.\n",
    "- Ask the user for the number of friends.\n",
    "- Print how many candies each friend gets and how many candies remain.\n"
   ]
  },
  {
   "cell_type": "code",
   "execution_count": null,
   "id": "f1074fa8-8221-4097-aa20-e0d55c450fa4",
   "metadata": {},
   "outputs": [],
   "source": [
    "..."
   ]
  },
  {
   "cell_type": "markdown",
   "id": "c4f4f58c-48a0-4d61-8fc2-a9511c3da1ae",
   "metadata": {},
   "source": [
    "Example Input:\\\n",
    "Enter total number of candies: 23\\\n",
    "Enter number of friends: 5\n",
    "\n",
    "Example output:\\\n",
    "Each friend gets 4 candies.\\\n",
    "There are 3 candies left over.\n"
   ]
  },
  {
   "cell_type": "markdown",
   "id": "40c29dd6-6c85-4ad5-a691-b168433696a4",
   "metadata": {},
   "source": [
    "### Exercise 14: Seconds Since Midnight\n",
    "\n",
    "Given the current time in 24-hour format (e.g., 1530 for 3:30 PM), calculate and print how many seconds have passed since midnight.\n",
    "\n",
    "**Instructions:**  \n",
    "- Prompt the user for the current time in the 24-hour format as a 4-digit integer.\n",
    "- Output the total number of seconds passed since midnight.\n"
   ]
  },
  {
   "cell_type": "code",
   "execution_count": null,
   "id": "c596c022-de47-431c-b316-41f245398837",
   "metadata": {},
   "outputs": [],
   "source": [
    "..."
   ]
  },
  {
   "cell_type": "markdown",
   "id": "eb072558-8656-46dd-b9ea-1e56e8992ec1",
   "metadata": {},
   "source": [
    "Example input:\\\n",
    "Enter current time in 24-hour format (e.g., 1530): 1530\n",
    "\n",
    "Example output:\\\n",
    "55800 seconds have passed since midnight.\n"
   ]
  },
  {
   "cell_type": "markdown",
   "id": "c2a4ae3e-7f1d-41ea-bc7a-16083e14cc8e",
   "metadata": {},
   "source": [
    "### Exercise 15: Temperature Converter (Celsius to Fahrenheit)\n",
    "\n",
    "Write a program that converts a temperature from Celsius to Fahrenheit.\n",
    "\n",
    "**Instructions:**  \n",
    "- Prompt the user to enter a temperature in Celsius.\n",
    "- Print the equivalent temperature in Fahrenheit.\n"
   ]
  },
  {
   "cell_type": "code",
   "execution_count": null,
   "id": "e11c0eda-ad10-45cc-9d07-b456d377b182",
   "metadata": {},
   "outputs": [],
   "source": [
    "..."
   ]
  },
  {
   "cell_type": "markdown",
   "id": "1ea554f1-606a-4533-bd96-91db574145d7",
   "metadata": {},
   "source": [
    "[Input: 25 --> Output: 77.0]"
   ]
  },
  {
   "cell_type": "code",
   "execution_count": null,
   "id": "a1b24621-818c-49ac-8a8e-ff8fff437367",
   "metadata": {},
   "outputs": [],
   "source": []
  },
  {
   "cell_type": "code",
   "execution_count": null,
   "id": "d3f8f6a0-a427-4902-9842-7e87c39805e1",
   "metadata": {},
   "outputs": [],
   "source": []
  }
 ],
 "metadata": {
  "kernelspec": {
   "display_name": "Python 3 (ipykernel)",
   "language": "python",
   "name": "python3"
  },
  "language_info": {
   "codemirror_mode": {
    "name": "ipython",
    "version": 3
   },
   "file_extension": ".py",
   "mimetype": "text/x-python",
   "name": "python",
   "nbconvert_exporter": "python",
   "pygments_lexer": "ipython3",
   "version": "3.9.7"
  }
 },
 "nbformat": 4,
 "nbformat_minor": 5
}
