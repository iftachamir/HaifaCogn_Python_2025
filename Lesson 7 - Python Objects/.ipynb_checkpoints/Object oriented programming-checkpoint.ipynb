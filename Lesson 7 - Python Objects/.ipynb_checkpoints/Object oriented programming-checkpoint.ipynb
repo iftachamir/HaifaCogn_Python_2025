{
 "cells": [
  {
   "cell_type": "markdown",
   "metadata": {},
   "source": [
    "# Object Oriented Programming (OOP) and Functional programming\n",
    "\n",
    "## OOP\n",
    "### Background\n",
    "Short explanation in hebrew: https://youtu.be/q1JQB7pw4AY?t=158\n",
    "\n",
    "In Python, an object is a self-contained unit that combines data (attributes or properties) and functionality (methods) into a single package. Think of objects as digital representations of real-world entities. For example, a \"bank\" object might contain data about its account owner name and account balance (properties) along with actions it can perform like depositing or wihtrawing money (methods). Objects are created from blueprints called classes, which define what properties and methods all objects of that type will have. This approach to programming—organizing code around objects rather than actions—helps create more intuitive, modular, and reusable code.\n",
    "    \n",
    "**In Python \"_everything is an object_\".**\n",
    "\n",
    "This means that all data types in Python (strings, integers, lists, etc.) are objects with properties and methods. Objects bundle data (properties) and functionality (methods) together, making code more organized and reusable.\n",
    "\n"
   ]
  },
  {
   "cell_type": "code",
   "execution_count": null,
   "metadata": {},
   "outputs": [],
   "source": [
    "name = \"Spiderman\" # <-- property"
   ]
  },
  {
   "cell_type": "code",
   "execution_count": null,
   "metadata": {},
   "outputs": [],
   "source": [
    "name.upper() # <-- procedure/method"
   ]
  },
  {
   "cell_type": "markdown",
   "metadata": {},
   "source": [
    "Properties are data stored within objects (like 'name' storing \"Spiderman\"), while methods are functions that belong to objects (like `.upper()`). Methods often manipulate the object's properties or return new values based on them."
   ]
  },
  {
   "cell_type": "markdown",
   "metadata": {},
   "source": [
    "## Constructing a custom object"
   ]
  },
  {
   "cell_type": "markdown",
   "metadata": {},
   "source": [
    "### Syntax basics"
   ]
  },
  {
   "cell_type": "code",
   "execution_count": null,
   "metadata": {},
   "outputs": [],
   "source": [
    "class myClass:\n",
    "    def __init__(self, a, b):\n",
    "        self.a = a\n",
    "        self.b = b\n",
    "    \n",
    "    def somefunc(self, arg1, arg2):\n",
    "        pass #SOME CODE HERE\n",
    "\n",
    "new_myClass_var = myClass(something_for_a, something_for_b)"
   ]
  },
  {
   "cell_type": "markdown",
   "metadata": {},
   "source": [
    "Classes are blueprints for creating objects. The __init__ method is a special method that runs when you create a new object, setting up its initial properties. The 'self' parameter refers to the specific instance of the object being created or manipulated."
   ]
  },
  {
   "cell_type": "markdown",
   "metadata": {},
   "source": [
    "### Bank example\n",
    "Let's create a simple Python class (object) for storing basic bank account information."
   ]
  },
  {
   "cell_type": "code",
   "execution_count": 17,
   "metadata": {},
   "outputs": [],
   "source": [
    "class Account:\n",
    "    \n",
    "    # This creates the default values for the object\n",
    "    def __init__(self, x, balance = 0): # initiate\n",
    "        self.account_name = x\n",
    "        self.balance = balance\n",
    "    \n",
    "    # Method used when depositing money\n",
    "    def deposit(self, amount):\n",
    "        self.balance = self.balance + amount\n",
    "    \n",
    "    # Method used when withrawing money\n",
    "    def withdraw(self, amount):\n",
    "        if amount <= self.balance:\n",
    "            self.balance = self.balance - amount\n",
    "        else:\n",
    "            print(\"Cannot Withdraw amounts as not enough funds!!!\")"
   ]
  },
  {
   "cell_type": "markdown",
   "metadata": {},
   "source": [
    "This Account class demonstrates how objects can model real-world entities - like a bank account. Each account object will maintain its own balance and name, and provide methods to interact with that data."
   ]
  },
  {
   "cell_type": "code",
   "execution_count": 18,
   "metadata": {},
   "outputs": [
    {
     "data": {
      "text/plain": [
       "__main__.Account"
      ]
     },
     "execution_count": 18,
     "metadata": {},
     "output_type": "execute_result"
    }
   ],
   "source": [
    "Account"
   ]
  },
  {
   "cell_type": "code",
   "execution_count": 19,
   "metadata": {},
   "outputs": [],
   "source": [
    "yotam_account = Account(\"Yotam\", 100)"
   ]
  },
  {
   "cell_type": "code",
   "execution_count": 20,
   "metadata": {},
   "outputs": [
    {
     "data": {
      "text/plain": [
       "__main__.Account"
      ]
     },
     "execution_count": 20,
     "metadata": {},
     "output_type": "execute_result"
    }
   ],
   "source": [
    "type(yotam_account)"
   ]
  },
  {
   "cell_type": "code",
   "execution_count": null,
   "metadata": {},
   "outputs": [],
   "source": [
    "dani_account = Account(\"Dani\")"
   ]
  },
  {
   "cell_type": "code",
   "execution_count": null,
   "metadata": {},
   "outputs": [],
   "source": [
    "lilach_account = Account(\"Lilach\")"
   ]
  },
  {
   "cell_type": "code",
   "execution_count": null,
   "metadata": {},
   "outputs": [],
   "source": [
    "yotam_account.balance"
   ]
  },
  {
   "cell_type": "code",
   "execution_count": null,
   "metadata": {},
   "outputs": [],
   "source": [
    "lilach_account.balance"
   ]
  },
  {
   "cell_type": "code",
   "execution_count": null,
   "metadata": {},
   "outputs": [],
   "source": [
    "yotam_account.deposit(1000)\n",
    "yotam_account.balance"
   ]
  },
  {
   "cell_type": "code",
   "execution_count": null,
   "metadata": {},
   "outputs": [],
   "source": [
    "yotam_account.withdraw(100)"
   ]
  },
  {
   "cell_type": "code",
   "execution_count": null,
   "metadata": {},
   "outputs": [],
   "source": [
    "yotam_account.balance"
   ]
  },
  {
   "cell_type": "code",
   "execution_count": null,
   "metadata": {},
   "outputs": [],
   "source": [
    "yotam_account.account_name = 'simon'"
   ]
  },
  {
   "cell_type": "code",
   "execution_count": null,
   "metadata": {},
   "outputs": [],
   "source": [
    "yotam_account.account_name"
   ]
  },
  {
   "cell_type": "markdown",
   "metadata": {},
   "source": [
    "### Exercise\n",
    "Write a new class called `Car`.\n",
    "This class stores the attributes:\n",
    "- `brand`: What brand (e.g., Toyota) is the car?\n",
    "- `year`: When was it produced?\n",
    "- `km_max`: Number of kilometres the car can drive on a full fuel tank.\n",
    "- `km_left`: Number of kilometres left to drive with the current amount of fuel.\n",
    "\n",
    "This class also has the procedures:\n",
    "- `drive(n)`: Representing an instruction to drive _n_ number of kilometres. _n_ is reduced from `km_left`. If _n_ > `km` than print 'Can not drive this far. Distance is greater than number of kilometres left in fuel tank.'\n",
    "- `fill_up()`': Fills up the fuel tank to full."
   ]
  },
  {
   "cell_type": "code",
   "execution_count": null,
   "metadata": {},
   "outputs": [],
   "source": [
    "# Write the class here\n",
    "class Car:\n",
    "    def __init__(self, b, year, max_km):\n",
    "        ...\n",
    "    \n",
    "    def fill_up(self):\n",
    "        ...\n",
    "        \n",
    "    def drive(self, n):\n",
    "        ...\n",
    "        "
   ]
  },
  {
   "cell_type": "code",
   "execution_count": null,
   "metadata": {},
   "outputs": [],
   "source": [
    "# Try out the class and its methods here\n",
    "mazda = Car('Mazda', 1999, 1000)\n",
    "toyora = Car('Toyota', 1999, 1000)\n",
    "mazda2010 = Car('Mazda', 2010, 1000)"
   ]
  },
  {
   "cell_type": "code",
   "execution_count": null,
   "metadata": {},
   "outputs": [],
   "source": [
    "mazda.drive(100)\n",
    "mazda.km_left"
   ]
  },
  {
   "cell_type": "code",
   "execution_count": null,
   "metadata": {},
   "outputs": [],
   "source": [
    "mazda.fill_up()"
   ]
  },
  {
   "cell_type": "markdown",
   "metadata": {},
   "source": [
    "## Importing classes"
   ]
  },
  {
   "cell_type": "markdown",
   "metadata": {},
   "source": [
    "Python allows you to define classes in separate files and import them into your programs."
   ]
  },
  {
   "cell_type": "code",
   "execution_count": null,
   "metadata": {},
   "outputs": [],
   "source": [
    "from employee import Employee"
   ]
  },
  {
   "cell_type": "code",
   "execution_count": null,
   "metadata": {},
   "outputs": [],
   "source": [
    "david = Employee('David', 100)"
   ]
  },
  {
   "cell_type": "code",
   "execution_count": null,
   "metadata": {},
   "outputs": [],
   "source": [
    "david.add_work_hours(42)\n",
    "amount_to_pay = david.payday()"
   ]
  },
  {
   "cell_type": "markdown",
   "metadata": {},
   "source": [
    "Ofcourse, custom objects can be combined into data structures to create unique data sets."
   ]
  },
  {
   "cell_type": "code",
   "execution_count": null,
   "metadata": {},
   "outputs": [],
   "source": [
    "employee_data = dict()\n",
    "employee_data[\"Anna\"] = Employee(\"Anna\", 500)\n",
    "employee_data[\"David\"] = david"
   ]
  },
  {
   "cell_type": "code",
   "execution_count": null,
   "metadata": {},
   "outputs": [],
   "source": [
    "print(employee_data)"
   ]
  },
  {
   "cell_type": "code",
   "execution_count": null,
   "metadata": {},
   "outputs": [],
   "source": [
    "employee_data[\"David\"].add_work_hours(42)\n",
    "employee_data[\"David\"].accumulated_hours"
   ]
  },
  {
   "cell_type": "markdown",
   "metadata": {},
   "source": [
    "## Functional programming\n",
    "## `map` and `filter`\n",
    "Map, Filter, and Reduce are paradigms of functional programming. Functional programming organizes code around functions that process data. They allow you to write simpler, shorter code, without neccessarily needing to bother about intricacies like loops."
   ]
  },
  {
   "cell_type": "code",
   "execution_count": 21,
   "metadata": {},
   "outputs": [],
   "source": [
    "import random\n",
    "rt = [ (random.randint(0,10000)/10) for i in range(100)]"
   ]
  },
  {
   "cell_type": "code",
   "execution_count": 22,
   "metadata": {},
   "outputs": [
    {
     "name": "stdout",
     "output_type": "stream",
     "text": [
      "[461.0, 932.2, 243.8, 213.8, 217.5, 457.2, 581.9, 654.2, 678.0, 459.1, 538.4, 202.6, 442.2, 732.1, 455.2, 477.2, 283.9, 971.1, 198.7, 552.9, 983.3, 514.3, 620.0, 577.8, 16.8, 904.9, 473.5, 760.5, 585.7, 422.9, 35.5, 44.7, 131.5, 745.8, 357.2, 900.9, 413.9, 558.0, 693.8, 249.1, 657.1, 76.7, 117.2, 149.6, 116.1, 441.9, 608.0, 711.9, 316.1, 701.1, 988.6, 3.7, 8.4, 120.7, 681.3, 999.5, 770.4, 636.9, 756.7, 47.3, 26.7, 516.8, 626.0, 560.6, 659.9, 218.4, 90.4, 649.1, 876.0, 567.9, 458.1, 957.2, 726.4, 525.5, 633.5, 424.3, 655.9, 689.8, 249.7, 333.8, 693.9, 157.3, 11.7, 292.0, 898.8, 730.9, 317.7, 976.2, 918.2, 360.8, 235.0, 497.6, 5.9, 562.9, 514.4, 476.1, 323.0, 181.7, 248.3, 539.1]\n"
     ]
    }
   ],
   "source": [
    "print(rt)"
   ]
  },
  {
   "cell_type": "markdown",
   "metadata": {},
   "source": [
    "### Exercise\n",
    "Before we learn `map()` - Write a program that converts all the items in the list into integers."
   ]
  },
  {
   "cell_type": "code",
   "execution_count": 23,
   "metadata": {},
   "outputs": [],
   "source": [
    "..."
   ]
  },
  {
   "cell_type": "code",
   "execution_count": null,
   "metadata": {},
   "outputs": [],
   "source": [
    "print(list_rt)"
   ]
  },
  {
   "cell_type": "markdown",
   "metadata": {},
   "source": [
    "### Map\n",
    "Map transforms each element in a sequence by applying a function to it. This provides a concise way to perform the same operation on every item in a collection without writing explicit loops."
   ]
  },
  {
   "cell_type": "code",
   "execution_count": 25,
   "metadata": {},
   "outputs": [
    {
     "name": "stdout",
     "output_type": "stream",
     "text": [
      "[461.0, 932.2, 243.8, 213.8, 217.5, 457.2, 581.9, 654.2, 678.0, 459.1, 538.4, 202.6, 442.2, 732.1, 455.2, 477.2, 283.9, 971.1, 198.7, 552.9, 983.3, 514.3, 620.0, 577.8, 16.8, 904.9, 473.5, 760.5, 585.7, 422.9, 35.5, 44.7, 131.5, 745.8, 357.2, 900.9, 413.9, 558.0, 693.8, 249.1, 657.1, 76.7, 117.2, 149.6, 116.1, 441.9, 608.0, 711.9, 316.1, 701.1, 988.6, 3.7, 8.4, 120.7, 681.3, 999.5, 770.4, 636.9, 756.7, 47.3, 26.7, 516.8, 626.0, 560.6, 659.9, 218.4, 90.4, 649.1, 876.0, 567.9, 458.1, 957.2, 726.4, 525.5, 633.5, 424.3, 655.9, 689.8, 249.7, 333.8, 693.9, 157.3, 11.7, 292.0, 898.8, 730.9, 317.7, 976.2, 918.2, 360.8, 235.0, 497.6, 5.9, 562.9, 514.4, 476.1, 323.0, 181.7, 248.3, 539.1]\n"
     ]
    }
   ],
   "source": [
    "# Remember, this is the 'original' RT list, with response times as FLOAT\n",
    "print(rt)"
   ]
  },
  {
   "cell_type": "code",
   "execution_count": 26,
   "metadata": {},
   "outputs": [],
   "source": [
    "rt_int = map(int,rt)"
   ]
  },
  {
   "cell_type": "code",
   "execution_count": 29,
   "metadata": {},
   "outputs": [
    {
     "data": {
      "text/plain": [
       "<map at 0x23d0ed952a0>"
      ]
     },
     "execution_count": 29,
     "metadata": {},
     "output_type": "execute_result"
    }
   ],
   "source": [
    "rt_int"
   ]
  },
  {
   "cell_type": "code",
   "execution_count": 27,
   "metadata": {},
   "outputs": [
    {
     "data": {
      "text/plain": [
       "map"
      ]
     },
     "execution_count": 27,
     "metadata": {},
     "output_type": "execute_result"
    }
   ],
   "source": [
    "type(rt_int)"
   ]
  },
  {
   "cell_type": "code",
   "execution_count": 28,
   "metadata": {},
   "outputs": [
    {
     "name": "stdout",
     "output_type": "stream",
     "text": [
      "[461, 932, 243, 213, 217, 457, 581, 654, 678, 459, 538, 202, 442, 732, 455, 477, 283, 971, 198, 552, 983, 514, 620, 577, 16, 904, 473, 760, 585, 422, 35, 44, 131, 745, 357, 900, 413, 558, 693, 249, 657, 76, 117, 149, 116, 441, 608, 711, 316, 701, 988, 3, 8, 120, 681, 999, 770, 636, 756, 47, 26, 516, 626, 560, 659, 218, 90, 649, 876, 567, 458, 957, 726, 525, 633, 424, 655, 689, 249, 333, 693, 157, 11, 292, 898, 730, 317, 976, 918, 360, 235, 497, 5, 562, 514, 476, 323, 181, 248, 539]\n"
     ]
    }
   ],
   "source": [
    "print(list(rt_int))"
   ]
  },
  {
   "cell_type": "code",
   "execution_count": 30,
   "metadata": {},
   "outputs": [
    {
     "name": "stdout",
     "output_type": "stream",
     "text": [
      "[0.461, 0.9322, 0.24380000000000002, 0.21380000000000002, 0.2175, 0.4572, 0.5819, 0.6542, 0.678, 0.4591, 0.5384, 0.2026, 0.4422, 0.7321, 0.4552, 0.4772, 0.2839, 0.9711000000000001, 0.1987, 0.5529, 0.9833, 0.5143, 0.62, 0.5778, 0.016800000000000002, 0.9048999999999999, 0.4735, 0.7605, 0.5857, 0.4229, 0.0355, 0.044700000000000004, 0.1315, 0.7457999999999999, 0.35719999999999996, 0.9008999999999999, 0.4139, 0.558, 0.6938, 0.2491, 0.6571, 0.0767, 0.1172, 0.14959999999999998, 0.1161, 0.44189999999999996, 0.608, 0.7119, 0.31610000000000005, 0.7011000000000001, 0.9886, 0.0037, 0.008400000000000001, 0.1207, 0.6812999999999999, 0.9995, 0.7704, 0.6369, 0.7567, 0.047299999999999995, 0.026699999999999998, 0.5167999999999999, 0.626, 0.5606, 0.6598999999999999, 0.2184, 0.09040000000000001, 0.6491, 0.876, 0.5679, 0.4581, 0.9572, 0.7263999999999999, 0.5255, 0.6335, 0.4243, 0.6558999999999999, 0.6898, 0.24969999999999998, 0.3338, 0.6939, 0.15730000000000002, 0.011699999999999999, 0.292, 0.8987999999999999, 0.7309, 0.3177, 0.9762000000000001, 0.9182, 0.3608, 0.235, 0.49760000000000004, 0.005900000000000001, 0.5629, 0.5144, 0.4761, 0.323, 0.1817, 0.24830000000000002, 0.5391]\n"
     ]
    }
   ],
   "source": [
    "# What if we wanted RT on a scale of seconds (rather than milli-seconds)\n",
    "def div_10(x):\n",
    "    return(x/1000)\n",
    "\n",
    "new_rt = map(div_10, rt)\n",
    "\n",
    "print(list(new_rt))"
   ]
  },
  {
   "cell_type": "markdown",
   "metadata": {},
   "source": [
    "### Filter\n",
    "Like its name, `filter` function 'filters' (removes) from its _second_ input parameter (typically lists, but can be any iteratable object) values according to its _first_ input parameter - a function that returns `True` or `False` (ie., boolean value)."
   ]
  },
  {
   "cell_type": "code",
   "execution_count": 31,
   "metadata": {},
   "outputs": [
    {
     "name": "stdout",
     "output_type": "stream",
     "text": [
      "[461, 932, 243, 213, 217, 457, 581, 654, 678, 459, 538, 202, 442, 732, 455, 477, 283, 971, 198, 552, 983, 514, 620, 577, 16, 904, 473, 760, 585, 422, 35, 44, 131, 745, 357, 900, 413, 558, 693, 249, 657, 76, 117, 149, 116, 441, 608, 711, 316, 701, 988, 3, 8, 120, 681, 999, 770, 636, 756, 47, 26, 516, 626, 560, 659, 218, 90, 649, 876, 567, 458, 957, 726, 525, 633, 424, 655, 689, 249, 333, 693, 157, 11, 292, 898, 730, 317, 976, 918, 360, 235, 497, 5, 562, 514, 476, 323, 181, 248, 539]\n"
     ]
    }
   ],
   "source": [
    "print(list_rt)"
   ]
  },
  {
   "cell_type": "code",
   "execution_count": null,
   "metadata": {},
   "outputs": [],
   "source": [
    "# Lets remove \"outliers\" of response times - so very fast (<100) or \"slow\" rts (> 750)\n",
    "x = 1000\n",
    "print(x > 100 and x < 750)"
   ]
  },
  {
   "cell_type": "code",
   "execution_count": 49,
   "metadata": {},
   "outputs": [
    {
     "name": "stdout",
     "output_type": "stream",
     "text": [
      "[461, 243, 213, 217, 457, 581, 654, 678, 459, 538, 202, 442, 732, 455, 477, 283, 198, 552, 514, 620, 577, 473, 585, 422, 131, 745, 357, 413, 558, 693, 249, 657, 117, 149, 116, 441, 608, 711, 316, 701, 120, 681, 636, 516, 626, 560, 659, 218, 649, 567, 458, 726, 525, 633, 424, 655, 689, 249, 333, 693, 157, 292, 730, 317, 360, 235, 497, 562, 514, 476, 323, 181, 248, 539]\n"
     ]
    }
   ],
   "source": [
    "def is_in_range(x):\n",
    "    return(x > 100 and x < 750)\n",
    "\n",
    "filterred_rt = filter(is_in_range, list_rt)\n",
    "list_filterred_rt = list(filterred_rt)\n",
    "\n",
    "print(list_filterred_rt)"
   ]
  },
  {
   "cell_type": "code",
   "execution_count": 51,
   "metadata": {},
   "outputs": [
    {
     "name": "stdout",
     "output_type": "stream",
     "text": [
      "[461, 243, 213, 217, 457, 581, 654, 678, 459, 538, 202, 442, 732, 455, 477, 283, 198, 552, 514, 620, 577, 473, 585, 422, 131, 745, 357, 413, 558, 693, 249, 657, 117, 149, 116, 441, 608, 711, 316, 701, 120, 681, 636, 516, 626, 560, 659, 218, 649, 567, 458, 726, 525, 633, 424, 655, 689, 249, 333, 693, 157, 292, 730, 317, 360, 235, 497, 562, 514, 476, 323, 181, 248, 539]\n"
     ]
    }
   ],
   "source": [
    "print(list_filterred_rt)"
   ]
  },
  {
   "cell_type": "code",
   "execution_count": 54,
   "metadata": {},
   "outputs": [
    {
     "name": "stdout",
     "output_type": "stream",
     "text": [
      "Original list of RTs: 100\n",
      "Filterred list of RTs: 74\n"
     ]
    }
   ],
   "source": [
    "print('Original list of RTs:', len(list_rt))\n",
    "print('Filterred list of RTs:', len(list_filterred_rt))"
   ]
  },
  {
   "cell_type": "code",
   "execution_count": 55,
   "metadata": {},
   "outputs": [
    {
     "data": {
      "text/plain": [
       "[2, 4, 6, 8, 10, 12, 14, 16, 18, 20]"
      ]
     },
     "execution_count": 55,
     "metadata": {},
     "output_type": "execute_result"
    }
   ],
   "source": [
    "# Example that filter works with other iterables\n",
    "\n",
    "def is_even(x):\n",
    "    return(x % 2 == 0)\n",
    "\n",
    "list(filter(is_even, range(1,21)))"
   ]
  },
  {
   "cell_type": "markdown",
   "metadata": {},
   "source": [
    "### Lambda functions\n",
    "Lambda functions are sometimes also called 'anonymous functions'. They are simple functions that (a) can be written in one-line and (b) are typically not reused."
   ]
  },
  {
   "cell_type": "code",
   "execution_count": 57,
   "metadata": {},
   "outputs": [
    {
     "data": {
      "text/plain": [
       "0.1"
      ]
     },
     "execution_count": 57,
     "metadata": {},
     "output_type": "execute_result"
    }
   ],
   "source": [
    "def prop_of_x_from_xy(x,y):\n",
    "    return(x / (x+y))\n",
    "\n",
    "prop_of_x_from_xy(1,9)"
   ]
  },
  {
   "cell_type": "markdown",
   "metadata": {},
   "source": [
    "Lambdas work well with `map` and `filter` because they can be easily written in one line."
   ]
  },
  {
   "cell_type": "code",
   "execution_count": null,
   "metadata": {},
   "outputs": [],
   "source": [
    "# Print out all the even numbers between user's input numbers.\n",
    "\n",
    "start = int(input('What number to start:'))\n",
    "end = int(input('What number to end:'))\n",
    "\n",
    "list(filter(lambda x: x % 2 == 0, range(start, end)))"
   ]
  },
  {
   "cell_type": "markdown",
   "metadata": {},
   "source": [
    "### Exercises\n",
    "Given a list of numbers (in code below), write a function and filter that keeps only numbers divisible by 5."
   ]
  },
  {
   "cell_type": "code",
   "execution_count": null,
   "metadata": {},
   "outputs": [],
   "source": [
    "import random\n",
    "list_of_numbers = [(random.randint(0,10_000)) for i in range(100)]\n",
    "\n",
    "def div_by_5(x):\n",
    "    return(...)\n",
    "    \n",
    "list(...(div_by_5, list_of_numbers))"
   ]
  },
  {
   "cell_type": "markdown",
   "metadata": {},
   "source": [
    "Given a range object of numbers between 1 and 100, write a (1) function and (2) program with filter that keeps only the prime numbers from that list."
   ]
  },
  {
   "cell_type": "code",
   "execution_count": null,
   "metadata": {},
   "outputs": [],
   "source": [
    "r = range(1, 100)\n",
    "\n",
    "# part (1)\n",
    "def is_prime(x):\n",
    "    ...\n",
    "    return(...)\n",
    "\n",
    "# part (2)\n",
    "list(filter(is_prime, r))"
   ]
  }
 ],
 "metadata": {
  "kernelspec": {
   "display_name": "Python 3 (ipykernel)",
   "language": "python",
   "name": "python3"
  },
  "language_info": {
   "codemirror_mode": {
    "name": "ipython",
    "version": 3
   },
   "file_extension": ".py",
   "mimetype": "text/x-python",
   "name": "python",
   "nbconvert_exporter": "python",
   "pygments_lexer": "ipython3",
   "version": "3.12.7"
  }
 },
 "nbformat": 4,
 "nbformat_minor": 4
}
