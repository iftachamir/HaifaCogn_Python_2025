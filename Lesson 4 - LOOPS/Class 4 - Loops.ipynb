{
 "cells": [
  {
   "cell_type": "markdown",
   "metadata": {},
   "source": [
    "# Class 4 - Loops (`while` and `for`)"
   ]
  },
  {
   "cell_type": "markdown",
   "metadata": {},
   "source": [
    "Loops are repeated series of code. There are 2 kinds of loops - `while` and `for`.\n",
    "1. **`while` loops**: Continue executing as long as a condition remains true\n",
    "   - Best for: When you don't know in advance how many iterations you need\n",
    "   - Examples: Validating user input, waiting for a specific condition\n",
    "2. **`for` loops**: Execute once for each item in a collection\n",
    "   - Best for: When you know exactly how many iterations you need\n",
    "   - Examples: Processing each item in a list, repeating something a specific number of times\n",
    "\n",
    "When should we use which?:\n",
    "- a pre-set number of repetitions is completed - `for`\n",
    "- a condition is met - `while`"
   ]
  },
  {
   "cell_type": "code",
   "execution_count": null,
   "metadata": {},
   "outputs": [],
   "source": [
    "# WHILE\n",
    "# Count to N\n",
    "import time\n",
    "\n",
    "i = 0\n",
    "while i < n:\n",
    "n = int(input())\n",
    "    i = i + 1\n",
    "    print(i, end = \" \")\n",
    "    time.sleep(.3)"
   ]
  },
  {
   "cell_type": "code",
   "execution_count": null,
   "metadata": {},
   "outputs": [],
   "source": [
    "# FOR\n",
    "# Count to N\n",
    "n = int(input())\n",
    "for i in range(1, n+1):\n",
    "    print(i, end = \" \")\n",
    "    time.sleep(.3)"
   ]
  },
  {
   "cell_type": "markdown",
   "metadata": {},
   "source": [
    "## `while`\n",
    "\n",
    "A `while` loop repeats a block of code as long as a specified condition is `True`."
   ]
  },
  {
   "cell_type": "code",
   "execution_count": null,
   "metadata": {},
   "outputs": [],
   "source": [
    "# Count to N\n",
    "from time import sleep\n",
    "\n",
    "n = int(input())\n",
    "i = 0\n",
    "while i < n:\n",
    "    sleep(1)\n",
    "    print(i)\n",
    "    i += 1    # i = i + 1\n",
    "    \n",
    "print('Goodbye')"
   ]
  },
  {
   "cell_type": "markdown",
   "metadata": {},
   "source": [
    "The loop above demonstrates counting from 1 to N. Notice these important elements:\n",
    "1. The **condition** `i < n` is checked before each iteration\n",
    "2. The **counter variable** `i` is updated inside the loop\n",
    "3. If we forgot to update `i`, the loop would run forever (infinite loop)!"
   ]
  },
  {
   "cell_type": "markdown",
   "metadata": {},
   "source": [
    "Small note on alternative Python syntax for item incrementing:"
   ]
  },
  {
   "cell_type": "code",
   "execution_count": null,
   "metadata": {},
   "outputs": [],
   "source": [
    "i = 0\n",
    "print(i)"
   ]
  },
  {
   "cell_type": "code",
   "execution_count": null,
   "metadata": {},
   "outputs": [],
   "source": [
    "i += 1  # i = i + 1\n",
    "print(i)"
   ]
  },
  {
   "cell_type": "markdown",
   "metadata": {},
   "source": [
    "While loops are perfect for situations where you need to continue a process until a certain condition is met, but you don't know exactly how many iterations that will take. For example, when entering a password - you don't know how many attemtps it will take until correct. See exercise below."
   ]
  },
  {
   "cell_type": "markdown",
   "metadata": {},
   "source": [
    "### Exercises\n",
    "Write a loop that counts down from any input number (N > 1) to 1."
   ]
  },
  {
   "cell_type": "code",
   "execution_count": null,
   "metadata": {},
   "outputs": [],
   "source": [
    "n = int(input()) # Assume that the number larger than 1\n",
    "\n",
    "while ...\n",
    "    ...\n",
    "    "
   ]
  },
  {
   "cell_type": "markdown",
   "metadata": {},
   "source": [
    "Write a loop that terminates once a correct 4-digit number has been enterred."
   ]
  },
  {
   "cell_type": "code",
   "execution_count": null,
   "metadata": {},
   "outputs": [],
   "source": [
    "password = 9876\n",
    "\n",
    "user_input = int(input())\n",
    "\n",
    "while...\n",
    "    ...\n",
    "\n",
    "..."
   ]
  },
  {
   "cell_type": "markdown",
   "metadata": {},
   "source": [
    "Create a program that computes the average of a collection of values entered by the user. The user will enter 999 as a sentinel value to indicate\n",
    "that no further values will be provided."
   ]
  },
  {
   "cell_type": "code",
   "execution_count": null,
   "metadata": {},
   "outputs": [],
   "source": [
    "# Get first input and initiate cumulative sum\n",
    "user_input = int(input())\n",
    "...\n",
    "\n",
    "...\n"
   ]
  },
  {
   "cell_type": "markdown",
   "metadata": {},
   "source": [
    "## `for`\n",
    "`for` loops are used when a pre-set number of repetitions is needed.\n",
    "\n",
    "\n",
    "A `for` loop executes a block of code once for each item in a sequence (like a list, string, or range).\n",
    "`for` loops are ideal when:\n",
    "1. You know exactly how many iterations you need (`range()`)\n",
    "2. You need to process each item in a collection (data collections like `list` or `string`)\n",
    "3. You want cleaner, more readable code for iteration"
   ]
  },
  {
   "cell_type": "code",
   "execution_count": null,
   "metadata": {},
   "outputs": [],
   "source": [
    "# Input and sum 3 numbers, using WHILE\n",
    "sum_xs = 0\n",
    "i = 1\n",
    "while i < 4:\n",
    "    x = int(input())\n",
    "    sum_xs = sum_xs + x\n",
    "    i = i + 1\n",
    "print('Sum of inputs is', sum_xs)"
   ]
  },
  {
   "cell_type": "code",
   "execution_count": null,
   "metadata": {},
   "outputs": [],
   "source": [
    "# Input and sum 3 numbers, using FOR\n",
    "sum_xs = 0\n",
    "\n",
    "for i in range(3):\n",
    "    x = int(input())\n",
    "    sum_xs = sum_xs + x\n",
    "print(sum_xs)"
   ]
  },
  {
   "cell_type": "markdown",
   "metadata": {},
   "source": [
    "In Python, `for` loops work on all iterables"
   ]
  },
  {
   "cell_type": "code",
   "execution_count": null,
   "metadata": {},
   "outputs": [],
   "source": [
    "from time import sleep\n",
    "\n",
    "name = input('Enter your name:')\n",
    "\n",
    "for each_character in name:\n",
    "    print(each_character*3)\n",
    "    sleep(.3)\n",
    "\n"
   ]
  },
  {
   "cell_type": "code",
   "execution_count": null,
   "metadata": {},
   "outputs": [],
   "source": [
    "type(name)"
   ]
  },
  {
   "cell_type": "markdown",
   "metadata": {},
   "source": [
    "### Using `range()` with `for`\n",
    "`range()` is a very commonly used function together with `for` loops. So what is it?"
   ]
  },
  {
   "cell_type": "code",
   "execution_count": null,
   "metadata": {},
   "outputs": [],
   "source": [
    "x = range(20)\n",
    "print(x)"
   ]
  },
  {
   "cell_type": "code",
   "execution_count": null,
   "metadata": {},
   "outputs": [],
   "source": [
    "list(range(20))"
   ]
  },
  {
   "cell_type": "code",
   "execution_count": null,
   "metadata": {},
   "outputs": [],
   "source": [
    "print(list(range(10)))\n",
    "print(list(range(5, 10)))\n",
    "print(list(range(0, 10, 3)))\n",
    "list(range(10,0, -2))"
   ]
  },
  {
   "cell_type": "code",
   "execution_count": null,
   "metadata": {},
   "outputs": [],
   "source": [
    "print(\"range(5):\", list(range(5)))          # Start=0 (default), Stop=5, Step=1 (default)\n",
    "print(\"range(2, 8):\", list(range(2, 8)))    # Start=2, Stop=8, Step=1 (default)\n",
    "print(\"range(1, 10, 2):\", list(range(1, 10, 2)))  # Start=1, Stop=10, Step=2\n",
    "print(\"range(10, 0, -1):\", list(range(10, 0, -1)))  # Counting down"
   ]
  },
  {
   "cell_type": "markdown",
   "metadata": {},
   "source": [
    "Remember:\n",
    "- `range(stop)` produces numbers from 0 up to (but not including) stop\n",
    "- `range(start, stop)` produces numbers from start up to (but not including) stop\n",
    "- `range(start, stop, step)` lets you control the increment/decrement"
   ]
  },
  {
   "cell_type": "code",
   "execution_count": null,
   "metadata": {},
   "outputs": [],
   "source": [
    "27_541_114 in range(0, 1_000_000_000_000, 7) # Conditional expression"
   ]
  },
  {
   "cell_type": "markdown",
   "metadata": {},
   "source": [
    "Which of the following numbers is in the range `range(0, 1000000000000, 3)`:\n",
    "- 27_541_111\n",
    "- 27_541_112\n",
    "- 27_541_113"
   ]
  },
  {
   "cell_type": "code",
   "execution_count": null,
   "metadata": {},
   "outputs": [],
   "source": [
    "..."
   ]
  },
  {
   "cell_type": "markdown",
   "metadata": {},
   "source": [
    "### _Quick overview of `string` and `list`_"
   ]
  },
  {
   "cell_type": "code",
   "execution_count": null,
   "metadata": {},
   "outputs": [],
   "source": [
    "myname = \"dostoevsky\"\n",
    "myname"
   ]
  },
  {
   "cell_type": "code",
   "execution_count": null,
   "metadata": {},
   "outputs": [],
   "source": [
    "type(myname)"
   ]
  },
  {
   "cell_type": "code",
   "execution_count": null,
   "metadata": {},
   "outputs": [],
   "source": [
    "len(myname) #length"
   ]
  },
  {
   "cell_type": "code",
   "execution_count": null,
   "metadata": {},
   "outputs": [],
   "source": [
    "# indexing\n",
    "print(myname[0])\n",
    "print(myname[1])\n",
    "print(myname[9])\n",
    "#print(myname[10])\n",
    "print(myname[11])\n"
   ]
  },
  {
   "cell_type": "markdown",
   "metadata": {},
   "source": [
    "### Iterating over a string"
   ]
  },
  {
   "cell_type": "code",
   "execution_count": null,
   "metadata": {},
   "outputs": [],
   "source": [
    "# Iterating over a string\n",
    "name = input('Enter your name:')\n",
    "\n",
    "for j in name:\n",
    "    print(j)\n",
    "    sleep(.3)\n"
   ]
  },
  {
   "cell_type": "markdown",
   "metadata": {},
   "source": [
    "### Iterating over a list"
   ]
  },
  {
   "cell_type": "code",
   "execution_count": null,
   "metadata": {},
   "outputs": [],
   "source": [
    "mylist = [1, 2.0, 'three', 'a', 'b', 'cee']\n",
    "len(mylist)"
   ]
  },
  {
   "cell_type": "code",
   "execution_count": null,
   "metadata": {},
   "outputs": [],
   "source": [
    "from time import sleep\n",
    "# Iterating over a list\n",
    "mylist = [1, 2.0, 'three', 'a', 'b', 'cee']\n",
    "\n",
    "i = 0\n",
    "for x in mylist:\n",
    "    print(i, x, '-->', type(x))\n",
    "    i = i + 1\n",
    "    sleep(.3)"
   ]
  },
  {
   "cell_type": "markdown",
   "metadata": {},
   "source": [
    "### Using `enumerate()` with `for`"
   ]
  },
  {
   "cell_type": "markdown",
   "metadata": {},
   "source": [
    "When you need to **loop over a sequence** (like a list or a string) **and** you want to keep track of the **index (position)** of each item at the same time, Python provides a built-in function called `enumerate()`.\n",
    "\n",
    "First, let's look at some examples of what `enumerate` does."
   ]
  },
  {
   "cell_type": "code",
   "execution_count": null,
   "metadata": {},
   "outputs": [],
   "source": [
    "# Basic use of enumerate with a string\n",
    "word = 'dostoevsky'\n",
    "\n",
    "for idx, letter in enumerate(word):\n",
    "    print(f\"Index {idx}: Letter '{letter}'\")"
   ]
  },
  {
   "cell_type": "code",
   "execution_count": null,
   "metadata": {},
   "outputs": [],
   "source": [
    "e = enumerate('dostoevsky')\n",
    "type(e)"
   ]
  },
  {
   "cell_type": "code",
   "execution_count": null,
   "metadata": {},
   "outputs": [],
   "source": [
    "print(list(e))"
   ]
  },
  {
   "cell_type": "code",
   "execution_count": null,
   "metadata": {},
   "outputs": [],
   "source": [
    "e = enumerate('dostoevsky')\n",
    "list(e)"
   ]
  },
  {
   "cell_type": "code",
   "execution_count": null,
   "metadata": {},
   "outputs": [],
   "source": [
    "len('dostoevsky')"
   ]
  },
  {
   "cell_type": "code",
   "execution_count": null,
   "metadata": {},
   "outputs": [],
   "source": [
    "for i, each_character in enumerate('abcdefgh'):\n",
    "    if i % 2 == 1:\n",
    "        print(each_character)\n"
   ]
  },
  {
   "cell_type": "markdown",
   "metadata": {},
   "source": [
    "Now, let's use it in a `for` loop"
   ]
  },
  {
   "cell_type": "code",
   "execution_count": null,
   "metadata": {},
   "outputs": [],
   "source": [
    "my_list = ['a', 5, 'c', 10, 'ff', '55']\n",
    "for i, each_item in enumerate(my_list):\n",
    "    print('Current number index is: ', i, '.     And current item is: ', each_item)"
   ]
  },
  {
   "cell_type": "markdown",
   "metadata": {},
   "source": [
    "#### Why the emphasis on `range`\n",
    "The *python* way vs. the \"generic\" way"
   ]
  },
  {
   "cell_type": "code",
   "execution_count": null,
   "metadata": {},
   "outputs": [],
   "source": [
    "days_of_week = ['sunday', 'monday', 'tuesday', 'wednesday', 'thursday', 'friday', 'saturday']"
   ]
  },
  {
   "cell_type": "code",
   "execution_count": null,
   "metadata": {},
   "outputs": [],
   "source": [
    "list(enumerate(days_of_week))"
   ]
  },
  {
   "cell_type": "code",
   "execution_count": null,
   "metadata": {},
   "outputs": [],
   "source": [
    "# Generic way\n",
    "for i in range(len(days_of_week)):\n",
    "    print(days_of_week[i])"
   ]
  },
  {
   "cell_type": "code",
   "execution_count": null,
   "metadata": {},
   "outputs": [],
   "source": [
    "# Python way / R\n",
    "for x in days_of_week:\n",
    "    print(x)"
   ]
  },
  {
   "cell_type": "markdown",
   "metadata": {},
   "source": [
    "## Example of using loops"
   ]
  },
  {
   "cell_type": "code",
   "execution_count": null,
   "metadata": {},
   "outputs": [],
   "source": [
    "n_days = 30\n",
    "r0 = 1.5\n",
    "number_of_infected = 1\n",
    "for each_day in range(0, n_days):\n",
    "    \n",
    "    # update how many are infected?\n",
    "    number_of_infected = number_of_infected * r0\n",
    "    \n",
    "    print('Day ' + str(i) + ', number of infected = ' + str(round(number_of_infected,1)))"
   ]
  },
  {
   "cell_type": "code",
   "execution_count": null,
   "metadata": {},
   "outputs": [],
   "source": [
    "import matplotlib.pyplot as plt\n",
    "\n",
    "n_days = 100\n",
    "r0 = 1.5\n",
    "number_of_infected = [1]\n",
    "\n",
    "for each_day in range(1, n_days):\n",
    "    # update how many are infected?\n",
    "    number_of_infected.append(number_of_infected[each_day-1] * r0)\n",
    "    \n",
    "plt.plot(list(range(0,n_days)), number_of_infected)\n",
    "plt.xlabel('Days since first infection')\n",
    "plt.ylabel('Number of people infected')\n",
    "plt.show()"
   ]
  },
  {
   "cell_type": "code",
   "execution_count": null,
   "metadata": {},
   "outputs": [],
   "source": [
    "# INITIATE LOCK-DOWN\n",
    "rate_of_infection = .90\n",
    "day_counter = n_days\n",
    "\n",
    "# Count how many days until number of infected goes below 20,000\n",
    "while number_of_infected[day_counter-1] > 20_000:\n",
    "    \n",
    "    # update how many are infected?\n",
    "    number_of_infected.append(number_of_infected[day_counter-1] * rate_of_infection)\n",
    "    \n",
    "    # update days counter\n",
    "    day_counter = day_counter + 1\n",
    "\n",
    "# How many days until we end lockdown?\n",
    "print(str(day_counter) + ' days until lockdown ends')\n",
    "\n",
    "plt.plot(list(range(0,day_counter)), number_of_infected)\n",
    "plt.xlabel('Days since first infection')\n",
    "plt.ylabel('Number of people infected')\n",
    "plt.show()"
   ]
  },
  {
   "cell_type": "markdown",
   "metadata": {},
   "source": [
    "## `break` and `continue` in loops\n",
    "\n",
    "Sometimes when looping, you need to:\n",
    "- **`break`**: **Exit the loop immediately** once a certain condition is met.\n",
    "- **`continue`**: **Skip the rest of the current loop iteration** and move to the next one."
   ]
  },
  {
   "cell_type": "code",
   "execution_count": null,
   "metadata": {},
   "outputs": [],
   "source": [
    "for number in range(10):\n",
    "    if number == 5:\n",
    "        break\n",
    "    print(number)"
   ]
  },
  {
   "cell_type": "code",
   "execution_count": null,
   "metadata": {},
   "outputs": [],
   "source": [
    "# Print only numbers divisible by 7\n",
    "for number in range(50):\n",
    "    if number % 7 != 0:\n",
    "        continue\n",
    "    print(number)"
   ]
  },
  {
   "cell_type": "code",
   "execution_count": null,
   "metadata": {},
   "outputs": [],
   "source": [
    "x = 1\n",
    "\n",
    "while True:\n",
    "    print(x, end = \" \")\n",
    "    x = x + 1\n",
    "    sleep(.3)"
   ]
  },
  {
   "cell_type": "code",
   "execution_count": null,
   "metadata": {},
   "outputs": [],
   "source": [
    "# Write a loop that asks user to enter a password until password is correct\n",
    "password = 'abc123'\n",
    "\n",
    "while ...\n",
    "    ...\n",
    "\n",
    "print('Correct password')"
   ]
  },
  {
   "cell_type": "markdown",
   "metadata": {},
   "source": [
    "## `for` exercises"
   ]
  },
  {
   "cell_type": "markdown",
   "metadata": {},
   "source": [
    "Write a program that displays a temperature conversion table for degrees Celsius and\n",
    "degrees Fahrenheit. The table should include rows for all temperatures between 0\n",
    "and 100 degrees Celsius that are multiples of 10 degrees Celsius. Include appropriate\n",
    "headings on your columns."
   ]
  },
  {
   "cell_type": "code",
   "execution_count": null,
   "metadata": {},
   "outputs": [],
   "source": []
  },
  {
   "cell_type": "markdown",
   "metadata": {},
   "source": [
    "## Nested Loops (Loops Inside Loops)\n",
    "\n",
    "In Python, you can place a loop inside another loop. This is called a **nested loop**.\n",
    "\n",
    "- The outer loop runs first.\n",
    "- For each iteration of the outer loop, the inner loop runs completely\n",
    "\n",
    "\n",
    "**Basic Structure:**\n",
    "```python\n",
    "for item1 in collection1:\n",
    "    for item2 in collection2:\n",
    "        # code using item1 and item2\n"
   ]
  },
  {
   "cell_type": "code",
   "execution_count": null,
   "metadata": {},
   "outputs": [],
   "source": [
    "# Basic example: Print pairs of numbers\n",
    "for i in range(1, 3):         # Outer loop\n",
    "    for j in range(1, 4):     # Inner loop\n",
    "        print(f\"i={i}, j={j}\")"
   ]
  },
  {
   "cell_type": "code",
   "execution_count": null,
   "metadata": {},
   "outputs": [],
   "source": [
    "# chessboard grid\n",
    "columns = ['a', 'b', 'c', 'd', 'e', 'f', 'g', 'h']\n",
    "rows = range(1, 9)\n",
    "\n",
    "for row in rows:\n",
    "    for column in columns:\n",
    "        print(f\"{column}{row}\", end=' ')\n",
    "    print()  # Move to the next line after one row is done\n"
   ]
  },
  {
   "cell_type": "code",
   "execution_count": null,
   "metadata": {},
   "outputs": [],
   "source": [
    "# Columns and rows\n",
    "columns = ['a', 'b', 'c', 'd', 'e', 'f', 'g', 'h']\n",
    "rows = range(1, 9)\n",
    "\n",
    "# Print the header (columns)\n",
    "print(' ', end=' ')\n",
    "for column in columns:\n",
    "    print(column, end=' ')\n",
    "print()\n",
    "\n",
    "# Now print each row\n",
    "for row in rows:\n",
    "    print(row, end=' ')  # Print row label\n",
    "    for col_idx, column in enumerate(columns):\n",
    "        # Determine color\n",
    "        if (row + col_idx) % 2 == 0:\n",
    "            color = 'white'\n",
    "        else:\n",
    "            color = 'black'\n",
    "        print('W' if color == 'white' else 'B', end=' ')\n",
    "    print()  # Newline after each row\n"
   ]
  },
  {
   "cell_type": "markdown",
   "metadata": {},
   "source": [
    "## List Comprehensions"
   ]
  },
  {
   "cell_type": "code",
   "execution_count": null,
   "metadata": {},
   "outputs": [],
   "source": [
    "# Example: Create a list of integers from user input\n",
    "numbers = [int(x) for x in input(\"Enter numbers separated by spaces:\").split()]\n",
    "print(numbers)"
   ]
  },
  {
   "cell_type": "code",
   "execution_count": null,
   "metadata": {},
   "outputs": [],
   "source": [
    "# Example: Create a list of strings from user input\n",
    "words = [x for x in input(\"Enter words separated by spaces:\").split()]\n",
    "print(words)"
   ]
  }
 ],
 "metadata": {
  "kernelspec": {
   "display_name": "Python 3 (ipykernel)",
   "language": "python",
   "name": "python3"
  },
  "language_info": {
   "codemirror_mode": {
    "name": "ipython",
    "version": 3
   },
   "file_extension": ".py",
   "mimetype": "text/x-python",
   "name": "python",
   "nbconvert_exporter": "python",
   "pygments_lexer": "ipython3",
   "version": "3.12.7"
  }
 },
 "nbformat": 4,
 "nbformat_minor": 4
}
