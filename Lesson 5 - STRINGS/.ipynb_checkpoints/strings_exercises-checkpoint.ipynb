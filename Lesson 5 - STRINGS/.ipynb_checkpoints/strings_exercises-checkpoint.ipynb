{
 "cells": [
  {
   "cell_type": "markdown",
   "metadata": {},
   "source": [
    "# Class 5 - Strings: Practice Exercises\n",
    "\n",
    "This notebook contains practice exercises that integrate string concepts with previously learned material (variables, functions, conditionals, and loops). Complete these exercises to strengthen your understanding of Python strings and how they work with other programming concepts."
   ]
  },
  {
   "cell_type": "markdown",
   "metadata": {},
   "source": [
    "## Exercise 1: String Basics with Functions\n",
    "\n",
    "Create a function called `analyze_string` that takes a string as input and returns a dictionary containing:\n",
    "- The length of the string\n",
    "- The first character\n",
    "- The last character\n",
    "- The string in all uppercase\n",
    "- The string in all lowercase"
   ]
  },
  {
   "cell_type": "code",
   "execution_count": null,
   "metadata": {},
   "outputs": [],
   "source": [
    "# Your solution here\n",
    "def analyze_string(text):\n",
    "    # Create and return a dictionary with the requested information\n",
    "    pass\n",
    "\n",
    "# Test your function\n",
    "result = analyze_string(\"Hello World\")\n",
    "print(result)"
   ]
  },
  {
   "cell_type": "markdown",
   "metadata": {},
   "source": [
    "## Exercise 2: Password Validator with Conditionals\n",
    "\n",
    "Create a function called `validate_password` that checks if a password meets the following criteria:\n",
    "- At least 8 characters long\n",
    "- Contains at least one uppercase letter\n",
    "- Contains at least one lowercase letter\n",
    "- Contains at least one digit\n",
    "\n",
    "The function should return `True` if the password is valid and `False` otherwise."
   ]
  },
  {
   "cell_type": "code",
   "execution_count": null,
   "metadata": {},
   "outputs": [],
   "source": [
    "# Your solution here\n",
    "def validate_password(password):\n",
    "    # Check if the password meets all criteria\n",
    "    pass\n",
    "\n",
    "# Test your function with different passwords\n",
    "passwords = [\"abc123\", \"Password123\", \"nodigits\", \"NOLOWERCASE123\", \"nouppercase123\"]\n",
    "for pwd in passwords:\n",
    "    print(f\"Password '{pwd}' is valid: {validate_password(pwd)}\")"
   ]
  },
  {
   "cell_type": "markdown",
   "metadata": {},
   "source": [
    "## Exercise 3: Word Counter with Loops\n",
    "\n",
    "Create a function called `count_words` that takes a string of text and returns a dictionary where:\n",
    "- Keys are the words in the text (case-insensitive)\n",
    "- Values are the number of times each word appears\n",
    "\n",
    "For simplicity, assume words are separated by spaces and ignore punctuation."
   ]
  },
  {
   "cell_type": "code",
   "execution_count": null,
   "metadata": {},
   "outputs": [],
   "source": [
    "# Your solution here\n",
    "def count_words(text):\n",
    "    # Count occurrences of each word\n",
    "    pass\n",
    "\n",
    "# Test your function\n",
    "sample_text = \"This is a test. This is only a test.\"\n",
    "word_counts = count_words(sample_text)\n",
    "print(word_counts)"
   ]
  },
  {
   "cell_type": "markdown",
   "metadata": {},
   "source": [
    "## Exercise 4: String Transformation with Loops and Conditionals\n",
    "\n",
    "Create a function called `transform_text` that takes a string and returns a new string where:\n",
    "- All vowels are replaced with '*'\n",
    "- All digits are replaced with '#'\n",
    "- All other characters remain unchanged"
   ]
  },
  {
   "cell_type": "code",
   "execution_count": null,
   "metadata": {},
   "outputs": [],
   "source": [
    "# Your solution here\n",
    "def transform_text(text):\n",
    "    # Transform the text according to the rules\n",
    "    pass\n",
    "\n",
    "# Test your function\n",
    "sample = \"Hello123 World!\"\n",
    "transformed = transform_text(sample)\n",
    "print(f\"Original: {sample}\")\n",
    "print(f\"Transformed: {transformed}\")"
   ]
  },
  {
   "cell_type": "markdown",
   "metadata": {},
   "source": [
    "## Exercise 5: User Input and String Processing\n",
    "\n",
    "Create a program that:\n",
    "1. Asks the user to enter a sentence\n",
    "2. Counts and displays the number of words in the sentence\n",
    "3. Displays the sentence with the words in reverse order\n",
    "4. Displays the sentence with each word capitalized"
   ]
  },
  {
   "cell_type": "code",
   "execution_count": null,
   "metadata": {},
   "outputs": [],
   "source": [
    "# Your solution here\n",
    "def process_sentence():\n",
    "    # Get user input and process it\n",
    "    pass\n",
    "\n",
    "# Run your program\n",
    "process_sentence()"
   ]
  },
  {
   "cell_type": "markdown",
   "metadata": {},
   "source": [
    "## Exercise 6: String Slicing with Loops\n",
    "\n",
    "Create a function called `generate_substrings` that takes a string and returns a list of all possible substrings of length 3 or more.\n",
    "\n",
    "For example, for the input \"hello\", the output would include: \"hel\", \"ell\", \"llo\", \"hell\", \"ello\", \"hello\"."
   ]
  },
  {
   "cell_type": "code",
   "execution_count": null,
   "metadata": {},
   "outputs": [],
   "source": [
    "# Your solution here\n",
    "def generate_substrings(text):\n",
    "    # Generate all substrings of length 3 or more\n",
    "    pass\n",
    "\n",
    "# Test your function\n",
    "word = \"python\"\n",
    "substrings = generate_substrings(word)\n",
    "print(substrings)"
   ]
  },
  {
   "cell_type": "markdown",
   "metadata": {},
   "source": [
    "## Exercise 7: String Methods and Conditionals\n",
    "\n",
    "Create a function called `categorize_text` that takes a string and determines if it is:\n",
    "- A number (contains only digits)\n",
    "- An email address (contains '@' and ends with .com, .org, .edu, etc.)\n",
    "- A URL (starts with http:// or https://)\n",
    "- Regular text (anything else)\n",
    "\n",
    "The function should return a string indicating the category."
   ]
  },
  {
   "cell_type": "code",
   "execution_count": null,
   "metadata": {},
   "outputs": [],
   "source": [
    "# Your solution here\n",
    "def categorize_text(text):\n",
    "    # Determine the category of the text\n",
    "    pass\n",
    "\n",
    "# Test your function\n",
    "samples = [\"12345\", \"user@example.com\", \"https://python.org\", \"Hello world\"]\n",
    "for sample in samples:\n",
    "    print(f\"\\\"{sample}\\\" is: {categorize_text(sample)}\")"
   ]
  },
  {
   "cell_type": "markdown",
   "metadata": {},
   "source": [
    "## Exercise 8: Caesar Cipher with Loops and String Methods\n",
    "\n",
    "Implement a Caesar cipher encryption and decryption function. In a Caesar cipher, each letter in the plaintext is shifted a certain number of places down the alphabet.\n",
    "\n",
    "For example, with a shift of 1, A would be replaced by B, B would become C, and so on. Create two functions:\n",
    "- `encrypt(text, shift)`: Encrypts the text using the specified shift\n",
    "- `decrypt(text, shift)`: Decrypts the text using the specified shift\n",
    "\n",
    "For simplicity, you can assume the text contains only lowercase letters and spaces (which should remain unchanged)."
   ]
  },
  {
   "cell_type": "code",
   "execution_count": null,
   "metadata": {},
   "outputs": [],
   "source": [
    "# Your solution here\n",
    "def encrypt(text, shift):\n",
    "    # Encrypt the text using Caesar cipher\n",
    "    pass\n",
    "\n",
    "def decrypt(text, shift):\n",
    "    # Decrypt the text using Caesar cipher\n",
    "    pass\n",
    "\n",
    "# Test your functions\n",
    "message = \"hello world\"\n",
    "shift_value = 3\n",
    "encrypted = encrypt(message, shift_value)\n",
    "decrypted = decrypt(encrypted, shift_value)\n",
    "\n",
    "print(f\"Original: {message}\")\n",
    "print(f\"Encrypted: {encrypted}\")\n",
    "print(f\"Decrypted: {decrypted}\")"
   ]
  },
  {
   "cell_type": "markdown",
   "metadata": {},
   "source": [
    "## Exercise 9: String Formatting with Functions\n",
    "\n",
    "Create a function called `format_name` that takes a person's first name, last name, and title (e.g., \"Mr.\", \"Dr.\", \"Ms.\") and returns a formatted string in the following patterns:\n",
    "\n",
    "1. Formal: \"Title FirstName LastName\"\n",
    "2. Casual: \"FirstName LastName\"\n",
    "3. Initial: \"F. LastName\"\n",
    "4. Reversed: \"LastName, FirstName\"\n",
    "\n",
    "The function should take a fourth parameter indicating which format to use."
   ]
  },
  {
   "cell_type": "code",
   "execution_count": null,
   "metadata": {},
   "outputs": [],
   "source": [
    "# Your solution here\n",
    "def format_name(first_name, last_name, title, format_type):\n",
    "    # Format the name according to the specified format\n",
    "    pass\n",
    "\n",
    "# Test your function\n",
    "first = \"John\"\n",
    "last = \"Smith\"\n",
    "title = \"Dr.\"\n",
    "\n",
    "print(format_name(first, last, title, \"formal\"))\n",
    "print(format_name(first, last, title, \"casual\"))\n",
    "print(format_name(first, last, title, \"initial\"))\n",
    "print(format_name(first, last, title, \"reversed\"))"
   ]
  },
  {
   "cell_type": "markdown",
   "metadata": {},
   "source": [
    "## Exercise 10: Advanced String Processing - Text Analyzer\n",
    "\n",
    "Create a comprehensive text analyzer that takes a paragraph of text and returns statistics about it, including:\n",
    "\n",
    "1. Total number of characters (including spaces)\n",
    "2. Total number of characters (excluding spaces)\n",
    "3. Number of words\n",
    "4. Number of sentences (assume sentences end with '.', '!', or '?')\n",
    "5. Average word length\n",
    "6. Average sentence length (in words)\n",
    "7. Most common word (excluding common words like \"the\", \"a\", \"an\", etc.)\n",
    "\n",
    "Use functions, loops, conditionals, and string methods to implement this analyzer."
   ]
  },
  {
   "cell_type": "code",
   "execution_count": null,
   "metadata": {},
   "outputs": [],
   "source": [
    "# Your solution here\n",
    "def analyze_text(text):\n",
    "    # Analyze the text and return statistics\n",
    "    pass\n",
    "\n",
    "# Test your function\n",
    "sample_paragraph = \"\"\"Python is a high-level, general-purpose programming language. Its design philosophy emphasizes code readability with the use of significant indentation. Python is dynamically typed and garbage-collected. It supports multiple programming paradigms, including structured, object-oriented, and functional programming. It is often described as a 'batteries included' language due to its comprehensive standard library!\"\"\"\n",
    "\n",
    "stats = analyze_text(sample_paragraph)\n",
    "for key, value in stats.items():\n",
    "    print(f\"{key}: {value}\")"
   ]
  },
  {
   "cell_type": "markdown",
   "metadata": {},
   "source": [
    "## Bonus Challenge: String-based Mini-Project\n",
    "\n",
    "Create a simple text-based game or utility that makes extensive use of strings. Some ideas include:\n",
    "\n",
    "1. A word guessing game (like Hangman)\n",
    "2. A text adventure game where players navigate by typing commands\n",
    "3. A simple chatbot that responds to user input\n",
    "4. A text encryption/decryption tool with multiple cipher options\n",
    "\n",
    "Be creative and try to incorporate as many string concepts as possible!"
   ]
  },
  {
   "cell_type": "code",
   "execution_count": null,
   "metadata": {},
   "outputs": [],
   "source": [
    "# Your mini-project here\n",
    "def hangman_game():\n",
    "    # Implement a simple Hangman game\n",
    "    pass\n",
    "\n",
    "# Run your game\n",
    "# hangman_game()"
   ]
  }
 ],
 "metadata": {
  "kernelspec": {
   "display_name": "Python 3 (ipykernel)",
   "language": "python",
   "name": "python3"
  },
  "language_info": {
   "codemirror_mode": {
    "name": "ipython",
    "version": 3
   },
   "file_extension": ".py",
   "mimetype": "text/x-python",
   "name": "python",
   "nbconvert_exporter": "python",
   "pygments_lexer": "ipython3",
   "version": "3.12.7"
  }
 },
 "nbformat": 4,
 "nbformat_minor": 4
}
