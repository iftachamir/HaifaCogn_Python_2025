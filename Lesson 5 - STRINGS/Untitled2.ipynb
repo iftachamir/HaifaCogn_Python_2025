{
 "cells": [
  {
   "cell_type": "code",
   "execution_count": null,
   "id": "97e0689d-276f-42b4-a02c-3891b1c7f78b",
   "metadata": {},
   "outputs": [],
   "source": [
    "...\n",
    "for each_vowel in 'aeouiAEOUI':\n",
    "    text = text.replace(each_vowel, '*')"
   ]
  }
 ],
 "metadata": {
  "kernelspec": {
   "display_name": "Python 3 (ipykernel)",
   "language": "python",
   "name": "python3"
  },
  "language_info": {
   "codemirror_mode": {
    "name": "ipython",
    "version": 3
   },
   "file_extension": ".py",
   "mimetype": "text/x-python",
   "name": "python",
   "nbconvert_exporter": "python",
   "pygments_lexer": "ipython3",
   "version": "3.12.7"
  }
 },
 "nbformat": 4,
 "nbformat_minor": 5
}
