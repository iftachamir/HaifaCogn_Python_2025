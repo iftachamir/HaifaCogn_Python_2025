{
 "cells": [
  {
   "cell_type": "markdown",
   "metadata": {},
   "source": [
    "# Class 5 - Strings\n",
    "\n",
    "## Introduction\n",
    "\n",
    "In this notebook, we will explore the `string` data type, one of Python's most versatile and commonly used data types.\n",
    "\n",
    "Strings are sequences of characters used to represent text. They are fundamental to almost every program you'll write, as they allow you to work with text data - from simple messages to complex document processing.\n",
    "\n",
    "Python makes working with text particularly easy and intuitive compared to many other programming languages. By the end of this lesson, you'll be able to create, manipulate, and analyze text data in various ways."
   ]
  },
  {
   "cell_type": "markdown",
   "metadata": {},
   "source": [
    "## The `str` Data Type\n",
    "\n",
    "In Python, text is represented using the `str` (string) data type. Strings are immutable sequences of Unicode characters, which means:\n",
    "- They contain ordered collections of characters\n",
    "- Once created, they cannot be changed (though you can create new strings based on them)\n",
    "- They can represent virtually any text in any language"
   ]
  },
  {
   "cell_type": "markdown",
   "metadata": {},
   "source": [
    "### String Literals\n",
    "\n",
    "To create a string in Python, you enclose text in either single quotes (`'`) or double quotes (`\"`). Both work exactly the same way, allowing you flexibility in your code."
   ]
  },
  {
   "cell_type": "code",
   "execution_count": null,
   "metadata": {},
   "outputs": [],
   "source": [
    "# Creating a string with single quotes\n",
    "'Hello world'"
   ]
  },
  {
   "cell_type": "code",
   "execution_count": null,
   "metadata": {},
   "outputs": [],
   "source": [
    "# Creating a string with double quotes\n",
    "\"Hello world\""
   ]
  },
  {
   "cell_type": "markdown",
   "metadata": {},
   "source": [
    "**Why have two different quote styles?**\n",
    "\n",
    "Having both single and double quotes is useful when your string itself contains quote characters:\n",
    "- Use double quotes when your string contains single quotes\n",
    "- Use single quotes when your string contains double quotes"
   ]
  },
  {
   "cell_type": "code",
   "execution_count": null,
   "metadata": {},
   "outputs": [],
   "source": [
    "# Using double quotes when the string contains a single quote (apostrophe)\n",
    "print(\"I'm learning Python strings\")\n",
    "\n",
    "# Using single quotes when the string contains double quotes\n",
    "print('She said, \"Python is fun!\"')"
   ]
  },
  {
   "cell_type": "markdown",
   "metadata": {},
   "source": [
    "### Quick Exercise\n",
    "\n",
    "Try creating a string that contains both single and double quotes. How would you do it?"
   ]
  },
  {
   "cell_type": "code",
   "execution_count": null,
   "metadata": {},
   "outputs": [],
   "source": [
    "# Your solution here\n",
    "# Example: print(\"He said, 'Python is my favorite language!'\")"
   ]
  },
  {
   "cell_type": "markdown",
   "metadata": {},
   "source": [
    "### String Type\n",
    "\n",
    "We can verify that we're working with strings using the `type()` function, which tells us the data type of any Python object."
   ]
  },
  {
   "cell_type": "code",
   "execution_count": null,
   "metadata": {},
   "outputs": [],
   "source": [
    "# Checking the type of a string literal\n",
    "type('Hello world')"
   ]
  },
  {
   "cell_type": "code",
   "execution_count": null,
   "metadata": {},
   "outputs": [],
   "source": [
    "# Assigning a string to a variable and checking its type\n",
    "s = 'Hello world'\n",
    "type(s)"
   ]
  },
  {
   "cell_type": "markdown",
   "metadata": {},
   "source": [
    "### Converting Other Types to Strings\n",
    "\n",
    "We can convert other data types to strings using the `str()` function. This is useful when you need to combine numbers with text or display numeric values as text."
   ]
  },
  {
   "cell_type": "code",
   "execution_count": null,
   "metadata": {},
   "outputs": [],
   "source": [
    "# Converting a number to a string\n",
    "id_number = str(31234567)\n",
    "type(id_number)"
   ]
  },
  {
   "cell_type": "code",
   "execution_count": null,
   "metadata": {},
   "outputs": [],
   "source": [
    "# Demonstrating that it's now a string by using string multiplication\n",
    "# This repeats the string 3 times (only works with strings, not numbers)\n",
    "id_number * 3"
   ]
  },
  {
   "cell_type": "markdown",
   "metadata": {},
   "source": [
    "## Multi-line Strings and Docstrings\n",
    "\n",
    "Sometimes we need to work with text that spans multiple lines. Python provides several ways to handle this."
   ]
  },
  {
   "cell_type": "code",
   "execution_count": null,
   "metadata": {},
   "outputs": [],
   "source": [
    "# A long string on a single line - can be hard to read in code\n",
    "print('Some variables might be very very very long. You can write them down as a continuous sentence. However this might not be very readable in certain development environments.')"
   ]
  },
  {
   "cell_type": "markdown",
   "metadata": {},
   "source": [
    "### Line Continuation with Backslash\n",
    "\n",
    "You can use the backslash character (`\\`) to indicate that a string continues on the next line. This is useful for breaking up long strings in your code while still treating them as a single line of text."
   ]
  },
  {
   "cell_type": "code",
   "execution_count": null,
   "metadata": {},
   "outputs": [],
   "source": [
    "# Using backslash for line continuation\n",
    "print('Some variables might be very very \\\n",
    "very long. You can write them down as a \\\n",
    "continuous sentence. However this might \\\n",
    "not be very readable in certain \\\n",
    "development environments.')"
   ]
  },
  {
   "cell_type": "markdown",
   "metadata": {},
   "source": [
    "### Triple Quotes for Multi-line Strings\n",
    "\n",
    "A more common approach is to use triple quotes (`'''` or `\"\"\"`) to create multi-line strings. These preserve the line breaks in your text and are especially useful for documentation."
   ]
  },
  {
   "cell_type": "code",
   "execution_count": null,
   "metadata": {},
   "outputs": [],
   "source": [
    "# Using triple quotes for a multi-line string\n",
    "print('''Some variables might be very very\n",
    "very long. You can write them down as a\n",
    "\n",
    "\n",
    "continuous sentence. However this might\n",
    "not be very readable in certain\n",
    "development environments.''')"
   ]
  },
  {
   "cell_type": "markdown",
   "metadata": {},
   "source": [
    "### Docstrings\n",
    "\n",
    "Triple-quoted strings are commonly used for documentation in Python. When placed at the beginning of a function, class, or module, they become \"docstrings\" that describe what the code does.\n",
    "\n",
    "You can access these docstrings using the `help()` function."
   ]
  },
  {
   "cell_type": "code",
   "execution_count": null,
   "metadata": {},
   "outputs": [],
   "source": [
    "# Use the help() function to view the docstring of the max() function\n",
    "help(max)"
   ]
  },
  {
   "cell_type": "markdown",
   "metadata": {},
   "source": [
    "### Quick Exercise\n",
    "\n",
    "Create a function with a docstring that explains what the function does, then use `help()` to view your docstring."
   ]
  },
  {
   "cell_type": "code",
   "execution_count": null,
   "metadata": {},
   "outputs": [],
   "source": [
    "# Your solution here\n",
    "def greet(name):\n",
    "    '''This function takes a name and returns a greeting message.\n",
    "    \n",
    "    Parameters:\n",
    "    name (str): The name to include in the greeting\n",
    "    \n",
    "    Returns:\n",
    "    str: A greeting message\n",
    "    '''\n",
    "    return f\"Hello, {name}!\"\n",
    "\n",
    "# Now view the docstring\n",
    "help(greet)"
   ]
  },
  {
   "cell_type": "markdown",
   "metadata": {},
   "source": [
    "## Characteristics of Strings\n",
    "\n",
    "Strings in Python have three key characteristics:\n",
    "\n",
    "1. **Sequence of Characters**: A string is made up of individual characters.\n",
    "2. **Ordered Collection**: The order of characters matters and is preserved.\n",
    "3. **Fixed Length**: Each string has a specific length (number of characters).\n",
    "\n",
    "These properties allow us to access individual characters, extract portions of strings, and perform various operations on them."
   ]
  },
  {
   "cell_type": "code",
   "execution_count": null,
   "metadata": {},
   "outputs": [],
   "source": [
    "# Creating a string and checking its type\n",
    "s = 'shalom'\n",
    "type(s)"
   ]
  },
  {
   "cell_type": "markdown",
   "metadata": {},
   "source": [
    "### String Length\n",
    "\n",
    "We can find the length of a string (the number of characters it contains) using the `len()` function."
   ]
  },
  {
   "cell_type": "code",
   "execution_count": null,
   "metadata": {},
   "outputs": [],
   "source": [
    "# Finding the length of a string\n",
    "len(s)"
   ]
  },
  {
   "cell_type": "code",
   "execution_count": null,
   "metadata": {},
   "outputs": [],
   "source": [
    "# Another example with spaces\n",
    "s = 'Hello World'\n",
    "print(s)\n",
    "print(len(s))  # Note: spaces count as characters!"
   ]
  },
  {
   "cell_type": "markdown",
   "metadata": {},
   "source": [
    "### String Indexing\n",
    "\n",
    "Since strings are ordered sequences, we can access individual characters using their position or \"index\" in the string. In Python, indexing starts at 0, not 1.\n",
    "\n",
    "Think of a string as a row of mailboxes, numbered starting from 0:\n",
    "\n",
    "```\n",
    "H  e  l  l  o     W  o  r  l  d\n",
    "0  1  2  3  4  5  6  7  8  9  10\n",
    "```"
   ]
  },
  {
   "cell_type": "code",
   "execution_count": null,
   "metadata": {},
   "outputs": [],
   "source": [
    "# Accessing characters by index\n",
    "print(s[0])  # First character\n",
    "print(s[1])  # Second character\n",
    "print(s[-1]) # Last character (negative indices count from the end)"
   ]
  },
  {
   "cell_type": "markdown",
   "metadata": {},
   "source": [
    "### Negative Indexing\n",
    "\n",
    "Python allows negative indices, which count from the end of the string. This is often more convenient than calculating positions from the beginning:\n",
    "\n",
    "```\n",
    "H   e   l   l   o      W   o   r   l   d\n",
    "0   1   2   3   4   5   6   7   8   9   10\n",
    "-11 -10 -9  -8  -7  -6  -5  -4  -3  -2  -1\n",
    "```"
   ]
  },
  {
   "cell_type": "code",
   "execution_count": null,
   "metadata": {},
   "outputs": [],
   "source": [
    "s = 'Indexing in Python'\n",
    "s[-2]  # Second-to-last character"
   ]
  },
  {
   "cell_type": "markdown",
   "metadata": {},
   "source": [
    "### Finding the Last Character\n",
    "\n",
    "There are two common ways to access the last character of a string:"
   ]
  },
  {
   "cell_type": "code",
   "execution_count": null,
   "metadata": {},
   "outputs": [],
   "source": [
    "s = 'abcd'\n",
    "len(s)"
   ]
  },
  {
   "cell_type": "markdown",
   "metadata": {},
   "source": [
    "How do we index the last character in a string if the length changes?"
   ]
  },
  {
   "cell_type": "code",
   "execution_count": null,
   "metadata": {},
   "outputs": [],
   "source": [
    "# Method 1: Calculate the last index\n",
    "s = input()\n",
    "last_index = len(s) - 1\n",
    "print(s[last_index], last_index)"
   ]
  },
  {
   "cell_type": "code",
   "execution_count": null,
   "metadata": {},
   "outputs": [],
   "source": [
    "# Method 2: Use negative indexing (simpler and preferred)\n",
    "print(s[-1])  # Last character\n",
    "print(s[-2])  # Second-to-last character\n",
    "print(s[-3])  # Third-to-last character"
   ]
  },
  {
   "cell_type": "markdown",
   "metadata": {},
   "source": [
    "### Quick Exercise\n",
    "\n",
    "Given a string containing your full name, write code to print your initials (first letter of each name)."
   ]
  },
  {
   "cell_type": "code",
   "execution_count": null,
   "metadata": {},
   "outputs": [],
   "source": [
    "# Your solution here\n",
    "full_name = \"John Adam Smith\"\n",
    "# Expected output: JAS"
   ]
  },
  {
   "cell_type": "markdown",
   "metadata": {},
   "source": [
    "## String Slicing\n",
    "\n",
    "Slicing allows us to extract a portion (substring) of a string. The syntax is:\n",
    "\n",
    "```python\n",
    "string[start:end:step]\n",
    "```\n",
    "\n",
    "Where:\n",
    "- `start` is the index where the slice begins (inclusive)\n",
    "- `end` is the index where the slice ends (exclusive)\n",
    "- `step` is the stride between characters (optional, default is 1)\n",
    "\n",
    "Think of it as specifying \"from position X up to (but not including) position Y, taking every Z character.\""
   ]
  },
  {
   "cell_type": "code",
   "execution_count": null,
   "metadata": {},
   "outputs": [],
   "source": [
    "# Basic substring extraction\n",
    "x = 'keep it simple'\n",
    "x[5:9]  # Characters at indices 5, 6, 7, 8"
   ]
  },
  {
   "cell_type": "code",
   "execution_count": null,
   "metadata": {},
   "outputs": [],
   "source": [
    "# Getting the length of the string\n",
    "len(x)"
   ]
  },
  {
   "cell_type": "markdown",
   "metadata": {},
   "source": [
    "### Omitting Slice Parameters\n",
    "\n",
    "You can omit slice parameters to use their default values:\n",
    "- Omitting `start` defaults to the beginning of the string (index 0)\n",
    "- Omitting `end` defaults to the end of the string\n",
    "- Omitting `step` defaults to 1 (every character)"
   ]
  },
  {
   "cell_type": "code",
   "execution_count": null,
   "metadata": {},
   "outputs": [],
   "source": [
    "# From index 5 to the end\n",
    "print(x[5:len(x)])\n",
    "print(x[5:])  # Equivalent, more concise"
   ]
  },
  {
   "cell_type": "code",
   "execution_count": null,
   "metadata": {},
   "outputs": [],
   "source": [
    "# From beginning to index 5 (not including 5)\n",
    "print(x[:5])\n",
    "print(x[0:5])  # Equivalent"
   ]
  },
  {
   "cell_type": "code",
   "execution_count": null,
   "metadata": {},
   "outputs": [],
   "source": [
    "# The entire string\n",
    "x[:]"
   ]
  },
  {
   "cell_type": "markdown",
   "metadata": {},
   "source": [
    "### Using Step in Slicing\n",
    "\n",
    "The `step` parameter lets you take every nth character in the specified range."
   ]
  },
  {
   "cell_type": "code",
   "execution_count": null,
   "metadata": {},
   "outputs": [],
   "source": [
    "# For reference, here's how range works with a step\n",
    "list(range(2, 20, 3))  # From 2 to 20 (exclusive), step 3"
   ]
  },
  {
   "cell_type": "code",
   "execution_count": null,
   "metadata": {},
   "outputs": [],
   "source": [
    "# Skipping every other character (step 2)\n",
    "x[1:10:2]"
   ]
  },
  {
   "cell_type": "code",
   "execution_count": null,
   "metadata": {},
   "outputs": [],
   "source": [
    "# Taking every third character from the entire string\n",
    "x[::3]"
   ]
  },
  {
   "cell_type": "markdown",
   "metadata": {},
   "source": [
    "### String Indices Must Be Integers\n",
    "\n",
    "Unlike some other programming languages, Python requires string indices to be integers."
   ]
  },
  {
   "cell_type": "code",
   "execution_count": null,
   "metadata": {},
   "outputs": [],
   "source": [
    "# This will cause an error\n",
    "try:\n",
    "    'hello'[2.0]\n",
    "except TypeError as e:\n",
    "    print(f\"Error: {e}\")"
   ]
  },
  {
   "cell_type": "markdown",
   "metadata": {},
   "source": [
    "### Reversing a String\n",
    "\n",
    "One of the most useful applications of the step parameter is reversing a string by using a negative step."
   ]
  },
  {
   "cell_type": "code",
   "execution_count": null,
   "metadata": {},
   "outputs": [],
   "source": [
    "# Original string\n",
    "s = 'abcd'\n",
    "s"
   ]
  },
  {
   "cell_type": "code",
   "execution_count": null,
   "metadata": {},
   "outputs": [],
   "source": [
    "# Reversing a string with a negative step\n",
    "s[::-1]"
   ]
  },
  {
   "cell_type": "markdown",
   "metadata": {},
   "source": [
    "The `[::-1]` slice is a common Python idiom for reversing any sequence. It means \"take all characters from beginning to end, in reverse order.\""
   ]
  },
  {
   "cell_type": "code",
   "execution_count": null,
   "metadata": {},
   "outputs": [],
   "source": [
    "# Original string remains unchanged (strings are immutable)\n",
    "s"
   ]
  },
  {
   "cell_type": "code",
   "execution_count": null,
   "metadata": {},
   "outputs": [],
   "source": [
    "# Other examples of negative step\n",
    "s[:-2]  # All characters except the last two\n",
    "s[::-2]  # Every other character, in reverse"
   ]
  },
  {
   "cell_type": "markdown",
   "metadata": {},
   "source": [
    "### Quick Exercise: Palindrome Checker\n",
    "\n",
    "A palindrome is a word or phrase that reads the same backward as forward. Using string slicing, write code to check if a given string is a palindrome."
   ]
  },
  {
   "cell_type": "code",
   "execution_count": null,
   "metadata": {},
   "outputs": [],
   "source": [
    "# Your solution here\n",
    "def is_palindrome(text):\n",
    "    # Remove spaces and convert to lowercase for a more flexible check\n",
    "    clean_text = text.lower().replace(\" \", \"\")\n",
    "    return clean_text == clean_text[::-1]\n",
    "\n",
    "# Test with some examples\n",
    "test_strings = [\"radar\", \"hello\", \"A man a plan a canal Panama\"]\n",
    "for s in test_strings:\n",
    "    print(f\"\\\"{s}\\\" is a palindrome: {is_palindrome(s)}\")"
   ]
  },
  {
   "cell_type": "markdown",
   "metadata": {},
   "source": [
    "## Combining Strings\n",
    "\n",
    "Python provides several ways to combine or concatenate strings."
   ]
  },
  {
   "cell_type": "markdown",
   "metadata": {},
   "source": [
    "### String Concatenation with the `+` Operator\n",
    "\n",
    "The most basic way to combine strings is using the `+` operator."
   ]
  },
  {
   "cell_type": "code",
   "execution_count": null,
   "metadata": {},
   "outputs": [],
   "source": [
    "# Basic concatenation\n",
    "s = 'Hello'\n",
    "name = 'Danni'\n",
    "x = s + ' ' + name\n",
    "print(x)"
   ]
  },
  {
   "cell_type": "code",
   "execution_count": null,
   "metadata": {},
   "outputs": [],
   "source": [
    "# Direct concatenation of string literals\n",
    "'Hello' + 'World'"
   ]
  },
  {
   "cell_type": "markdown",
   "metadata": {},
   "source": [
    "### String Repetition with the `*` Operator\n",
    "\n",
    "You can repeat a string multiple times using the `*` operator."
   ]
  },
  {
   "cell_type": "code",
   "execution_count": null,
   "metadata": {},
   "outputs": [],
   "source": [
    "# Repeating a string\n",
    "(s + ' ') * 10"
   ]
  },
  {
   "cell_type": "markdown",
   "metadata": {},
   "source": [
    "### String Formatting\n",
    "\n",
    "For more complex string combinations, especially when including variables or expressions, Python offers several formatting methods:\n",
    "\n",
    "1. f-strings (Python 3.6+)\n",
    "2. The `format()` method\n",
    "3. The older `%` operator (similar to C's printf)"
   ]
  },
  {
   "cell_type": "code",
   "execution_count": null,
   "metadata": {},
   "outputs": [],
   "source": [
    "name = \"Alice\"\n",
    "age = 25\n",
    "\n",
    "# f-string (recommended for most cases)\n",
    "print(f\"Hello, {name}! You are {age} years old.\")\n",
    "\n",
    "# format() method\n",
    "print(\"Hello, {}! You are {} years old.\".format(name, age))\n",
    "\n",
    "# % operator (older style)\n",
    "print(\"Hello, %s! You are %d years old.\" % (name, age))"
   ]
  },
  {
   "cell_type": "markdown",
   "metadata": {},
   "source": [
    "## Strings are Immutable\n",
    "\n",
    "One of the most important characteristics of strings in Python is that they are **immutable**, meaning they cannot be changed after creation. Any operation that appears to modify a string actually creates a new string."
   ]
  },
  {
   "cell_type": "code",
   "execution_count": null,
   "metadata": {},
   "outputs": [],
   "source": [
    "# Create a string\n",
    "s = 'Hello'"
   ]
  },
  {
   "cell_type": "code",
   "execution_count": null,
   "metadata": {},
   "outputs": [],
   "source": [
    "# We can access individual characters\n",
    "print(s)\n",
    "s[0]"
   ]
  },
  {
   "cell_type": "code",
   "execution_count": null,
   "metadata": {},
   "outputs": [],
   "source": [
    "# But we cannot modify individual characters\n",
    "try:\n",
    "    s[0] = 'h'\n",
    "except TypeError as e:\n",
    "    print(f\"Error: {e}\")"
   ]
  },
  {
   "cell_type": "markdown",
   "metadata": {},
   "source": [
    "### Working with Immutable Strings\n",
    "\n",
    "To \"modify\" a string, you need to create a new string with the desired changes."
   ]
  },
  {
   "cell_type": "code",
   "execution_count": null,
   "metadata": {},
   "outputs": [],
   "source": [
    "# Creating a new string based on the original\n",
    "s = 'hello'\n",
    "s"
   ]
  },
  {
   "cell_type": "code",
   "execution_count": null,
   "metadata": {},
   "outputs": [],
   "source": [
    "# You can reassign the variable to a new string\n",
    "s = input()\n",
    "s"
   ]
  },
  {
   "cell_type": "code",
   "execution_count": null,
   "metadata": {},
   "outputs": [],
   "source": [
    "# To \"change\" a character, create a new string with the desired modification\n",
    "s2 = s[0] + '#' + s[2:]\n",
    "s2"
   ]
  },
  {
   "cell_type": "markdown",
   "metadata": {},
   "source": [
    "### Quick Exercise\n",
    "\n",
    "Write code to \"censor\" a string by replacing vowels with asterisks (*). For example, \"hello world\" would become \"h*ll* w*rld\"."
   ]
  },
  {
   "cell_type": "code",
   "execution_count": null,
   "metadata": {},
   "outputs": [],
   "source": [
    "# Your solution here\n",
    "def censor_vowels(text):\n",
    "    result = \"\"\n",
    "    vowels = \"aeiouAEIOU\"\n",
    "    for char in text:\n",
    "        if char in vowels:\n",
    "            result += \"*\"\n",
    "        else:\n",
    "            result += char\n",
    "    return result\n",
    "\n",
    "# Test the function\n",
    "original = \"Hello World\"\n",
    "censored = censor_vowels(original)\n",
    "print(f\"Original: {original}\")\n",
    "print(f\"Censored: {censored}\")"
   ]
  },
  {
   "cell_type": "markdown",
   "metadata": {},
   "source": [
    "## String Methods\n",
    "\n",
    "Python strings come with many built-in methods that allow you to manipulate and analyze text. A method is a function that \"belongs to\" an object - in this case, a string."
   ]
  },
  {
   "cell_type": "code",
   "execution_count": null,
   "metadata": {},
   "outputs": [],
   "source": [
    "s = 'hello world'\n",
    "s"
   ]
  },
  {
   "cell_type": "markdown",
   "metadata": {},
   "source": [
    "### Case Conversion Methods\n",
    "\n",
    "Python provides several methods to change the case of strings:"
   ]
  },
  {
   "cell_type": "code",
   "execution_count": null,
   "metadata": {},
   "outputs": [],
   "source": [
    "# Manual case conversion (not recommended)\n",
    "print(s[0:5] + s[5:].upper())"
   ]
  },
  {
   "cell_type": "code",
   "execution_count": null,
   "metadata": {},
   "outputs": [],
   "source": [
    "# Using the upper() method\n",
    "print(s.upper())"
   ]
  },
  {
   "cell_type": "markdown",
   "metadata": {},
   "source": [
    "### Important: Methods Don't Modify the Original String\n",
    "\n",
    "Because strings are immutable, string methods always return a new string. The original string remains unchanged."
   ]
  },
  {
   "cell_type": "code",
   "execution_count": null,
   "metadata": {},
   "outputs": [],
   "source": [
    "# The original string is unchanged\n",
    "s"
   ]
  },
  {
   "cell_type": "code",
   "execution_count": null,
   "metadata": {},
   "outputs": [],
   "source": [
    "# To keep the changes, assign the result back to a variable\n",
    "s = s.upper()\n",
    "print(s)"
   ]
  },
  {
   "cell_type": "markdown",
   "metadata": {},
   "source": [
    "### Common String Methods\n",
    "\n",
    "Here are some of the most useful string methods:"
   ]
  },
  {
   "cell_type": "code",
   "execution_count": null,
   "metadata": {},
   "outputs": [],
   "source": [
    "s = 'Keep it simple'\n",
    "print(s)\n",
    "\n",
    "# split() - Splits a string into a list of substrings\n",
    "s.split()"
   ]
  },
  {
   "cell_type": "code",
   "execution_count": null,
   "metadata": {},
   "outputs": [],
   "source": [
    "# Case conversion methods\n",
    "s = s.upper()\n",
    "print(s)\n",
    "print(s.lower())"
   ]
  },
  {
   "cell_type": "code",
   "execution_count": null,
   "metadata": {},
   "outputs": [],
   "source": [
    "# capitalize() - Capitalizes the first character\n",
    "'keep it SIMPLE'.capitalize()"
   ]
  },
  {
   "cell_type": "code",
   "execution_count": null,
   "metadata": {},
   "outputs": [],
   "source": [
    "# count() - Counts occurrences of a substring\n",
    "s = 'ABBACTTGCCABCAB'\n",
    "s.count('AB')  # Count all occurrences of 'AB'"
   ]
  },
  {
   "cell_type": "code",
   "execution_count": null,
   "metadata": {},
   "outputs": [],
   "source": [
    "# count() with start and end parameters\n",
    "s.count('AB', 2, len(s)-3)  # Count occurrences between positions 2 and len(s)-3"
   ]
  },
  {
   "cell_type": "code",
   "execution_count": null,
   "metadata": {},
   "outputs": [],
   "source": [
    "# replace() - Replaces occurrences of a substring\n",
    "s = 'keep it simple'\n",
    "s.replace('i', 'I')  # Replace all 'i' with 'I'"
   ]
  },
  {
   "cell_type": "code",
   "execution_count": null,
   "metadata": {},
   "outputs": [],
   "source": [
    "# replace() with count parameter\n",
    "s.replace('e', 'E', 2)  # Replace only the first 2 occurrences of 'e'"
   ]
  },
  {
   "cell_type": "code",
   "execution_count": null,
   "metadata": {},
   "outputs": [],
   "source": [
    "# Original string remains unchanged\n",
    "s"
   ]
  },
  {
   "cell_type": "code",
   "execution_count": null,
   "metadata": {},
   "outputs": [],
   "source": [
    "# find() - Returns the lowest index of a substring\n",
    "s.find('p')  # First occurrence of 'p'"
   ]
  },
  {
   "cell_type": "code",
   "execution_count": null,
   "metadata": {},
   "outputs": [],
   "source": [
    "# rfind() - Returns the highest index of a substring (searching from the right)\n",
    "s.rfind('p')  # Last occurrence of 'p'"
   ]
  },
  {
   "cell_type": "markdown",
   "metadata": {},
   "source": [
    "### More Useful String Methods\n",
    "\n",
    "Here are some additional string methods that are frequently used:"
   ]
  },
  {
   "cell_type": "code",
   "execution_count": null,
   "metadata": {},
   "outputs": [],
   "source": [
    "# strip() - Removes whitespace from beginning and end\n",
    "\"   hello world   \".strip()"
   ]
  },
  {
   "cell_type": "code",
   "execution_count": null,
   "metadata": {},
   "outputs": [],
   "source": [
    "# startswith() and endswith() - Check if string starts or ends with a substring\n",
    "filename = \"document.pdf\"\n",
    "print(f\"Starts with 'doc': {filename.startswith('doc')}\")\n",
    "print(f\"Ends with '.pdf': {filename.endswith('.pdf')}\")"
   ]
  },
  {
   "cell_type": "code",
   "execution_count": null,
   "metadata": {},
   "outputs": [],
   "source": [
    "# join() - Combines a list of strings with the string as separator\n",
    "words = [\"Python\", \"is\", \"awesome\"]\n",
    "\" \".join(words)"
   ]
  },
  {
   "cell_type": "code",
   "execution_count": null,
   "metadata": {},
   "outputs": [],
   "source": [
    "# Different separator\n",
    "\"-\".join(words)"
   ]
  },
  {
   "cell_type": "markdown",
   "metadata": {},
   "source": [
    "### Quick Exercise: String Methods\n",
    "\n",
    "Write a function that takes a sentence and returns the same sentence with:\n",
    "1. All words capitalized\n",
    "2. Extra spaces removed\n",
    "3. Periods replaced with exclamation marks"
   ]
  },
  {
   "cell_type": "code",
   "execution_count": null,
   "metadata": {},
   "outputs": [],
   "source": [
    "# Your solution here\n",
    "def transform_sentence(sentence):\n",
    "    # Remove extra spaces and split into words\n",
    "    words = sentence.strip().split()\n",
    "    # Capitalize each word and join back with single spaces\n",
    "    capitalized = \" \".join([word.capitalize() for word in words])\n",
    "    # Replace periods with exclamation marks\n",
    "    result = capitalized.replace(\".\", \"!\")\n",
    "    return result\n",
    "\n",
    "# Test the function\n",
    "original = \"   this is a  simple sentence.  with extra spaces.   \"\n",
    "transformed = transform_sentence(original)\n",
    "print(f\"Original: '{original}'\")\n",
    "print(f\"Transformed: '{transformed}'\")"
   ]
  },
  {
   "cell_type": "markdown",
   "metadata": {},
   "source": [
    "## String Documentation\n",
    "\n",
    "Python provides comprehensive documentation for all string methods. You can access it in several ways:"
   ]
  },
  {
   "cell_type": "code",
   "execution_count": null,
   "metadata": {},
   "outputs": [],
   "source": [
    "# Using help() on the string type\n",
    "help(str)"
   ]
  },
  {
   "cell_type": "code",
   "execution_count": null,
   "metadata": {},
   "outputs": [],
   "source": [
    "# Using help() on a specific string method\n",
    "help(str.replace)"
   ]
  },
  {
   "cell_type": "markdown",
   "metadata": {},
   "source": [
    "You can also find the complete documentation online at:\n",
    "- [Python String Methods](https://docs.python.org/3/library/stdtypes.html#string-methods)\n",
    "\n",
    "For a quick video explanation on methods: https://youtu.be/dbU91k-C5aY"
   ]
  },
  {
   "cell_type": "markdown",
   "metadata": {},
   "source": [
    "## Summary\n",
    "\n",
    "In this lesson, we've covered the fundamental aspects of Python strings:\n",
    "\n",
    "1. **Creating Strings**: Using single or double quotes\n",
    "2. **Multi-line Strings**: Using triple quotes or line continuation\n",
    "3. **String Properties**: Ordered, immutable sequences of characters\n",
    "4. **String Operations**:\n",
    "   - Indexing to access individual characters\n",
    "   - Slicing to extract substrings\n",
    "   - Concatenation to combine strings\n",
    "   - Methods to transform and analyze strings\n",
    "\n",
    "Strings are one of the most commonly used data types in Python and are essential for working with text data, file paths, user input, and much more. The skills you've learned in this lesson will be valuable throughout your Python programming journey."
   ]
  },
  {
   "cell_type": "markdown",
   "metadata": {},
   "source": [
    "## Practice Exercises\n",
    "\n",
    "Here are a few exercises to practice what you've learned. Try to solve them on your own before looking at the solutions."
   ]
  },
  {
   "cell_type": "markdown",
   "metadata": {},
   "source": [
    "### Exercise 1: Name Formatter\n",
    "\n",
    "Write a function that takes a full name (first and last name) and returns it in the format \"Last, First\". For example, \"John Smith\" should become \"Smith, John\"."
   ]
  },
  {
   "cell_type": "code",
   "execution_count": null,
   "metadata": {},
   "outputs": [],
   "source": [
    "# Your solution here\n"
   ]
  },
  {
   "cell_type": "markdown",
   "metadata": {},
   "source": [
    "### Exercise 2: Email Validator\n",
    "\n",
    "Write a function that checks if a string looks like a valid email address. For simplicity, consider an email valid if it contains an @ symbol with text before and after it, and ends with \".com\", \".org\", or \".edu\"."
   ]
  },
  {
   "cell_type": "code",
   "execution_count": null,
   "metadata": {},
   "outputs": [],
   "source": [
    "# Your solution here\n"
   ]
  },
  {
   "cell_type": "markdown",
   "metadata": {},
   "source": [
    "### Exercise 3: Word Counter\n",
    "\n",
    "Write a function that counts the number of words in a sentence. For simplicity, assume words are separated by spaces."
   ]
  },
  {
   "cell_type": "code",
   "execution_count": null,
   "metadata": {},
   "outputs": [],
   "source": [
    "# Your solution here\n"
   ]
  }
 ],
 "metadata": {
  "kernelspec": {
   "display_name": "Python 3 (ipykernel)",
   "language": "python",
   "name": "python3"
  },
  "language_info": {
   "codemirror_mode": {
    "name": "ipython",
    "version": 3
   },
   "file_extension": ".py",
   "mimetype": "text/x-python",
   "name": "python",
   "nbconvert_exporter": "python",
   "pygments_lexer": "ipython3",
   "version": "3.12.7"
  }
 },
 "nbformat": 4,
 "nbformat_minor": 4
}
