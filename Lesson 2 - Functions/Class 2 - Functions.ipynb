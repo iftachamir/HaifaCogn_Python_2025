{
 "cells": [
  {
   "cell_type": "markdown",
   "metadata": {},
   "source": [
    "# Class 6 - Functions"
   ]
  },
  {
   "cell_type": "markdown",
   "metadata": {},
   "source": [
    "## Definition of a function\n",
    "\n",
    "A function is a **named** sequence of **statements** (instructions) that performs a computation. Functions typically, but not always, recieve an **input** value and **return** some value(s)."
   ]
  },
  {
   "cell_type": "markdown",
   "metadata": {},
   "source": [
    "## Calling a Function\n"
   ]
  },
  {
   "cell_type": "code",
   "execution_count": null,
   "metadata": {},
   "outputs": [],
   "source": [
    "round"
   ]
  },
  {
   "cell_type": "markdown",
   "metadata": {},
   "source": [
    "To use, or *call*, a function, you write its name followed by parentheses: `round()`. The parentheses are crucial; they are what tell Python to actually execute the instructions inside the function.\n",
    "\n",
    "Sometimes, you'll pass values (arguments) inside the parentheses. These arguments provide the function with the data it needs to perform its computation."
   ]
  },
  {
   "cell_type": "markdown",
   "metadata": {
    "tags": []
   },
   "source": [
    "Function as an object:"
   ]
  },
  {
   "cell_type": "code",
   "execution_count": null,
   "metadata": {},
   "outputs": [],
   "source": [
    "round(3.1)"
   ]
  },
  {
   "cell_type": "code",
   "execution_count": null,
   "metadata": {},
   "outputs": [],
   "source": [
    "type(round)"
   ]
  },
  {
   "cell_type": "markdown",
   "metadata": {},
   "source": [
    "### _Calling_ a function"
   ]
  },
  {
   "cell_type": "code",
   "execution_count": null,
   "metadata": {},
   "outputs": [],
   "source": [
    "x = round(5.555, 1)"
   ]
  },
  {
   "cell_type": "code",
   "execution_count": null,
   "metadata": {},
   "outputs": [],
   "source": [
    "x"
   ]
  },
  {
   "cell_type": "markdown",
   "metadata": {},
   "source": [
    "## User-Defined Functions\n",
    "\n",
    "So far, we've used built-in functions like `print()` and `type()`. Now, let's learn how to create our own functions.\n",
    "\n",
    "We define a function using the `def` keyword, followed by the function's name, parentheses `()`, and a colon `:`. The code that the function executes (its \"body\") is indented below this line.\n",
    "\n",
    "Here's a simple example:"
   ]
  },
  {
   "cell_type": "code",
   "execution_count": null,
   "metadata": {},
   "outputs": [],
   "source": [
    "def my_function():\n",
    "    print('Hello class')\n",
    "    print(1)\n",
    "    print(2)\n",
    "    print(3)\n"
   ]
  },
  {
   "cell_type": "code",
   "execution_count": null,
   "metadata": {},
   "outputs": [],
   "source": [
    "my_function()"
   ]
  },
  {
   "cell_type": "code",
   "execution_count": null,
   "metadata": {},
   "outputs": [],
   "source": [
    "type(my_function)"
   ]
  },
  {
   "cell_type": "markdown",
   "metadata": {
    "tags": []
   },
   "source": [
    "### Side effects\n",
    "Typically, functions are used to process and then *return* some value. However, sometimes they also influence things \"outside\" the function. The most common example is `print()`. Printing changes the text in the console/terminal, but doesn't necessarily return a value.\n",
    "\n",
    "Saving/modifying data on the computer is also a kind of _function side effect_."
   ]
  },
  {
   "cell_type": "markdown",
   "metadata": {},
   "source": [
    "## Function **input**\n",
    "Functions often need data to work with.  We provide this data through arguments, which are values placed within the parentheses when we call the function."
   ]
  },
  {
   "cell_type": "code",
   "execution_count": null,
   "metadata": {},
   "outputs": [],
   "source": [
    "def print_x_123(x):\n",
    "    print(x+1)\n",
    "    print(x+2)\n",
    "    print(x+3)"
   ]
  },
  {
   "cell_type": "markdown",
   "metadata": {},
   "source": [
    "print_x_123(22)"
   ]
  },
  {
   "cell_type": "markdown",
   "metadata": {},
   "source": [
    "### Exercise\n",
    "Write a function that asks for a user name, and then greets the user."
   ]
  },
  {
   "cell_type": "code",
   "execution_count": null,
   "metadata": {},
   "outputs": [],
   "source": [
    "# How to get user input\n",
    "user_input = input('How old are you?')\n",
    "print(user_input)"
   ]
  },
  {
   "cell_type": "code",
   "execution_count": null,
   "metadata": {},
   "outputs": [],
   "source": [
    "# How to concatenate strings (text)\n",
    "'hello' + 'world'"
   ]
  },
  {
   "cell_type": "code",
   "execution_count": null,
   "metadata": {},
   "outputs": [],
   "source": [
    "# Complete the exercise here.\n",
    "...\n"
   ]
  },
  {
   "cell_type": "markdown",
   "metadata": {},
   "source": [
    "Example:\\\n",
    "Input: `David`\\\n",
    "Output: `Hello David`"
   ]
  },
  {
   "cell_type": "markdown",
   "metadata": {},
   "source": [
    "### Multiple inputs\n",
    "Functions can accept multiple arguments, separated by commas.\n",
    "\n"
   ]
  },
  {
   "cell_type": "code",
   "execution_count": null,
   "metadata": {},
   "outputs": [],
   "source": [
    "def print_x_y_times2_V1(x, y):\n",
    "    \n",
    "    print(f'{y=}')\n",
    "    print(f'{x=}')\n",
    "    \n",
    "    z = x * y * 2\n",
    "    print(z)"
   ]
  },
  {
   "cell_type": "code",
   "execution_count": null,
   "metadata": {},
   "outputs": [],
   "source": [
    "print_x_y_times2_V1(10, 3)"
   ]
  },
  {
   "cell_type": "code",
   "execution_count": null,
   "metadata": {},
   "outputs": [],
   "source": [
    "print_x_y_times2_V1(2)"
   ]
  },
  {
   "cell_type": "markdown",
   "metadata": {},
   "source": [
    "It's important to provide the correct number of arguments when calling a function. If a function expects two arguments, calling it with only one argument will result in an error."
   ]
  },
  {
   "cell_type": "code",
   "execution_count": null,
   "metadata": {},
   "outputs": [],
   "source": [
    "print(x)"
   ]
  },
  {
   "cell_type": "markdown",
   "metadata": {},
   "source": [
    "### Parameters and Arguments\n",
    "**Parameters**: variables listed in the function definition.\\\n",
    "**Arguments**: actual values provided to the function when called.\n"
   ]
  },
  {
   "cell_type": "code",
   "execution_count": null,
   "metadata": {},
   "outputs": [],
   "source": [
    "def greet(name):  # 'name' is a parameter\n",
    "    print(\"Hello, \" + name)\n",
    "\n",
    "greet(\"Marucs\")  # \"Marcus\" is an argument\n"
   ]
  },
  {
   "cell_type": "markdown",
   "metadata": {},
   "source": [
    "### Function Scope and Variable Lifetime\n",
    "##### Local Variables\n",
    "Variables created inside a function are called local variables. They only exist within the function's scope. Once the function finishes, its local variables are cleared.\n",
    "\n",
    "##### Global Variables\n",
    "Variables created outside of any function are global variables. They can be accessed and modified from anywhere in your code, including inside functions."
   ]
  },
  {
   "cell_type": "code",
   "execution_count": null,
   "metadata": {},
   "outputs": [],
   "source": [
    "x = 10  # Global variable\n",
    "\n",
    "def my_function():\n",
    "    y = 5  # Local variable\n",
    "    print(1, x)  # Can access the global variable x\n",
    "    print(2, y)  # Can access the local variable y\n",
    "\n",
    "my_function()\n",
    "print(3, x)  # Output: 10\n",
    "print(4, y)  # This will cause a NameError, y is not defined outside the function\n"
   ]
  },
  {
   "cell_type": "markdown",
   "metadata": {},
   "source": [
    "## Function **output** - Returning a value\n",
    "Functions can send data back to the main program using the return statement. This allows us to use the function's result elsewhere."
   ]
  },
  {
   "cell_type": "code",
   "execution_count": null,
   "metadata": {},
   "outputs": [],
   "source": [
    "def print_x_y_times2_V2(x, y):\n",
    "    \n",
    "    z = x * y * 2\n",
    "    \n",
    "    #print('y = ', y)\n",
    "    #print('x = ', x)\n",
    "    \n",
    "    return(z)"
   ]
  },
  {
   "cell_type": "code",
   "execution_count": null,
   "metadata": {},
   "outputs": [],
   "source": [
    "print_x_y_times2_V2(3, 7)"
   ]
  },
  {
   "cell_type": "code",
   "execution_count": null,
   "metadata": {},
   "outputs": [],
   "source": [
    "abc = print_x_y_times2_V2(3, 7)\n"
   ]
  },
  {
   "cell_type": "code",
   "execution_count": null,
   "metadata": {},
   "outputs": [],
   "source": [
    "abc"
   ]
  },
  {
   "cell_type": "markdown",
   "metadata": {},
   "source": [
    "### Returning multiple values\n",
    "Returning multiple values from a function is done by simply seperating returned values using a `,` .  \n",
    "For example:"
   ]
  },
  {
   "cell_type": "code",
   "execution_count": null,
   "metadata": {},
   "outputs": [],
   "source": [
    "def separate_numbers(x):\n",
    "    \n",
    "    hundreds = x // 100\n",
    "    tens = (x - (hundreds * 100)) // 10\n",
    "    ones = x % 10\n",
    "    \n",
    "    return(hundreds, tens, ones)\n"
   ]
  },
  {
   "cell_type": "code",
   "execution_count": null,
   "metadata": {},
   "outputs": [],
   "source": [
    "result = separate_numbers(931)"
   ]
  },
  {
   "cell_type": "code",
   "execution_count": null,
   "metadata": {},
   "outputs": [],
   "source": [
    "result"
   ]
  },
  {
   "cell_type": "code",
   "execution_count": null,
   "metadata": {},
   "outputs": [],
   "source": [
    "a, b, c = separate_numbers(532)"
   ]
  },
  {
   "cell_type": "code",
   "execution_count": null,
   "metadata": {},
   "outputs": [],
   "source": [
    "c"
   ]
  },
  {
   "cell_type": "markdown",
   "metadata": {},
   "source": [
    "### `return` terminates the function\n",
    "Remember, once python sees the `return` command, it exits/terminates the function. This means no lines of code written after `return` will be processed."
   ]
  },
  {
   "cell_type": "markdown",
   "metadata": {},
   "source": [
    "## Docstrings\n",
    "It's **important** to document your code. When writing a function, write a short explanation what it does, and what's its expected input and output."
   ]
  },
  {
   "cell_type": "code",
   "execution_count": null,
   "metadata": {},
   "outputs": [],
   "source": [
    "help(print)"
   ]
  },
  {
   "cell_type": "code",
   "execution_count": null,
   "metadata": {},
   "outputs": [],
   "source": [
    "def print_x_y_times2(x, y):\n",
    "    \n",
    "    '''This function receives two numeric values. It then multiplies them together,\n",
    "    and multiplies this by two (Z = X*Y*2).\n",
    "    The function returns a numeric variable of the result.'''\n",
    "    \n",
    "    z = x * y * 2\n",
    "    #print(z)\n",
    "    \n",
    "    return(z)"
   ]
  },
  {
   "cell_type": "code",
   "execution_count": null,
   "metadata": {},
   "outputs": [],
   "source": [
    "x = print_x_y_times2(10,2)\n",
    "print(x)"
   ]
  },
  {
   "cell_type": "code",
   "execution_count": null,
   "metadata": {},
   "outputs": [],
   "source": [
    "help(print_x_y_times2)"
   ]
  },
  {
   "cell_type": "code",
   "execution_count": null,
   "metadata": {},
   "outputs": [],
   "source": [
    "help(round)"
   ]
  },
  {
   "cell_type": "code",
   "execution_count": null,
   "metadata": {},
   "outputs": [],
   "source": [
    "def separate_numbers(x):\n",
    "    \n",
    "    \n",
    "    \n",
    "    hundreds = x // 100\n",
    "    tens = (x - (hundreds * 100)) // 10\n",
    "    ones = x - (hundreds * 100) - (tens * 10)\n",
    "    return(hundreds, tens, ones)"
   ]
  },
  {
   "cell_type": "code",
   "execution_count": null,
   "metadata": {},
   "outputs": [],
   "source": [
    "separate_numbers(230)"
   ]
  },
  {
   "cell_type": "code",
   "execution_count": null,
   "metadata": {},
   "outputs": [],
   "source": [
    "help(separate_numbers)"
   ]
  },
  {
   "cell_type": "markdown",
   "metadata": {},
   "source": [
    "## Importing external file functions\n",
    "\n",
    "If you have custom function(s) that you use across different codes/projects, you can move store them in a `.py` file and copy to your work-directory (folder)."
   ]
  },
  {
   "cell_type": "code",
   "execution_count": null,
   "metadata": {},
   "outputs": [],
   "source": [
    "print1234()"
   ]
  },
  {
   "cell_type": "code",
   "execution_count": null,
   "metadata": {},
   "outputs": [],
   "source": [
    "from my_functions import *"
   ]
  },
  {
   "cell_type": "code",
   "execution_count": null,
   "metadata": {
    "tags": []
   },
   "outputs": [],
   "source": [
    "print1234()"
   ]
  },
  {
   "cell_type": "code",
   "execution_count": null,
   "metadata": {},
   "outputs": [],
   "source": [
    "Hello('Class')"
   ]
  },
  {
   "cell_type": "markdown",
   "metadata": {},
   "source": [
    "*Restart Python kernel here - in the menu above: Kernel > Resart kernel..*"
   ]
  },
  {
   "cell_type": "code",
   "execution_count": null,
   "metadata": {},
   "outputs": [],
   "source": [
    "print1234()"
   ]
  },
  {
   "cell_type": "code",
   "execution_count": null,
   "metadata": {},
   "outputs": [],
   "source": [
    "from my_functions import print1234"
   ]
  },
  {
   "cell_type": "code",
   "execution_count": null,
   "metadata": {},
   "outputs": [],
   "source": [
    "print1234()"
   ]
  },
  {
   "cell_type": "code",
   "execution_count": null,
   "metadata": {},
   "outputs": [],
   "source": [
    "Hello('iftach')"
   ]
  },
  {
   "cell_type": "markdown",
   "metadata": {
    "tags": []
   },
   "source": [
    "## Function Scope\n",
    "### LEGB\n",
    "1. Local\n",
    "2. Enclosing\n",
    "3. Global\n",
    "4. Built-in\n",
    "\n",
    "See video (Hebrew): https://youtu.be/wuB1ZiZOqPE"
   ]
  },
  {
   "cell_type": "markdown",
   "metadata": {},
   "source": [
    "### Exercise 1\n",
    "Write a function that asks the user to input:\n",
    "1. Their height in centimeters.\n",
    "2. Their weight in grams\n",
    "\n",
    "The function then:\n",
    "1. Prints their [Body Mass Index](https://en.wikipedia.org/wiki/Body_mass_index) and\n",
    "2. Returns the BMI value as a `float`"
   ]
  },
  {
   "cell_type": "code",
   "execution_count": null,
   "metadata": {},
   "outputs": [],
   "source": [
    "# Define the function\n",
    "def bmi(...):\n",
    "    ...\n",
    "\n",
    "# Call the function\n",
    "weight_g = int(input())\n",
    "height_cm = int(input())\n",
    "b = bmi(...)\n"
   ]
  },
  {
   "cell_type": "code",
   "execution_count": null,
   "metadata": {},
   "outputs": [],
   "source": [
    "b"
   ]
  },
  {
   "cell_type": "markdown",
   "metadata": {},
   "source": [
    "## Exercise 2\n",
    "Write two functions. The first, `celsius_to_farenheit()` that converts celsius to farenheit, the second, `farenheit_to_celsius()` converts farenheit to celsius.\\\n",
    "The user inputs one integer value and returns the converted float value."
   ]
  },
  {
   "cell_type": "code",
   "execution_count": null,
   "metadata": {},
   "outputs": [],
   "source": [
    "def celsius_to_farenheit(...):\n",
    "    ...\n",
    "\n",
    "def farenheit_to_celsius(...):\n",
    "    ..."
   ]
  },
  {
   "cell_type": "code",
   "execution_count": null,
   "metadata": {},
   "outputs": [],
   "source": [
    "celsius_to_farenheit(100)"
   ]
  },
  {
   "cell_type": "code",
   "execution_count": null,
   "metadata": {},
   "outputs": [],
   "source": [
    "farenheit_to_celsius(212)"
   ]
  }
 ],
 "metadata": {
  "kernelspec": {
   "display_name": "Python 3 (ipykernel)",
   "language": "python",
   "name": "python3"
  },
  "language_info": {
   "codemirror_mode": {
    "name": "ipython",
    "version": 3
   },
   "file_extension": ".py",
   "mimetype": "text/x-python",
   "name": "python",
   "nbconvert_exporter": "python",
   "pygments_lexer": "ipython3",
   "version": "3.12.7"
  }
 },
 "nbformat": 4,
 "nbformat_minor": 4
}
