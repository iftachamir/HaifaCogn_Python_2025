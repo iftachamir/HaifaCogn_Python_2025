{
 "cells": [
  {
   "cell_type": "markdown",
   "metadata": {},
   "source": [
    "# Class 9 - **Regular Expressions**\n",
    "This notebook will cover basic principles and syntax for finding text patterns in string variables.\\\n",
    "We will use the `re` package.\\\n",
    "*RE = Regular Expressions.*\n",
    "\n",
    "**Regular expressions** can be used in very complex combinations. For more details and resources, see:\n",
    " - https://docs.python.org/library/re.html\n",
    " - https://www.py4e.com/html3/11-regex\n",
    " - https://developers.google.com/edu/python/regular-expressions\n",
    " - https://regexr.com/"
   ]
  },
  {
   "cell_type": "markdown",
   "metadata": {},
   "source": [
    "Before starting with REs, let's quickly remember built-in string methods."
   ]
  },
  {
   "cell_type": "code",
   "execution_count": 1,
   "metadata": {},
   "outputs": [
    {
     "name": "stdout",
     "output_type": "stream",
     "text": [
      "False\n"
     ]
    },
    {
     "data": {
      "text/plain": [
       "23"
      ]
     },
     "execution_count": 2,
     "metadata": {},
     "output_type": "execute_result"
    }
   ],
   "source": [
    "s = 'David Brent - Age:45 - 0502056655 - TZ:045111912'\n",
    "\n",
    "# Below, fill in the code:\n",
    "## 1. Get a true/false variable indicating whether the string\n",
    "## contains the phone number 0502056655.\n",
    "my_boolean_var = '0502056655' in s\n",
    "print(my_boolean_var)\n",
    "\n",
    "## 2. Get the index of where the phone number starts\n",
    "idx = s.find('0502056655')\n",
    "idx"
   ]
  },
  {
   "cell_type": "code",
   "execution_count": 4,
   "metadata": {},
   "outputs": [
    {
     "data": {
      "text/plain": [
       "'0502056655 - TZ:045111912'"
      ]
     },
     "execution_count": 4,
     "metadata": {},
     "output_type": "execute_result"
    }
   ],
   "source": [
    "s[23:]"
   ]
  },
  {
   "cell_type": "markdown",
   "metadata": {},
   "source": [
    "## `re` package"
   ]
  },
  {
   "cell_type": "code",
   "execution_count": 5,
   "metadata": {},
   "outputs": [],
   "source": [
    "import re"
   ]
  },
  {
   "cell_type": "markdown",
   "metadata": {},
   "source": [
    "### `re.search(SEARCH TERM, STRING)`"
   ]
  },
  {
   "cell_type": "code",
   "execution_count": 6,
   "metadata": {},
   "outputs": [
    {
     "data": {
      "text/plain": [
       "<re.Match object; span=(23, 33), match='0502056655'>"
      ]
     },
     "execution_count": 6,
     "metadata": {},
     "output_type": "execute_result"
    }
   ],
   "source": [
    "s = 'David Brent - Age:45 - 0502056655 - TZ:045111912'\n",
    "m = re.search('0502056655',s)\n",
    "m"
   ]
  },
  {
   "cell_type": "code",
   "execution_count": 7,
   "metadata": {},
   "outputs": [
    {
     "data": {
      "text/plain": [
       "'0502056655'"
      ]
     },
     "execution_count": 7,
     "metadata": {},
     "output_type": "execute_result"
    }
   ],
   "source": [
    "s[23:33]"
   ]
  },
  {
   "cell_type": "markdown",
   "metadata": {},
   "source": [
    "### Match object\n",
    "A match object contains an object (variable) with all the resulting information from the search, e.g.:\n",
    "- Is the searched expression in the string? (Boolean)\n",
    "- What was the found substring?"
   ]
  },
  {
   "cell_type": "code",
   "execution_count": 9,
   "metadata": {},
   "outputs": [
    {
     "data": {
      "text/plain": [
       "re.Match"
      ]
     },
     "execution_count": 9,
     "metadata": {},
     "output_type": "execute_result"
    }
   ],
   "source": [
    "type(m)"
   ]
  },
  {
   "cell_type": "code",
   "execution_count": 8,
   "metadata": {},
   "outputs": [
    {
     "name": "stdout",
     "output_type": "stream",
     "text": [
      "Found!\n"
     ]
    }
   ],
   "source": [
    "s = 'David Brent - Age:45 - 0502056655 - TZ:045111912'\n",
    "m = re.search('0502056655',s)\n",
    "if m:\n",
    "    print('Found!')\n",
    "else:\n",
    "    print('Not found')"
   ]
  },
  {
   "cell_type": "code",
   "execution_count": 10,
   "metadata": {},
   "outputs": [
    {
     "data": {
      "text/plain": [
       "'0502056655'"
      ]
     },
     "execution_count": 10,
     "metadata": {},
     "output_type": "execute_result"
    }
   ],
   "source": [
    "m.group()"
   ]
  },
  {
   "cell_type": "markdown",
   "metadata": {},
   "source": [
    "#### Example"
   ]
  },
  {
   "cell_type": "code",
   "execution_count": 14,
   "metadata": {},
   "outputs": [
    {
     "name": "stdout",
     "output_type": "stream",
     "text": [
      "<re.Match object; span=(31, 33), match='AC'>\n"
     ]
    }
   ],
   "source": [
    "seq = 'GTGGTATTZCTTCGTTGTCTCTGGCGTGGTCACGTTGATTGGTCCGCTATCTGGACCGAAAAAAGTCGTA\\\n",
    "TTCCAAAAATAATACGTATACGTACGCGCGTGAATCACTCGCCACACGACCCAGCGCAGCGCGACAATCG\\\n",
    "AGTGTAGACACATAACATAACTGCCGTAGTCGTCGCCTCCGTGACATCCGCGCCAGCACCAACCCGAATC\\\n",
    "CGGCCGCGTCCCCCGTTTCCAAATCCAATTTCCCCTTTAATTTCGGTGGCTAATATTAGAGTCTTGCGAC\\\n",
    "ATGTTTAGCTTTCTGAAGCGCGAGAAGAACACCCAGGAGGTAGTGGAGAATGTGATCGGCGAGCTGAAGA\\\n",
    "AGATCTATCGGAGCAAGTTGCTGCCGCTGGAGGAGCACTACCAGTTCCACGACTTTCACTCGCCAAAGCT\\\n",
    "CGAGGATCCAGACTTCGATGCGAAGCCCATGATCCTGCTGGTGGGCCAGTACTCCACGGGCAAGACGACC\\\n",
    "TTCATCCGCTATCTGCTGGAACGCGACTTTCCGGGCATTAGAATTGGTCCGGAGCCAACGACGGACCGCT\\\n",
    "TCATCGCCGTGATGTACGACGACAAGGAGGGCGTGATACCGGGCAACGCCCTGGTTGTGGACCCCAAGAA\\\n",
    "GCAGTTCCGGCCGCTGTCCAAGTACGGCAACGCCTTCCTGAATCGCTTCCAATGCAGCAGTGTGGCCTCG\\\n",
    "CCGGTGCTGAACGCCATCTCCATCGTGGACACGCCCGGAATTCTCTCCGGCGAAAAGCAGCGCATCGACA\\\n",
    "GGGGCTACGACTTCACCGGCGTGCTGGAGTGGTTCGCGGAGCGCGTGGACCGCATCATCCTGCTCTTCGA'\n",
    "print(re.search('[A-Z]C',seq))"
   ]
  },
  {
   "cell_type": "markdown",
   "metadata": {},
   "source": [
    "## Meta (/special) characters:\n",
    "`. ^ $ * + ? { } [ ] \\ | ( )`"
   ]
  },
  {
   "cell_type": "markdown",
   "metadata": {},
   "source": [
    "### `[]`\n",
    "a list/set of characters"
   ]
  },
  {
   "cell_type": "code",
   "execution_count": 15,
   "metadata": {},
   "outputs": [
    {
     "data": {
      "text/plain": [
       "'David Brent - Age:45 - 0502056655 - TZ:045111912'"
      ]
     },
     "execution_count": 15,
     "metadata": {},
     "output_type": "execute_result"
    }
   ],
   "source": [
    "s"
   ]
  },
  {
   "cell_type": "code",
   "execution_count": 17,
   "metadata": {},
   "outputs": [
    {
     "data": {
      "text/plain": [
       "<re.Match object; span=(17, 20), match=':45'>"
      ]
     },
     "execution_count": 17,
     "metadata": {},
     "output_type": "execute_result"
    }
   ],
   "source": [
    "# Find the age\n",
    "re.search('Age:[0-9][0-9]',s)"
   ]
  },
  {
   "cell_type": "code",
   "execution_count": 18,
   "metadata": {},
   "outputs": [
    {
     "data": {
      "text/plain": [
       "<re.Match object; span=(17, 20), match=':45'>"
      ]
     },
     "execution_count": 18,
     "metadata": {},
     "output_type": "execute_result"
    }
   ],
   "source": [
    "# Alternately:\n",
    "re.search(':\\d\\d',s)"
   ]
  },
  {
   "cell_type": "code",
   "execution_count": 20,
   "metadata": {},
   "outputs": [
    {
     "data": {
      "text/plain": [
       "<re.Match object; span=(38, 42), match=':045'>"
      ]
     },
     "execution_count": 20,
     "metadata": {},
     "output_type": "execute_result"
    }
   ],
   "source": [
    "s = 'David Brent - Age:45 - 0502056655 - TZ:045111912'\n",
    "re.search('\\d\\d\\d',s)"
   ]
  },
  {
   "cell_type": "code",
   "execution_count": null,
   "metadata": {},
   "outputs": [],
   "source": [
    "s = 'David Brent - Age:45 - 0502056655 - TZ:045111912'\n",
    "pattern = '\\d\\d\\d'\n",
    "re.search(pattern,s)"
   ]
  },
  {
   "cell_type": "markdown",
   "metadata": {},
   "source": [
    "#### Exercise\n",
    "Write a program that checks whether each of the restriction enzymes appears in the sequence. If yes, print the enzyme name, if not print that the enzyme does not appear."
   ]
  },
  {
   "cell_type": "code",
   "execution_count": null,
   "metadata": {},
   "outputs": [],
   "source": [
    "sequence1 = 'atatatccgggatatatcccggatatat'\n",
    "\n",
    "restrictionEnzymes = {}\n",
    "restrictionEnzymes['bamH1'] = ['ggatcc',0]\n",
    "restrictionEnzymes['sma1'] = ['cccggg',2]\n",
    "restrictionEnzymes['nci1'] = ['cc[cg]gg',2]\n",
    "restrictionEnzymes['scrF1'] = ['cc[atcg]gg',2]\n"
   ]
  },
  {
   "cell_type": "code",
   "execution_count": null,
   "metadata": {},
   "outputs": [],
   "source": []
  },
  {
   "cell_type": "markdown",
   "metadata": {},
   "source": [
    "### `.`\n",
    "*any* character"
   ]
  },
  {
   "cell_type": "code",
   "execution_count": 21,
   "metadata": {},
   "outputs": [
    {
     "data": {
      "text/plain": [
       "'David Brent - Age:45 - 0502056655 - TZ:045111912'"
      ]
     },
     "execution_count": 21,
     "metadata": {},
     "output_type": "execute_result"
    }
   ],
   "source": [
    "s"
   ]
  },
  {
   "cell_type": "code",
   "execution_count": 22,
   "metadata": {},
   "outputs": [
    {
     "data": {
      "text/plain": [
       "<re.Match object; span=(23, 33), match='0502056655'>"
      ]
     },
     "execution_count": 22,
     "metadata": {},
     "output_type": "execute_result"
    }
   ],
   "source": [
    "re.search('05........',s)"
   ]
  },
  {
   "cell_type": "code",
   "execution_count": 23,
   "metadata": {},
   "outputs": [
    {
     "data": {
      "text/plain": [
       "<re.Match object; span=(23, 33), match='0502056655'>"
      ]
     },
     "execution_count": 23,
     "metadata": {},
     "output_type": "execute_result"
    }
   ],
   "source": [
    "# Alternately\n",
    "re.search('05.{8}',s)"
   ]
  },
  {
   "cell_type": "markdown",
   "metadata": {},
   "source": [
    "#### EXERCISE\n",
    "Write a `re.search()` command to extract the T.Z."
   ]
  },
  {
   "cell_type": "code",
   "execution_count": 24,
   "metadata": {},
   "outputs": [
    {
     "data": {
      "text/plain": [
       "<re.Match object; span=(36, 48), match='TZ:045111912'>"
      ]
     },
     "execution_count": 24,
     "metadata": {},
     "output_type": "execute_result"
    }
   ],
   "source": [
    "# Write a re.search() command to extract the T.Z. from s variable\n",
    "s = 'David Brent - Age:45 - 0502056655 - TZ:045111912'\n",
    "re.search('TZ:.{9}', s)"
   ]
  },
  {
   "cell_type": "markdown",
   "metadata": {},
   "source": [
    "#### \"Escaping\"\n",
    "What if we are actually looking for the \".\" character? (or any other meta-character)"
   ]
  },
  {
   "cell_type": "code",
   "execution_count": 25,
   "metadata": {},
   "outputs": [
    {
     "data": {
      "text/plain": [
       "<re.Match object; span=(67, 68), match='.'>"
      ]
     },
     "execution_count": 25,
     "metadata": {},
     "output_type": "execute_result"
    }
   ],
   "source": [
    "s = 'David Brent - Age:45 - 0502056655 - TZ:045111912 - davidbrent@gmail.net'\n",
    "re.search('\\.',s)"
   ]
  },
  {
   "cell_type": "code",
   "execution_count": 26,
   "metadata": {},
   "outputs": [
    {
     "data": {
      "text/plain": [
       "<re.Match object; span=(67, 71), match='.net'>"
      ]
     },
     "execution_count": 26,
     "metadata": {},
     "output_type": "execute_result"
    }
   ],
   "source": [
    "re.search('\\.[a-zA-Z]+',s)"
   ]
  },
  {
   "cell_type": "markdown",
   "metadata": {},
   "source": [
    "### `^`\n",
    "negative of a character"
   ]
  },
  {
   "cell_type": "code",
   "execution_count": 30,
   "metadata": {},
   "outputs": [],
   "source": [
    "s = 'David Brent - Age:45 - 0502056655 - TZ:045111912 - davidbrent@gmail.net'"
   ]
  },
  {
   "cell_type": "code",
   "execution_count": 31,
   "metadata": {},
   "outputs": [
    {
     "data": {
      "text/plain": [
       "<re.Match object; span=(13, 14), match='-'>"
      ]
     },
     "execution_count": 31,
     "metadata": {},
     "output_type": "execute_result"
    }
   ],
   "source": [
    "re.search('[^a-zA-Z ]',s)"
   ]
  },
  {
   "cell_type": "markdown",
   "metadata": {},
   "source": [
    "#### EXERCISE\n",
    "In the sequence below, there is one character that is not a valid nucleotide.\\\n",
    "Write a `re.search()` command to find its location."
   ]
  },
  {
   "cell_type": "code",
   "execution_count": 32,
   "metadata": {},
   "outputs": [
    {
     "data": {
      "text/plain": [
       "<re.Match object; span=(208, 209), match='I'>"
      ]
     },
     "execution_count": 32,
     "metadata": {},
     "output_type": "execute_result"
    }
   ],
   "source": [
    "seq = 'GTGGTATTTCTTCGTTGTCTCTGGCGTGGTCACGTTGATTGGTCCGCTATCTGGACCGAAAAAAGTCGTA\\\n",
    "TTCCAAAAATAATACGTATACGTACGCGCGTGAATCACTCGCCACACGACCCAGCGCAGCGCGACAATCG\\\n",
    "AGTGTAGACACATAACATAACTGCCGTAGTCGTCGCCTCCGTGACATCCGCGCCAGCACCAACCCGAAIC\\\n",
    "CGGCCGCGTCCCCCGTTTCCAAATCCAATTTCCCCTTTAATTTCGGTGGCTAATATTAGAGTCTTGCGAC\\\n",
    "ATGTTTAGCTTTCTGAAGCGCGAGAAGAACACCCAGGAGGTAGTGGAGAATGTGATCGGCGAGCTGAAGA\\\n",
    "AGATCTATCGGAGCAAGTTGCTGCCGCTGGAGGAGCACTACCAGTTCCACGACTTTCACTCGCCAAAGCT\\\n",
    "CGAGGATCCAGACTTCGATGCGAAGCCCATGATCCTGCTGGTGGGCCAGTACTCCACGGGCAAGACGACC\\\n",
    "TTCATCCGCTATCTGCTGGAACGCGACTTTCCGGGCATTAGAATTGGTCCGGAGCCAACGACGGACCGCT\\\n",
    "TCATCGCCGTGATGTACGACGACAAGGAGGGCGTGATACCGGGCAACGCCCTGGTTGTGGACCCCAAGAA\\\n",
    "GCAGTTCCGGCCGCTGTCCAAGTACGGCAACGCCTTCCTGAATCGCTTCCAATGCAGCAGTGTGGCCTCG\\\n",
    "CCGGTGCTGAACGCCATCTCCATCGTGGACACGCCCGGAATTCTCTCCGGCGAAAAGCAGCGCATCGACA\\\n",
    "GGGGCTACGACTTCACCGGCGTGCTGGAGTGGTTCGCGGAGCGCGTGGACCGCATCATCCTGCTCTTCGA'\n",
    "re.search('[^ACGT]', seq)"
   ]
  },
  {
   "cell_type": "markdown",
   "metadata": {},
   "source": [
    "### `\\s`\n",
    "Whitespace"
   ]
  },
  {
   "cell_type": "code",
   "execution_count": 34,
   "metadata": {},
   "outputs": [
    {
     "data": {
      "text/plain": [
       "'David  Brent - Age:45 - 0502056655 - TZ:045111912 - davidbrent@gmail.net'"
      ]
     },
     "execution_count": 34,
     "metadata": {},
     "output_type": "execute_result"
    }
   ],
   "source": [
    "s"
   ]
  },
  {
   "cell_type": "code",
   "execution_count": 33,
   "metadata": {},
   "outputs": [
    {
     "data": {
      "text/plain": [
       "<re.Match object; span=(5, 6), match=' '>"
      ]
     },
     "execution_count": 33,
     "metadata": {},
     "output_type": "execute_result"
    }
   ],
   "source": [
    "re.search('\\s',s)\n"
   ]
  },
  {
   "cell_type": "code",
   "execution_count": null,
   "metadata": {},
   "outputs": [],
   "source": []
  },
  {
   "cell_type": "markdown",
   "metadata": {},
   "source": [
    "#### Upper and lower case meta-characters (`\\s` vs. `\\S`)\n",
    "Upper (capitalized) meta-characters are the negation - so think of `\\S` as `not('\\s')`"
   ]
  },
  {
   "cell_type": "code",
   "execution_count": 35,
   "metadata": {},
   "outputs": [
    {
     "name": "stdout",
     "output_type": "stream",
     "text": [
      "This string starts with a word - \"This\"\n",
      "\tThis string started with a tab\n"
     ]
    }
   ],
   "source": [
    "l = ['This string starts with a word - \"This\"', '\\tThis string started with a tab']\n",
    "print(l[0])\n",
    "print(l[1])"
   ]
  },
  {
   "cell_type": "code",
   "execution_count": 36,
   "metadata": {},
   "outputs": [
    {
     "name": "stdout",
     "output_type": "stream",
     "text": [
      "<re.Match object; span=(4, 5), match=' '>\n",
      "<re.Match object; span=(0, 1), match='\\t'>\n"
     ]
    }
   ],
   "source": [
    "print(re.search('\\s',l[0]))\n",
    "print(re.search('\\s',l[1]))"
   ]
  },
  {
   "cell_type": "code",
   "execution_count": null,
   "metadata": {},
   "outputs": [],
   "source": [
    "print(re.search('\\S',l[0]))\n",
    "print(re.search('\\S',l[1]))"
   ]
  },
  {
   "cell_type": "code",
   "execution_count": 37,
   "metadata": {},
   "outputs": [
    {
     "data": {
      "text/plain": [
       "<re.Match object; span=(0, 1), match='0'>"
      ]
     },
     "execution_count": 37,
     "metadata": {},
     "output_type": "execute_result"
    }
   ],
   "source": [
    "s = '05020555555-is my phone number'\n",
    "re.search('\\d',s)"
   ]
  },
  {
   "cell_type": "code",
   "execution_count": 38,
   "metadata": {},
   "outputs": [
    {
     "data": {
      "text/plain": [
       "<re.Match object; span=(11, 12), match='-'>"
      ]
     },
     "execution_count": 38,
     "metadata": {},
     "output_type": "execute_result"
    }
   ],
   "source": [
    "re.search('\\D',s)"
   ]
  },
  {
   "cell_type": "markdown",
   "metadata": {},
   "source": [
    "## Quantifiers\n",
    "How many times the portion must appear:\n",
    "- `*` zero or more occurences\n",
    "- `+` one or more occurences\n",
    "- `?` one or zero (none) occurences"
   ]
  },
  {
   "cell_type": "code",
   "execution_count": 39,
   "metadata": {},
   "outputs": [
    {
     "data": {
      "text/plain": [
       "<re.Match object; span=(10, 13), match='CAG'>"
      ]
     },
     "execution_count": 40,
     "metadata": {},
     "output_type": "execute_result"
    }
   ],
   "source": [
    "seq = 'TGCACAAGGGCAGGAACTCATCAAATCGAAACTGCCCAACTCGGTGCTCAGCAAGATCTGGAAACTGTCGGAC'\n",
    "re.search('CA+[GT]',seq)"
   ]
  },
  {
   "cell_type": "code",
   "execution_count": 41,
   "metadata": {},
   "outputs": [
    {
     "data": {
      "text/plain": [
       "<re.Match object; span=(0, 3), match='999'>"
      ]
     },
     "execution_count": 41,
     "metadata": {},
     "output_type": "execute_result"
    }
   ],
   "source": [
    "s = '9990'\n",
    "m = re.search('9+',s)\n",
    "m"
   ]
  },
  {
   "cell_type": "code",
   "execution_count": null,
   "metadata": {},
   "outputs": [],
   "source": [
    "m.end() - m.start()"
   ]
  },
  {
   "cell_type": "markdown",
   "metadata": {},
   "source": [
    "#### Exercise\n",
    "Find a sequence that starts with G, ends with A, and in-between has at least one occurence of C."
   ]
  },
  {
   "cell_type": "code",
   "execution_count": null,
   "metadata": {},
   "outputs": [],
   "source": [
    "# Find a sequence that starts with G, ends with A,\n",
    "# and in-between has at least one occurence of C.\n",
    "seq = 'TGTTTTTTAAGGGCCCCCCCCCCAGGAACTCATCAAATCGAAACTGCCCAACTCGGTGCTCAGCAAGATCTGGAAACTGTCGGAC'\n",
    "...\n",
    "m"
   ]
  },
  {
   "cell_type": "markdown",
   "metadata": {},
   "source": [
    "### `.*`\n",
    "Use to find any 'fillers'."
   ]
  },
  {
   "cell_type": "code",
   "execution_count": 42,
   "metadata": {},
   "outputs": [
    {
     "name": "stdout",
     "output_type": "stream",
     "text": [
      "<re.Match object; span=(4, 61), match='AAGCAGGAACTCATCAAATCGAAACTGCCCAACTCGGTGCTCAGCAAGA>\n"
     ]
    },
    {
     "data": {
      "text/plain": [
       "'AAGCAGGAACTCATCAAATCGAAACTGCCCAACTCGGTGCTCAGCAAGATCTGGAAA'"
      ]
     },
     "execution_count": 42,
     "metadata": {},
     "output_type": "execute_result"
    }
   ],
   "source": [
    "seq = 'TGCCAAGCAGGAACTCATCAAATCGAAACTGCCCAACTCGGTGCTCAGCAAGATCTGGAAACTGTCGGAC'\n",
    "m = re.search('AA.*AA',seq)\n",
    "print(m)\n",
    "m.group()"
   ]
  },
  {
   "cell_type": "code",
   "execution_count": 43,
   "metadata": {},
   "outputs": [
    {
     "data": {
      "text/plain": [
       "57"
      ]
     },
     "execution_count": 43,
     "metadata": {},
     "output_type": "execute_result"
    }
   ],
   "source": [
    "len(m.group())"
   ]
  },
  {
   "cell_type": "markdown",
   "metadata": {},
   "source": [
    "`.*` is **greedy**. What if we want the *shortest* sequence?"
   ]
  },
  {
   "cell_type": "code",
   "execution_count": 44,
   "metadata": {},
   "outputs": [
    {
     "data": {
      "text/plain": [
       "<re.Match object; span=(4, 13), match='AAGCAGGAA'>"
      ]
     },
     "execution_count": 44,
     "metadata": {},
     "output_type": "execute_result"
    }
   ],
   "source": [
    "re.search('AA.*?AA',seq)"
   ]
  },
  {
   "cell_type": "markdown",
   "metadata": {},
   "source": [
    "### `{number of repetitions}` or `{minimum,maximum}`\n",
    "Set length of spaces"
   ]
  },
  {
   "cell_type": "code",
   "execution_count": null,
   "metadata": {},
   "outputs": [],
   "source": [
    "sequence1 = 'atatatccgggatatatcccggatatatccgga'\n",
    "re.findall('cc.{3}', sequence1)"
   ]
  },
  {
   "cell_type": "code",
   "execution_count": 45,
   "metadata": {},
   "outputs": [
    {
     "data": {
      "text/plain": [
       "<re.Match object; span=(4, 28), match='AAGCAGGAACTCATCAAATCGAAA'>"
      ]
     },
     "execution_count": 45,
     "metadata": {},
     "output_type": "execute_result"
    }
   ],
   "source": [
    "seq = 'TGCCAAGCAGGAACTCATCAAATCGAAACTGCCCAACTCGGTGCTCAGCAAGATCTGGAAACTGTCGGAC'\n",
    "m = re.search('AA.{10,20}AA', seq)\n",
    "m"
   ]
  },
  {
   "cell_type": "code",
   "execution_count": null,
   "metadata": {},
   "outputs": [],
   "source": [
    "len(m.group())"
   ]
  },
  {
   "cell_type": "markdown",
   "metadata": {},
   "source": [
    "#### Exercise\n",
    "Find *all* sequences that are flanked (begin with and end with) 'AA' and are between 7 and 14 characters (neucleotides) long"
   ]
  },
  {
   "cell_type": "code",
   "execution_count": null,
   "metadata": {},
   "outputs": [],
   "source": [
    "seq = 'TGCCAAGCAGGAACTCATCAAATCGAAACTGCCCAACTCGGTGCTCAGCAAGATCTGGAAACTGTCGGAC'\n"
   ]
  },
  {
   "cell_type": "markdown",
   "metadata": {},
   "source": [
    "## Grouping `(regexp)`"
   ]
  },
  {
   "cell_type": "code",
   "execution_count": null,
   "metadata": {},
   "outputs": [],
   "source": [
    "seq = 'TGCCAAGCAGGAACTCTCTACAAATCGAAACTGCCCAACTCGGTGCTCAGCAAGATCTGGAAACTGTCGGAC'\n",
    "re.search('(CT.*)|()',seq)"
   ]
  },
  {
   "cell_type": "markdown",
   "metadata": {},
   "source": [
    "Grouping works well with the OR condition - `|`"
   ]
  },
  {
   "cell_type": "code",
   "execution_count": null,
   "metadata": {},
   "outputs": [],
   "source": [
    "m = re.findall('A.{2,10}A',seq)\n",
    "for each_match in m:\n",
    "    idx = seq.find(each_match)\n",
    "    print(each_match, idx)"
   ]
  },
  {
   "cell_type": "markdown",
   "metadata": {},
   "source": [
    "## `re.findall()`\n",
    "`findall()` is similar to `search()`, but it doesn't stop at the first match. Instead, it returns all the matches in the string."
   ]
  },
  {
   "cell_type": "code",
   "execution_count": 46,
   "metadata": {},
   "outputs": [
    {
     "name": "stdout",
     "output_type": "stream",
     "text": [
      "TGCCAAGCAGGAACTCATCAAATCGAAACTGCCCAACTCGGTGCTCAGCAAGATCTGGAAACTGTCGGAC\n"
     ]
    },
    {
     "data": {
      "text/plain": [
       "['AAGCAGGAA', 'AAATCGAA', 'AACTCGGTGCTCAGCAA']"
      ]
     },
     "execution_count": 46,
     "metadata": {},
     "output_type": "execute_result"
    }
   ],
   "source": [
    "print(seq)\n",
    "re.findall('AA.*?AA',seq)"
   ]
  },
  {
   "cell_type": "markdown",
   "metadata": {},
   "source": [
    "Note that the above returned list *does not* contain overlapping sequences.\\\n",
    "If you want overlaps, you will need to (first time [install](https://youtu.be/PPKj9ic5MmI)) and import `regex` package. `regex` is a third-party python package."
   ]
  },
  {
   "cell_type": "code",
   "execution_count": 47,
   "metadata": {},
   "outputs": [],
   "source": [
    "import regex"
   ]
  },
  {
   "cell_type": "code",
   "execution_count": 48,
   "metadata": {},
   "outputs": [
    {
     "data": {
      "text/plain": [
       "'TGCCAAGCAGGAACTCATCAAATCGAAACTGCCCAACTCGGTGCTCAGCAAGATCTGGAAACTGTCGGAC'"
      ]
     },
     "execution_count": 48,
     "metadata": {},
     "output_type": "execute_result"
    }
   ],
   "source": [
    "seq"
   ]
  },
  {
   "cell_type": "code",
   "execution_count": 49,
   "metadata": {},
   "outputs": [
    {
     "data": {
      "text/plain": [
       "['AAGCAGGAA',\n",
       " 'AACTCATCAA',\n",
       " 'AAATCGAA',\n",
       " 'AATCGAA',\n",
       " 'AAACTGCCCAA',\n",
       " 'AACTGCCCAA',\n",
       " 'AACTCGGTGCTCAGCAA',\n",
       " 'AAGATCTGGAA']"
      ]
     },
     "execution_count": 49,
     "metadata": {},
     "output_type": "execute_result"
    }
   ],
   "source": [
    "m = regex.findall('AA.*?AA', seq, overlapped=True)\n",
    "m"
   ]
  },
  {
   "cell_type": "markdown",
   "metadata": {},
   "source": [
    "Great, we have also overlapping sequences.\\\n",
    "But, what we didn't get with either `re` or `regex` is the **indices of where in the sequence** the substring is..."
   ]
  },
  {
   "cell_type": "markdown",
   "metadata": {},
   "source": [
    "## `re.finditer()`"
   ]
  },
  {
   "cell_type": "code",
   "execution_count": 50,
   "metadata": {},
   "outputs": [
    {
     "name": "stdout",
     "output_type": "stream",
     "text": [
      "Sequence: TGCCAAGCAGGAACTCATCAAATCGAAACTGCCCAACTCGGTGCTCAGCAAGATCTGGAAACTGTCGGAC\n"
     ]
    },
    {
     "data": {
      "text/plain": [
       "<callable_iterator at 0x270b947fd90>"
      ]
     },
     "execution_count": 50,
     "metadata": {},
     "output_type": "execute_result"
    }
   ],
   "source": [
    "print('Sequence:', seq)\n",
    "m_iter = re.finditer('AA.*?AA',seq)\n",
    "m_iter"
   ]
  },
  {
   "cell_type": "code",
   "execution_count": null,
   "metadata": {},
   "outputs": [],
   "source": [
    "next(m_iter)"
   ]
  },
  {
   "cell_type": "code",
   "execution_count": 51,
   "metadata": {},
   "outputs": [
    {
     "name": "stdout",
     "output_type": "stream",
     "text": [
      "Sequence: TGCCAAGCAGGAACTCATCAAATCGAAACTGCCCAACTCGGTGCTCAGCAAGATCTGGAAACTGTCGGAC\n",
      "AAGCAGGAA 4 13\n",
      "AAATCGAA 19 27\n",
      "AACTCGGTGCTCAGCAA 34 51\n"
     ]
    }
   ],
   "source": [
    "print('Sequence:', seq)\n",
    "m_iter = re.finditer('AA.*?AA',seq)\n",
    "for each_match in m_iter:\n",
    "    print(each_match.group(), each_match.start(), each_match.end())"
   ]
  },
  {
   "cell_type": "markdown",
   "metadata": {},
   "source": [
    "## Exercises"
   ]
  },
  {
   "cell_type": "markdown",
   "metadata": {},
   "source": [
    "Write an 'email verifying program'. The program that asks a user to input an email address, and the program checks if it:\n",
    "1. Contains a @ character\n",
    "2. Has a string before and after the @\n",
    "4. The string after @ is followed by either .com, .net, or .co.il"
   ]
  },
  {
   "cell_type": "code",
   "execution_count": null,
   "metadata": {},
   "outputs": [],
   "source": []
  },
  {
   "cell_type": "code",
   "execution_count": null,
   "metadata": {},
   "outputs": [],
   "source": []
  }
 ],
 "metadata": {
  "kernelspec": {
   "display_name": "Python 3 (ipykernel)",
   "language": "python",
   "name": "python3"
  },
  "language_info": {
   "codemirror_mode": {
    "name": "ipython",
    "version": 3
   },
   "file_extension": ".py",
   "mimetype": "text/x-python",
   "name": "python",
   "nbconvert_exporter": "python",
   "pygments_lexer": "ipython3",
   "version": "3.9.7"
  }
 },
 "nbformat": 4,
 "nbformat_minor": 4
}
