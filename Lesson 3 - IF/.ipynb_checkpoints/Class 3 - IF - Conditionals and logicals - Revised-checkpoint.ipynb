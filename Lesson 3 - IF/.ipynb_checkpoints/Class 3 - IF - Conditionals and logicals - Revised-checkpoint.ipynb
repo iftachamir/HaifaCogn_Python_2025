{
 "cells": [
  {
   "cell_type": "markdown",
   "id": "7ab4538a",
   "metadata": {},
   "source": [
    "\n",
    "## Conditionals\n",
    "\n",
    "Conditionals help Python programs make decisions based on certain conditions or criteria. Just like in real life—\"If it's raining, take an umbrella\"—we use conditions to control the flow of code.\n"
   ]
  },
  {
   "cell_type": "markdown",
   "id": "d2bbe097",
   "metadata": {},
   "source": [
    "\n",
    "## Boolean Expressions\n",
    "\n",
    "A boolean expression evaluates to either `True` or `False`. It's used by Python to determine which action to take next, especially in conditional statements.\n",
    "\n",
    "**Exercise:** Evaluate the following expressions manually, then confirm using Python:\n",
    "- `3 == 3`\n",
    "- `4 != 4`\n",
    "- `\"hello\" == \"Hello\"`\n",
    "- `10 >= 2 * 5`\n"
   ]
  },
  {
   "cell_type": "markdown",
   "id": "2cd933f6",
   "metadata": {},
   "source": [
    "\n",
    "### Comparison operators\n",
    "\n",
    "| Operator | Meaning                | Example      | Result |\n",
    "|----------|------------------------|--------------|--------|\n",
    "| `==`     | Equal                  | `2 == 2`     | `True` |\n",
    "| `!=`     | Not equal              | `3 != 2`     | `True` |\n",
    "| `>`      | Greater than           | `5 > 3`      | `True` |\n",
    "| `<`      | Less than              | `2 < 3`      | `True` |\n",
    "| `>=`     | Greater than or equal  | `5 >= 5`     | `True` |\n",
    "| `<=`     | Less than or equal     | `3 <= 4`     | `True` |\n"
   ]
  },
  {
   "cell_type": "markdown",
   "id": "8785c6bb",
   "metadata": {},
   "source": [
    "\n",
    "### Logical operators\n",
    "\n",
    "Logical operators (`and`, `or`, `not`) combine multiple boolean expressions to form more complex conditions:\n",
    "- `and`: True if both conditions are True.\n",
    "- `or`: True if at least one condition is True.\n",
    "- `not`: Reverses the truth value of a condition.\n",
    "\n",
    "**Exercise:** Predict the outcome, then verify in Python:\n",
    "- `(5 > 3) and (2 < 1)`\n",
    "- `(5 > 3) or (2 < 1)`\n",
    "- `not(5 > 3)`\n"
   ]
  },
  {
   "cell_type": "markdown",
   "id": "5e693ae5",
   "metadata": {},
   "source": [
    "\n",
    "## Conditional execution\n",
    "\n",
    "Conditional execution means executing code only when certain conditions are met. Python uses the `if` statement for this, and indentation defines what code belongs inside the `if`.\n"
   ]
  },
  {
   "cell_type": "markdown",
   "id": "c536cd6a",
   "metadata": {},
   "source": [
    "\n",
    "### Indentation and Whitespace in Conditionals\n",
    "In Python, indentation indicates what code belongs inside a conditional:\n",
    "\n",
    "```python\n",
    "x = 100\n",
    "\n",
    "if x == 102:\n",
    "    print('ABCD')   # inside 'if'\n",
    "    print(123)      # inside 'if'\n",
    "    print(x)        # inside 'if'\n",
    "\n",
    "print('Goodbye')    # outside 'if', executes regardless\n",
    "```\n",
    "\n",
    "Only indented lines execute conditionally. Non-indented lines always run.\n",
    "\n",
    "**Exercise:** Change the value of `x` to `102` and run the cell again. Explain the difference.\n"
   ]
  },
  {
   "cell_type": "markdown",
   "id": "fd7c45d8",
   "metadata": {},
   "source": [
    "\n",
    "## Alternative execution\n",
    "\n",
    "The `else` statement allows Python to execute alternative code if the condition in an `if` statement evaluates to False.\n",
    "\n",
    "**Exercise:** Write a short program that checks if a number is odd or even using an `if` and `else`.\n"
   ]
  },
  {
   "cell_type": "markdown",
   "id": "acc57f64",
   "metadata": {},
   "source": [
    "\n",
    "## Chained conditionals\n",
    "\n",
    "Chained conditionals (`elif`) let Python test multiple conditions sequentially. Only the first true condition’s block executes.\n",
    "\n",
    "**Exercise:** Write a program that categorizes a given test score into letter grades (A, B, C, D, F).\n"
   ]
  },
  {
   "cell_type": "markdown",
   "id": "cff5c8bd",
   "metadata": {},
   "source": [
    "\n",
    "## Nested conditionals\n",
    "\n",
    "Nested conditionals are conditionals within other conditionals. They allow checking multiple layers of conditions, but can reduce readability if overused. Aim for clarity!\n",
    "\n",
    "**Exercise:** Write a nested conditional that first checks if a user is older than 18, then checks if they have a driving license, and prints whether they are legally allowed to drive.\n"
   ]
  },
  {
   "cell_type": "markdown",
   "id": "03c124cf",
   "metadata": {},
   "source": [
    "\n",
    "## Conditionals and computations\n",
    "\n",
    "Conditionals aren’t just for displaying messages. They can influence computations and control program logic by assigning different values or performing different operations depending on conditions.\n",
    "\n",
    "**Exercise:** Write code to calculate the absolute value of a number entered by the user without using Python's built-in `abs()` function.\n"
   ]
  },
  {
   "cell_type": "markdown",
   "id": "6ce955e5",
   "metadata": {},
   "source": [
    "\n",
    "## Nested and chained conditionals\n",
    "\n",
    "Use chained (`elif`) when conditions are mutually exclusive and nested when subsequent conditions depend on previous ones.\n",
    "\n",
    "**Exercise:** Create a nested and chained conditional structure to check:\n",
    "- If a number is positive or negative\n",
    "- If positive, check if it's odd or even\n"
   ]
  },
  {
   "cell_type": "markdown",
   "id": "697e0061",
   "metadata": {},
   "source": [
    "\n",
    "## Catching exceptions using try and except\n",
    "\n",
    "Sometimes your program will encounter errors or unexpected inputs. Python allows you to catch and handle these errors gracefully using `try` and `except`, preventing your program from crashing.\n",
    "\n",
    "**Exercise:** Write a program that asks the user for two numbers, divides them, and uses `try` and `except` to handle division by zero gracefully.\n"
   ]
  },
  {
   "cell_type": "markdown",
   "id": "b55ee339",
   "metadata": {},
   "source": [
    "\n",
    "## Short-circuit evaluation of logical expressions\n",
    "\n",
    "Short-circuit evaluation means Python evaluates logical expressions (`and`, `or`) only as much as needed to determine the outcome. This can prevent unnecessary computations and errors.\n",
    "\n",
    "**Exercise:** Verify short-circuit evaluation by predicting and explaining the results:\n",
    "```python\n",
    "def test():\n",
    "    print(\"Function called\")\n",
    "    return True\n",
    "\n",
    "print(False and test())  # Will `test()` be called?\n",
    "print(True or test())    # Will `test()` be called?\n",
    "```\n"
   ]
  },
  {
   "cell_type": "markdown",
   "metadata": {},
   "source": [
    "# Class 3 - `if` - Conditional statements and logical operators"
   ]
  },
  {
   "cell_type": "markdown",
   "metadata": {},
   "source": [
    "## Overview\n",
    "One of the basic principles in writing code is to __execute a series of code (commands) only under certain conditions__. To do this we need to:\n",
    "1. set the condition(s) when to execute (and when not)\n",
    "2. sometimes also combine a series of commands together\n",
    "3. write it into an `if` command, and then write out what commands are conditionally executed.\n",
    "\n",
    "We'll cover these parts now, but first an example."
   ]
  },
  {
   "cell_type": "code",
   "execution_count": null,
   "metadata": {},
   "outputs": [],
   "source": [
    "# Virtual bar keeper\n",
    "age = float(input('How old are you (in years)?'))\n",
    "if age >= 18:\n",
    "    print('Great, you are old enough to drink alcohol.')\n",
    "else:\n",
    "    print(\"I'm sorry, I can't serve you alcohol.\")"
   ]
  },
  {
   "cell_type": "markdown",
   "metadata": {},
   "source": [
    "## Conditional statements\n",
    "To understand how `if` code works, we first need to get to know `boolean` data types, and logic operators.\n",
    "### Comparing values/variables and Boolean variable"
   ]
  },
  {
   "cell_type": "markdown",
   "metadata": {},
   "source": [
    "#### Difference between assignment and equality operators"
   ]
  },
  {
   "cell_type": "code",
   "execution_count": null,
   "metadata": {},
   "outputs": [],
   "source": [
    "x = 1\n",
    "y = 2\n",
    "print(x+y)"
   ]
  },
  {
   "cell_type": "code",
   "execution_count": null,
   "metadata": {},
   "outputs": [],
   "source": [
    "print(1 == 1)\n",
    "print(1 == 2)"
   ]
  },
  {
   "cell_type": "code",
   "execution_count": null,
   "metadata": {},
   "outputs": [],
   "source": [
    "print(2 == 3)"
   ]
  },
  {
   "cell_type": "markdown",
   "metadata": {},
   "source": [
    "#### Boolean type"
   ]
  },
  {
   "cell_type": "code",
   "execution_count": null,
   "metadata": {},
   "outputs": [],
   "source": [
    "x = True\n",
    "type(x)"
   ]
  },
  {
   "cell_type": "code",
   "execution_count": null,
   "metadata": {},
   "outputs": [],
   "source": [
    "'abc' == 'ABC'"
   ]
  },
  {
   "cell_type": "code",
   "execution_count": null,
   "metadata": {},
   "outputs": [],
   "source": [
    "print(type(True))\n",
    "print(type('abc' == 'ABC'))"
   ]
  },
  {
   "cell_type": "code",
   "execution_count": null,
   "metadata": {},
   "outputs": [],
   "source": [
    "bool(100)"
   ]
  },
  {
   "cell_type": "code",
   "execution_count": null,
   "metadata": {},
   "outputs": [],
   "source": [
    "bool(-10)"
   ]
  },
  {
   "cell_type": "code",
   "execution_count": null,
   "metadata": {},
   "outputs": [],
   "source": [
    "bool(0)"
   ]
  },
  {
   "cell_type": "code",
   "execution_count": null,
   "metadata": {},
   "outputs": [],
   "source": [
    "bool(1)"
   ]
  },
  {
   "cell_type": "markdown",
   "metadata": {},
   "source": [
    "### Comparators"
   ]
  },
  {
   "cell_type": "code",
   "execution_count": null,
   "metadata": {},
   "outputs": [],
   "source": [
    "x = 1\n",
    "y = 2\n",
    "z = 3\n",
    "a = 'marcus'\n",
    "b = 'aurelius'"
   ]
  },
  {
   "cell_type": "code",
   "execution_count": null,
   "metadata": {},
   "outputs": [],
   "source": [
    "print(x == 1)\n",
    "print(x == y)\n",
    "print(x != y)"
   ]
  },
  {
   "cell_type": "code",
   "execution_count": null,
   "metadata": {},
   "outputs": [],
   "source": [
    "print(a == 'marcus')\n",
    "print(a == 'Marcus')"
   ]
  },
  {
   "cell_type": "code",
   "execution_count": null,
   "metadata": {},
   "outputs": [],
   "source": [
    "print(x)\n",
    "print('1' == str(x))"
   ]
  },
  {
   "cell_type": "markdown",
   "metadata": {},
   "source": [
    "Pythonic way for multiple comparision:"
   ]
  },
  {
   "cell_type": "code",
   "execution_count": null,
   "metadata": {},
   "outputs": [],
   "source": [
    "print(x, y, z)"
   ]
  },
  {
   "cell_type": "code",
   "execution_count": null,
   "metadata": {},
   "outputs": [],
   "source": [
    "y > z"
   ]
  },
  {
   "cell_type": "code",
   "execution_count": null,
   "metadata": {},
   "outputs": [],
   "source": [
    "z = 3\n",
    "print(x, y, z)\n",
    "x < y < z"
   ]
  },
  {
   "cell_type": "code",
   "execution_count": null,
   "metadata": {},
   "outputs": [],
   "source": [
    "z = 0\n",
    "print(x, y, z)\n",
    "x < y < z"
   ]
  },
  {
   "cell_type": "code",
   "execution_count": null,
   "metadata": {},
   "outputs": [],
   "source": [
    "print('a' > 'b')\n",
    "print('a' < 'b' < 'z')"
   ]
  },
  {
   "cell_type": "code",
   "execution_count": null,
   "metadata": {},
   "outputs": [],
   "source": [
    "1 + 2\n",
    "print(1 + 100)\n",
    "1 + 1"
   ]
  },
  {
   "cell_type": "markdown",
   "metadata": {},
   "source": [
    "#### Membership operator"
   ]
  },
  {
   "cell_type": "code",
   "execution_count": null,
   "metadata": {},
   "outputs": [],
   "source": [
    "a = 'iftach'\n",
    "print(a in 'amir iftach abckdkkd')\n",
    "print(a in 'Iftach Amir'.lower())"
   ]
  },
  {
   "cell_type": "code",
   "execution_count": null,
   "metadata": {},
   "outputs": [],
   "source": [
    "z = 10\n",
    "z in (0, 1, 2, 3)"
   ]
  },
  {
   "cell_type": "markdown",
   "metadata": {},
   "source": [
    "## `if` statements"
   ]
  },
  {
   "cell_type": "markdown",
   "metadata": {},
   "source": [
    "The simplest form of conditional logic is an `if` statement. It tests a condition and executes code if the condition is true.\n",
    "\n",
    "**Syntax:**\n",
    "```python\n",
    "if condition:\n",
    "    # code to execute if condition is true\n"
   ]
  },
  {
   "cell_type": "code",
   "execution_count": null,
   "metadata": {},
   "outputs": [],
   "source": [
    "if True:\n",
    "    print('Hello')"
   ]
  },
  {
   "cell_type": "markdown",
   "metadata": {},
   "source": [
    "### Indentation and Whitespace in Conditionals\n",
    "In Python, indentation indicates what code belongs inside a conditional:"
   ]
  },
  {
   "cell_type": "code",
   "execution_count": null,
   "metadata": {},
   "outputs": [],
   "source": [
    "x = 100\n",
    "\n",
    "if x == 102:\n",
    "    print('ABCD')   # inside 'if'\n",
    "    print(123)      # inside 'if'\n",
    "    print(x)        # inside 'if'\n",
    "\n",
    "print('Goodbye')    # outside 'if', executes regardless"
   ]
  },
  {
   "cell_type": "markdown",
   "metadata": {},
   "source": [
    "### `else` and `elif`\n",
    "In case the first `if` condition returns `False`, than Python will check whether there is an `else` code to execute. This alternate code can also be condition by using `elif`.\n",
    "\n",
    "Remember: once the commands following `if` or `elif`, no other `elif` or `else` will be evaluated or executed."
   ]
  },
  {
   "cell_type": "code",
   "execution_count": null,
   "metadata": {},
   "outputs": [],
   "source": [
    "# Virtual bar keeper\n",
    "age = float(input('How old are you (in years)?'))\n",
    "if age > 18:\n",
    "    print('Great, you are old enough to drink alcohol.')\n",
    "else:\n",
    "    print(\"I'm sorry, I can't serve you alcohol.\")"
   ]
  },
  {
   "cell_type": "code",
   "execution_count": null,
   "metadata": {},
   "outputs": [],
   "source": [
    "x = int(input())\n",
    "\n",
    "if x > 100:\n",
    "    print('X is larger than 100')\n",
    "\n",
    "if x <= 100:\n",
    "    print('X is smaller or equal to 100')\n"
   ]
  },
  {
   "cell_type": "code",
   "execution_count": null,
   "metadata": {},
   "outputs": [],
   "source": [
    "if x > 100:\n",
    "    print('X is larger than 100')\n",
    "else:\n",
    "    print('X is smaller or equal to 100')\n"
   ]
  },
  {
   "cell_type": "code",
   "execution_count": null,
   "metadata": {},
   "outputs": [],
   "source": [
    "x = int(input())\n",
    "\n",
    "if x > 100:\n",
    "    print('X is larget than 100')\n",
    "elif x == 100:\n",
    "    print('X is equal to 100')\n",
    "elif ...:\n",
    "    ...\n",
    "elif... :\n",
    "    ...\n",
    "else:\n",
    "    print('X is smaller than 100')"
   ]
  },
  {
   "cell_type": "code",
   "execution_count": null,
   "metadata": {},
   "outputs": [],
   "source": [
    "grade = int(input(\"Enter grade:\"))\n",
    "if grade > 80 :\n",
    "    print('A')\n",
    "elif grade > 60 :\n",
    "    print('B')\n",
    "elif grade > 50:\n",
    "    print('C')\n",
    "else :\n",
    "    print('Fail')"
   ]
  },
  {
   "cell_type": "code",
   "execution_count": null,
   "metadata": {},
   "outputs": [],
   "source": [
    "grade = int(input(\"Enter grade:\"))\n",
    "if grade > 80 :\n",
    "    print('A')\n",
    "\n",
    "if grade > 60 and grade < 80:\n",
    "    print('B')\n",
    "elif grade > 50:\n",
    "    print('C')\n",
    "else :\n",
    "    print('Fail')"
   ]
  },
  {
   "cell_type": "code",
   "execution_count": null,
   "metadata": {},
   "outputs": [],
   "source": [
    "9 % 2 == 0"
   ]
  },
  {
   "cell_type": "code",
   "execution_count": null,
   "metadata": {},
   "outputs": [],
   "source": [
    "9 % 2"
   ]
  },
  {
   "cell_type": "markdown",
   "metadata": {},
   "source": [
    "### (Back to) Truthiness in Python\n",
    "In Python, every value can be evaluated as either `True` or `False`. This concept is known as \"truthiness\". Understanding truthiness is crucial for writing concise and effective conditional statements.\n",
    "\n",
    "**Values that are considered `False`:**\n",
    "* `False`\n",
    "* `None`\n",
    "* Zero of any numeric type: `0`, `0.0`, `0j`\n",
    "* Empty sequences and collections: `\"\"`, `()`, `[]`, `{}`\n",
    "* (Objects which of classes which define a `__bool__()` or `__len__()` method which returns `False` or 0)\n",
    "\n",
    "**All other values are considered `True`.**\n",
    "\n",
    "some examples:"
   ]
  },
  {
   "cell_type": "code",
   "execution_count": null,
   "metadata": {},
   "outputs": [],
   "source": [
    "my_number = 42\n",
    "if my_number:\n",
    "    print(\"The number is not zero.\") "
   ]
  },
  {
   "cell_type": "code",
   "execution_count": null,
   "metadata": {},
   "outputs": [],
   "source": [
    "my_number = 0\n",
    "if not my_number:\n",
    "    print(\"The number is zero.\") "
   ]
  },
  {
   "cell_type": "code",
   "execution_count": null,
   "metadata": {},
   "outputs": [],
   "source": [
    "my_number = 0\n",
    "if my_number==0:\n",
    "    print(\"The number is zero.\") "
   ]
  },
  {
   "cell_type": "markdown",
   "metadata": {},
   "source": [
    "## Logical operators"
   ]
  },
  {
   "cell_type": "markdown",
   "metadata": {},
   "source": [
    "### `and` operator"
   ]
  },
  {
   "cell_type": "code",
   "execution_count": null,
   "metadata": {},
   "outputs": [],
   "source": [
    "# Example: Checking if a number is within a range\n",
    "number = int(input())\n",
    "lower_bound = 10\n",
    "upper_bound = 30\n",
    "is_within_range = (number >= lower_bound) and (number <= upper_bound)\n",
    "print(f\"Is the number within the range? {is_within_range}\")"
   ]
  },
  {
   "cell_type": "code",
   "execution_count": null,
   "metadata": {},
   "outputs": [],
   "source": [
    "# Checking if a person is of pension age\n",
    "sex = input('Male (M) or Female (F)?')\n",
    "age = int(input('Enter your age: '))\n",
    "\n",
    "female_pension_status = sex=='F' and age>65\n",
    "male_pension_status = sex=='M' and age>67\n",
    "\n",
    "if male_pension_status or female_pension_status:\n",
    "    begin_survey()\n",
    "else:\n",
    "    print('Sorry, only pensioners')"
   ]
  },
  {
   "cell_type": "code",
   "execution_count": null,
   "metadata": {},
   "outputs": [],
   "source": [
    "if not(male_pension_status or female_pension_status):\n",
    "    begin_survey()\n",
    "else:\n",
    "    print('Sorry, only pensioners')"
   ]
  },
  {
   "cell_type": "code",
   "execution_count": null,
   "metadata": {},
   "outputs": [],
   "source": [
    "if sex=='F':\n",
    "    if age > 65:\n",
    "        begin_survey()\n",
    "    else:\n",
    "        print('Sorry, only pensioners')\n",
    "else: # Males\n",
    "    if age > 67:\n",
    "        begin_survey()\n",
    "    else:\n",
    "        print('Sorry, only pensioners')"
   ]
  },
  {
   "cell_type": "markdown",
   "metadata": {},
   "source": [
    "### `or` operator"
   ]
  },
  {
   "cell_type": "code",
   "execution_count": null,
   "metadata": {},
   "outputs": [],
   "source": [
    "a = 'mark'\n",
    "print(a == 'Marcus')\n",
    "print(a == 'marcus')\n",
    "print(a == 'Marcus' or a == 'mark')\n",
    "print(False or True)"
   ]
  },
  {
   "cell_type": "code",
   "execution_count": null,
   "metadata": {},
   "outputs": [],
   "source": [
    "print(False or True)"
   ]
  },
  {
   "cell_type": "markdown",
   "metadata": {},
   "source": [
    "### `not` command"
   ]
  },
  {
   "cell_type": "code",
   "execution_count": null,
   "metadata": {
    "tags": []
   },
   "outputs": [],
   "source": [
    "not(True)"
   ]
  },
  {
   "cell_type": "code",
   "execution_count": null,
   "metadata": {},
   "outputs": [],
   "source": [
    "print(1 != 2)\n",
    "print(not(x == 2))"
   ]
  },
  {
   "cell_type": "markdown",
   "metadata": {},
   "source": [
    "### Exercise\n",
    "Write a program that checks if a given number is divisible by both 3 and 5."
   ]
  },
  {
   "cell_type": "code",
   "execution_count": null,
   "metadata": {},
   "outputs": [],
   "source": [
    "number = ... # input by the user\n",
    "..."
   ]
  },
  {
   "cell_type": "markdown",
   "metadata": {},
   "source": [
    "## Nested `if`s"
   ]
  },
  {
   "cell_type": "code",
   "execution_count": null,
   "metadata": {},
   "outputs": [],
   "source": [
    "# Ask user to input a number, and check if it is larger than 5 and smaller than 100 and even\n",
    "N = int(input())\n",
    "\n",
    "# Is it bigger than 5 and smaller then 100?\n",
    "if 5 < N < 100:\n",
    "    print('Bigger than 5 ', end='')\n",
    "    # Is it odd/even?\n",
    "    if (N % 2) == 0:\n",
    "        print('and is even.')\n",
    "    else:\n",
    "        print('but not even.')\n",
    "else:\n",
    "    print('Not between 5 and 100.')"
   ]
  }
 ],
 "metadata": {
  "kernelspec": {
   "display_name": "Python 3 (ipykernel)",
   "language": "python",
   "name": "python3"
  },
  "language_info": {
   "codemirror_mode": {
    "name": "ipython",
    "version": 3
   },
   "file_extension": ".py",
   "mimetype": "text/x-python",
   "name": "python",
   "nbconvert_exporter": "python",
   "pygments_lexer": "ipython3",
   "version": "3.12.7"
  }
 },
 "nbformat": 4,
 "nbformat_minor": 4
}
