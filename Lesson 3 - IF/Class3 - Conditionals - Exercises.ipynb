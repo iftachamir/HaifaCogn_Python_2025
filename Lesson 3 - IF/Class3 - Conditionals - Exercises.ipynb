{
 "cells": [
  {
   "cell_type": "markdown",
   "id": "2daf573c",
   "metadata": {},
   "source": [
    "# Class 3 Exercises: Conditionals and Logical Operators"
   ]
  },
  {
   "cell_type": "markdown",
   "id": "4eb96782",
   "metadata": {},
   "source": [
    "### Exercise 1: Simple Conditional\n",
    "Write a Python program that asks the user to enter a temperature in Celsius. If the temperature is below 0, print 'Freezing!'. Otherwise, print 'Above freezing.'"
   ]
  },
  {
   "cell_type": "code",
   "execution_count": null,
   "id": "3dd88451",
   "metadata": {},
   "outputs": [],
   "source": [
    "# Your code here\n"
   ]
  },
  {
   "cell_type": "markdown",
   "id": "84d4fc26",
   "metadata": {},
   "source": [
    "### Exercise 2: If-Else Statement\n",
    "Write a Python script that asks the user for a number. Check whether the number is odd or even and print the result."
   ]
  },
  {
   "cell_type": "code",
   "execution_count": null,
   "id": "b313db20",
   "metadata": {},
   "outputs": [],
   "source": [
    "# Your code here\n"
   ]
  },
  {
   "cell_type": "markdown",
   "id": "13db08eb",
   "metadata": {},
   "source": [
    "### Exercise 3: Nested If Statements\n",
    "A cinema charges different prices depending on age:\n",
    "- Children under 5: free\n",
    "- Ages 5 to 17: 8\n",
    "- Adults (18 to 64): 15\n",
    "- Seniors (65+): 10\n",
    "\n",
    "Write a program that asks for the user's age and prints the ticket price."
   ]
  },
  {
   "cell_type": "code",
   "execution_count": null,
   "id": "a2f3af7a",
   "metadata": {},
   "outputs": [],
   "source": [
    "# Your code here\n"
   ]
  },
  {
   "cell_type": "markdown",
   "id": "8143744e",
   "metadata": {},
   "source": [
    "### Exercise 4: Chained Conditional (Elif)\n",
    "Write a program that categorizes a given numerical score into grades:\n",
    "- 90 and above: A\n",
    "- 80-89: B\n",
    "- 70-79: C\n",
    "- 60-69: D\n",
    "- Below 60: F\n",
    "\n",
    "Ask the user for their score and print their grade."
   ]
  },
  {
   "cell_type": "code",
   "execution_count": null,
   "id": "da827a06",
   "metadata": {},
   "outputs": [],
   "source": [
    "# Your code here\n"
   ]
  },
  {
   "cell_type": "markdown",
   "id": "c7431943",
   "metadata": {},
   "source": [
    "### Exercise 5:Bank loan\n",
    "Create a program for a bank that determines if a customer qualifies for a loan. The criteria are:\n",
    "- Credit score must be above 700\n",
    "- Annual income must be at least $50,000\n",
    "- If credit score is above 800, the income requirement drops to $30,000\n",
    "- If income is above $100,000, the credit score requirement drops to 650\n",
    "Ask the user for their credit score and income, then determine if they qualify for the loan and provides feedback on the decision.\n"
   ]
  },
  {
   "cell_type": "markdown",
   "id": "8c8af1c0-2158-404e-b504-c5a58e92b950",
   "metadata": {},
   "source": [
    "#### Examples\n",
    "Input: \\\n",
    "Credit score: 720\\\n",
    "Annual income $: 60000\\\n",
    "Output: \\\n",
    "Congratulations! You qualify for the loan.\\\n",
    "You met the standard qualification criteria.\\\n",
    "\n",
    "Input:\\\n",
    "Credit score: 680\\\n",
    "Annual income $: 55000\\\n",
    "Output: \\\n",
    "Sorry, you do not qualify for the loan.\\\n",
    "Your credit score is too low. You need a score above 700.\\\n",
    "\n",
    "Input:\\\n",
    "Credit score: 810\\\n",
    "Annual income $: 35000\\\n",
    "Output: \\\n",
    "Congratulations! You qualify for the loan.\\\n",
    "You qualified due to your excellent credit score above 800.\\\n",
    "\n",
    "Input:\\\n",
    "Credit score: 660 \\\n",
    "Annual income : 120000 \\\n",
    "Output: \\\n",
    "Congratulations! You qualify for the loan. \\\n",
    "You qualified due to your high income above $100,000.\\\n"
   ]
  },
  {
   "cell_type": "code",
   "execution_count": null,
   "id": "b0c95c8c",
   "metadata": {},
   "outputs": [],
   "source": [
    "# Your code here\n"
   ]
  }
 ],
 "metadata": {
  "kernelspec": {
   "display_name": "Python 3 (ipykernel)",
   "language": "python",
   "name": "python3"
  },
  "language_info": {
   "codemirror_mode": {
    "name": "ipython",
    "version": 3
   },
   "file_extension": ".py",
   "mimetype": "text/x-python",
   "name": "python",
   "nbconvert_exporter": "python",
   "pygments_lexer": "ipython3",
   "version": "3.12.7"
  }
 },
 "nbformat": 4,
 "nbformat_minor": 5
}
