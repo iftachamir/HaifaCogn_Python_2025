{
 "cells": [
  {
   "cell_type": "code",
   "execution_count": 1,
   "id": "1a6b7974-1ea5-4142-b7b1-141ae828e7a1",
   "metadata": {},
   "outputs": [],
   "source": [
    "deck_of_cards = [1, 2, 3, 4, 5, 7, 8, 9, 10]\n",
    "num_of_cards = 10\n",
    "\n",
    "sum_of_potential_deck = sum(range(1, num_of_cards+1))"
   ]
  },
  {
   "cell_type": "code",
   "execution_count": 2,
   "id": "86666db2-e6ec-4f5e-9f09-9d38deaccfbe",
   "metadata": {},
   "outputs": [
    {
     "data": {
      "text/plain": [
       "55"
      ]
     },
     "execution_count": 2,
     "metadata": {},
     "output_type": "execute_result"
    }
   ],
   "source": [
    "sum_of_potential_deck"
   ]
  },
  {
   "cell_type": "code",
   "execution_count": 6,
   "id": "31d76f40-a43a-4d9f-8d49-00760ee1cacf",
   "metadata": {},
   "outputs": [
    {
     "data": {
      "text/plain": [
       "49"
      ]
     },
     "execution_count": 6,
     "metadata": {},
     "output_type": "execute_result"
    }
   ],
   "source": [
    "sum(deck_of_cards)"
   ]
  },
  {
   "cell_type": "code",
   "execution_count": 7,
   "id": "6d026345-df04-47ba-9d95-5f83376320f4",
   "metadata": {},
   "outputs": [
    {
     "data": {
      "text/plain": [
       "6"
      ]
     },
     "execution_count": 7,
     "metadata": {},
     "output_type": "execute_result"
    }
   ],
   "source": [
    "sum_of_potential_deck - sum(deck_of_cards)"
   ]
  },
  {
   "cell_type": "code",
   "execution_count": null,
   "id": "9096425c-81b9-436d-9966-da3f1a4d53c6",
   "metadata": {},
   "outputs": [],
   "source": []
  },
  {
   "cell_type": "code",
   "execution_count": null,
   "id": "f4bd1126-6113-4d6f-9c55-d1f7730ab508",
   "metadata": {},
   "outputs": [],
   "source": [
    "deck_of_cards = [1, 2, 3, 4, 5, 7, 8, 9, 10]\n",
    "num_of_cards = 10"
   ]
  },
  {
   "cell_type": "code",
   "execution_count": 9,
   "id": "967c31a3-d267-4a78-9b45-f29104815525",
   "metadata": {},
   "outputs": [
    {
     "name": "stdout",
     "output_type": "stream",
     "text": [
      "The missing card is: 6\n"
     ]
    }
   ],
   "source": [
    "# Go over potential/ideal deck and sum all the cards\n",
    "range_of_potential_cards = range(1, num_of_cards+1)\n",
    "total_of_potential_deck = 0\n",
    "for each_card_number in range_of_potential_cards:\n",
    "    total_of_potential_deck = total_of_potential_deck + each_card_number\n",
    "\n",
    "# Go over actual card deck and also sum the cards\n",
    "total_of_actual_deck = 0\n",
    "for each_card in deck_of_cards:\n",
    "    total_of_actual_deck = total_of_actual_deck + each_card\n",
    "\n",
    "print('The missing card is:', total_of_potential_deck - total_of_actual_deck)"
   ]
  },
  {
   "cell_type": "code",
   "execution_count": null,
   "id": "4929bc33-7a9c-48c8-9f4b-feea2c5d026d",
   "metadata": {},
   "outputs": [],
   "source": []
  }
 ],
 "metadata": {
  "kernelspec": {
   "display_name": "Python 3 (ipykernel)",
   "language": "python",
   "name": "python3"
  },
  "language_info": {
   "codemirror_mode": {
    "name": "ipython",
    "version": 3
   },
   "file_extension": ".py",
   "mimetype": "text/x-python",
   "name": "python",
   "nbconvert_exporter": "python",
   "pygments_lexer": "ipython3",
   "version": "3.12.7"
  }
 },
 "nbformat": 4,
 "nbformat_minor": 5
}
