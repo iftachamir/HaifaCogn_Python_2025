{
 "cells": [
  {
   "cell_type": "markdown",
   "metadata": {},
   "source": [
    "# Class 5 - Strings: Practice Exercises\n",
    "\n",
    "This notebook contains practice exercises that integrate string concepts with previously learned material (variables, functions, conditionals, and loops). Complete these exercises to strengthen your understanding of Python strings and how they work with other programming concepts."
   ]
  },
  {
   "cell_type": "markdown",
   "metadata": {},
   "source": [
    "## Exercise 1: String Information\n",
    "\n",
    "Create a function called `string_info` that takes a string as input and prints:\n",
    "- The length of the string\n",
    "- The first character\n",
    "- The last character\n",
    "- The string in all uppercase\n",
    "- The string in all lowercase"
   ]
  },
  {
   "cell_type": "code",
   "execution_count": null,
   "metadata": {},
   "outputs": [],
   "source": [
    "# Your solution here\n",
    "def string_info(text):\n",
    "    # Print the requested information about the string\n",
    "    pass\n"
   ]
  },
  {
   "cell_type": "code",
   "execution_count": null,
   "metadata": {},
   "outputs": [],
   "source": [
    "# Test your function\n",
    "string_info(\"Hello World\")"
   ]
  },
  {
   "cell_type": "markdown",
   "metadata": {},
   "source": [
    "## Exercise 2: Password Validator\n",
    "\n",
    "Create a function called `validate_password` that checks if a password meets the following criteria:\n",
    "- At least 8 characters long\n",
    "- Contains at least one uppercase letter\n",
    "- Contains at least one lowercase letter\n",
    "- Contains at least one digit\n",
    "\n",
    "The function should return `True` if the password is valid and `False` otherwise."
   ]
  },
  {
   "cell_type": "code",
   "execution_count": null,
   "metadata": {},
   "outputs": [],
   "source": [
    "# Your solution here\n",
    "def validate_password(password):\n",
    "    # Check if the password meets all criteria\n",
    "    pass"
   ]
  },
  {
   "cell_type": "code",
   "execution_count": null,
   "metadata": {},
   "outputs": [],
   "source": [
    "# Test your function with different passwords\n",
    "passwords = [\"abc123\", \"Password123\", \"nodigits\", \"NOLOWERCASE123\", \"nouppercase123\"]\n",
    "for pwd in passwords:\n",
    "    print(f\"Password '{pwd}' is valid: {validate_password(pwd)}\")"
   ]
  },
  {
   "cell_type": "markdown",
   "metadata": {},
   "source": [
    "## Exercise 3: Vowel Counter\n",
    "\n",
    "Create a function called `count_vowels` that takes a string as input and returns the number of vowels (a, e, i, o, u) in the string. The function should be case-insensitive (count both uppercase and lowercase vowels)."
   ]
  },
  {
   "cell_type": "code",
   "execution_count": null,
   "metadata": {},
   "outputs": [],
   "source": [
    "# Your solution here\n",
    "def count_vowels(text):\n",
    "    # Count the number of vowels in the text\n",
    "    pass\n",
    "\n",
    "# Test your function\n",
    "sample_text = \"Hello, how are you today?\"\n",
    "print(f\"The text '{sample_text}' contains {count_vowels(sample_text)} vowels.\")"
   ]
  },
  {
   "cell_type": "markdown",
   "metadata": {},
   "source": [
    "## Exercise 4: String Transformation\n",
    "\n",
    "Create a function called `transform_text` that takes a string and returns a new string where:\n",
    "- All vowels are replaced with '*'\n",
    "- All digits are replaced with '#'\n",
    "- All other characters remain unchanged"
   ]
  },
  {
   "cell_type": "code",
   "execution_count": null,
   "metadata": {},
   "outputs": [],
   "source": [
    "# Your solution here\n",
    "def transform_text(text):\n",
    "    # Transform the text according to the rules\n",
    "    pass\n",
    "\n",
    "# Test your function\n",
    "sample = \"Hello123 World!\"\n",
    "transformed = transform_text(sample)\n",
    "print(f\"Original: {sample}\")\n",
    "print(f\"Transformed: {transformed}\")"
   ]
  },
  {
   "cell_type": "markdown",
   "metadata": {},
   "source": [
    "## Exercise 5: Sentence Processor\n",
    "\n",
    "Create a program that:\n",
    "1. Asks the user to enter a sentence\n",
    "2. Counts and displays the number of words in the sentence\n",
    "3. Displays the sentence with the words in reverse order\n",
    "4. Displays the sentence with each word capitalized"
   ]
  },
  {
   "cell_type": "code",
   "execution_count": null,
   "metadata": {},
   "outputs": [],
   "source": [
    "# Your solution here\n",
    "def process_sentence():\n",
    "    # Get user input and process it\n",
    "    pass\n",
    "\n",
    "# Run your program\n",
    "process_sentence()"
   ]
  },
  {
   "cell_type": "markdown",
   "metadata": {},
   "source": [
    "## Exercise 6: Substring Generator\n",
    "\n",
    "Create a function called `generate_substrings` that takes a string and returns a list of all possible substrings of length 3 or more.\n",
    "\n",
    "For example, for the input \"hello\", the output would include: \"hel\", \"ell\", \"llo\", \"hell\", \"ello\", \"hello\"."
   ]
  },
  {
   "cell_type": "code",
   "execution_count": null,
   "metadata": {},
   "outputs": [],
   "source": [
    "# Your solution here\n",
    "def generate_substrings(text):\n",
    "    # Generate all substrings of length 3 or more\n",
    "    pass\n",
    "\n",
    "# Test your function\n",
    "word = \"python\"\n",
    "substrings = generate_substrings(word)\n",
    "print(substrings)"
   ]
  },
  {
   "cell_type": "markdown",
   "metadata": {},
   "source": [
    "## Exercise 7: Text Categorizer\n",
    "\n",
    "Create a function called `categorize_text` that takes a string and returns a string indicating if it is:\n",
    "- \"NUMBER\" if it contains only digits\n",
    "- \"EMAIL\" if it contains '@' and ends with .com, .org, .edu, etc.\n",
    "- \"URL\" if it starts with http:// or https://\n",
    "- \"TEXT\" for anything else"
   ]
  },
  {
   "cell_type": "code",
   "execution_count": null,
   "metadata": {},
   "outputs": [],
   "source": [
    "# Your solution here\n",
    "def categorize_text(text):\n",
    "    # Determine the category of the text\n",
    "    pass\n",
    "\n",
    "# Test your function\n",
    "samples = [\"12345\", \"user@example.com\", \"https://python.org\", \"Hello world\"]\n",
    "for sample in samples:\n",
    "    print(f\"\\\"{sample}\\\" is: {categorize_text(sample)}\")"
   ]
  },
  {
   "cell_type": "markdown",
   "metadata": {},
   "source": [
    "## Exercise 8: Caesar Cipher\n",
    "\n",
    "Implement a Caesar cipher encryption and decryption function. In a Caesar cipher, each letter in the plaintext is shifted a certain number of places down the alphabet.\n",
    "\n",
    "For example, with a shift of 1, A would be replaced by B, B would become C, and so on. Create two functions:\n",
    "- `encrypt(text, shift)`: Encrypts the text using the specified shift\n",
    "- `decrypt(text, shift)`: Decrypts the text using the specified shift\n",
    "\n",
    "For simplicity, you can assume the text contains only lowercase letters and spaces (which should remain unchanged)."
   ]
  },
  {
   "cell_type": "code",
   "execution_count": null,
   "metadata": {},
   "outputs": [],
   "source": [
    "# Your solution here\n",
    "def encrypt(text, shift):\n",
    "    # Encrypt the text using Caesar cipher\n",
    "    pass\n",
    "\n",
    "def decrypt(text, shift):\n",
    "    # Decrypt the text using Caesar cipher\n",
    "    pass\n",
    "\n",
    "# Test your functions\n",
    "message = \"hello world\"\n",
    "shift_value = 3\n",
    "encrypted = encrypt(message, shift_value)\n",
    "decrypted = decrypt(encrypted, shift_value)\n",
    "\n",
    "print(f\"Original: {message}\")\n",
    "print(f\"Encrypted: {encrypted}\")\n",
    "print(f\"Decrypted: {decrypted}\")"
   ]
  },
  {
   "cell_type": "markdown",
   "metadata": {},
   "source": [
    "## Exercise 9: Name Formatter\n",
    "\n",
    "Create a function called `format_name` that takes a person's first name, last name, and title (e.g., \"Mr.\", \"Dr.\", \"Ms.\") and returns a formatted string based on a format code:\n",
    "\n",
    "- If format_code is 1: Return \"Title FirstName LastName\"\n",
    "- If format_code is 2: Return \"FirstName LastName\"\n",
    "- If format_code is 3: Return \"F. LastName\"\n",
    "- If format_code is 4: Return \"LastName, FirstName\"\n",
    "- For any other format_code: Return \"Invalid format code\""
   ]
  },
  {
   "cell_type": "code",
   "execution_count": null,
   "metadata": {},
   "outputs": [],
   "source": [
    "# Your solution here\n",
    "def format_name(first_name, last_name, title, format_code):\n",
    "    # Format the name according to the specified format code\n",
    "    pass\n",
    "\n",
    "# Test your function\n",
    "first = \"John\"\n",
    "last = \"Smith\"\n",
    "title = \"Dr.\"\n",
    "\n",
    "print(format_name(first, last, title, 1))\n",
    "print(format_name(first, last, title, 2))\n",
    "print(format_name(first, last, title, 3))\n",
    "print(format_name(first, last, title, 4))\n",
    "print(format_name(first, last, title, 5))"
   ]
  },
  {
   "cell_type": "markdown",
   "metadata": {},
   "source": [
    "## Exercise 10: Palindrome Checker\n",
    "\n",
    "Create a function called `is_palindrome` that checks if a string is a palindrome (reads the same forward and backward). The function should:\n",
    "\n",
    "1. Ignore spaces, punctuation, and case differences\n",
    "2. Return True if the string is a palindrome and False otherwise\n",
    "3. Print a message indicating whether the string is a palindrome"
   ]
  },
  {
   "cell_type": "code",
   "execution_count": null,
   "metadata": {},
   "outputs": [],
   "source": [
    "# Your solution here\n",
    "def is_palindrome(text):\n",
    "    # Check if the text is a palindrome\n",
    "    pass\n",
    "\n",
    "# Test your function\n",
    "test_strings = [\"radar\", \"hello\", \"A man, a plan, a canal: Panama\", \"Race car\", \"Not a palindrome\"]\n",
    "for s in test_strings:\n",
    "    is_palindrome(s)"
   ]
  },
  {
   "cell_type": "markdown",
   "metadata": {},
   "source": [
    "## Exercise 11: Morse Code Translator\n",
    "\n",
    "Create a program that translates text to Morse code. Use the following Morse code mapping for letters and digits:\n",
    "\n",
    "```\n",
    "A: .-     B: -...   C: -.-.   D: -..    E: .      F: ..-.\n",
    "G: --.    H: ....   I: ..     J: .---   K: -.-    L: .-..\n",
    "M: --     N: -.     O: ---    P: .--.   Q: --.-   R: .-.\n",
    "S: ...    T: -      U: ..-    V: ...-   W: .--    X: -..-\n",
    "Y: -.--   Z: --..\n",
    "0: -----  1: .----  2: ..---  3: ...--  4: ....-  5: .....\n",
    "6: -....  7: --...  8: ---..  9: ----.\n",
    "```\n",
    "\n",
    "Use a space to separate Morse code characters and a forward slash (/) to separate words."
   ]
  },
  {
   "cell_type": "code",
   "execution_count": null,
   "metadata": {},
   "outputs": [],
   "source": [
    "# Your solution here\n",
    "def text_to_morse(text):\n",
    "    # Define the Morse code mapping\n",
    "    morse_code = {\n",
    "        'A': '.-', 'B': '-...', 'C': '-.-.', 'D': '-..', 'E': '.', 'F': '..-.',\n",
    "        'G': '--.', 'H': '....', 'I': '..', 'J': '.---', 'K': '-.-', 'L': '.-..',\n",
    "        'M': '--', 'N': '-.', 'O': '---', 'P': '.--.', 'Q': '--.-', 'R': '.-.',\n",
    "        'S': '...', 'T': '-', 'U': '..-', 'V': '...-', 'W': '.--', 'X': '-..-',\n",
    "        'Y': '-.--', 'Z': '--..',\n",
    "        '0': '-----', '1': '.----', '2': '..---', '3': '...--', '4': '....-', '5': '.....',\n",
    "        '6': '-....', '7': '--...', '8': '---..', '9': '----.',\n",
    "        ' ': '/'\n",
    "    }\n",
    "    \n",
    "    # Convert text to Morse code\n",
    "    pass\n",
    "\n",
    "# Test your function\n",
    "message = \"Hello World\"\n",
    "morse = text_to_morse(message)\n",
    "print(f\"Original: {message}\")\n",
    "print(f\"Morse code: {morse}\")"
   ]
  },
  {
   "cell_type": "markdown",
   "metadata": {},
   "source": [
    "## Exercise 12: Word Scrambler\n",
    "\n",
    "Create a function called `scramble_words` that takes a sentence and returns a new sentence where:\n",
    "- The first and last letter of each word stay in place\n",
    "- All other letters in the word are scrambled randomly\n",
    "- Words with 3 or fewer characters remain unchanged\n",
    "- Punctuation remains in its original position"
   ]
  },
  {
   "cell_type": "code",
   "execution_count": null,
   "metadata": {},
   "outputs": [],
   "source": [
    "# Your solution here\n",
    "import random\n",
    "\n",
    "def scramble_words(sentence):\n",
    "    # Scramble the words in the sentence\n",
    "    pass\n",
    "\n",
    "# Test your function\n",
    "original = \"According to research, the order of letters in a word does not matter, as long as the first and last letter remain the same.\"\n",
    "scrambled = scramble_words(original)\n",
    "print(f\"Original: {original}\")\n",
    "print(f\"Scrambled: {scrambled}\")"
   ]
  },
  {
   "cell_type": "markdown",
   "metadata": {},
   "source": [
    "## Bonus Challenge: Hangman Game\n",
    "\n",
    "Create a simple text-based Hangman game where:\n",
    "1. The program selects a random word from a predefined list\n",
    "2. The player tries to guess the word by suggesting letters\n",
    "3. The player has a limited number of incorrect guesses (e.g., 6)\n",
    "4. After each guess, the program displays the current state of the word with correctly guessed letters shown and others hidden (e.g., \"_ p p _ e\" for \"apple\" if 'p' and 'e' have been guessed)\n",
    "5. The game ends when the player guesses the word or runs out of attempts"
   ]
  },
  {
   "cell_type": "code",
   "execution_count": null,
   "metadata": {},
   "outputs": [],
   "source": [
    "# Your solution here\n",
    "def hangman_game():\n",
    "    # List of words to choose from\n",
    "    words = [\"python\", \"programming\", \"computer\", \"algorithm\", \"function\", \"variable\", \"string\", \"integer\", \"boolean\"]\n",
    "    \n",
    "    # Implement the Hangman game\n",
    "    pass\n",
    "\n",
    "# Run your game\n",
    "# hangman_game()"
   ]
  }
 ],
 "metadata": {
  "kernelspec": {
   "display_name": "Python 3 (ipykernel)",
   "language": "python",
   "name": "python3"
  },
  "language_info": {
   "codemirror_mode": {
    "name": "ipython",
    "version": 3
   },
   "file_extension": ".py",
   "mimetype": "text/x-python",
   "name": "python",
   "nbconvert_exporter": "python",
   "pygments_lexer": "ipython3",
   "version": "3.12.7"
  }
 },
 "nbformat": 4,
 "nbformat_minor": 4
}
