{
 "cells": [
  {
   "cell_type": "markdown",
   "metadata": {},
   "source": [
    "# Object Oriented Programming (OOP) and Functional programming\n",
    "\n",
    "## OOP\n",
    "### Background\n",
    "Short explanation in hebrew: https://youtu.be/q1JQB7pw4AY?t=158\n",
    "\n",
    "In Python, an object is a self-contained unit that combines data (attributes or properties) and functionality (methods) into a single package. Think of objects as digital representations of real-world entities. For example, a \"bank\" object might contain data about its account owner name and account balance (properties) along with actions it can perform like depositing or wihtrawing money (methods). Objects are created from blueprints called classes, which define what properties and methods all objects of that type will have. This approach to programming—organizing code around objects rather than actions—helps create more intuitive, modular, and reusable code.\n",
    "    \n",
    "**In Python \"_everything is an object_\".**\n",
    "\n",
    "This means that all data types in Python (strings, integers, lists, etc.) are objects with properties and methods. Objects bundle data (properties) and functionality (methods) together, making code more organized and reusable.\n",
    "\n"
   ]
  },
  {
   "cell_type": "code",
   "execution_count": null,
   "metadata": {},
   "outputs": [],
   "source": [
    "name = \"Spiderman\" # <-- property"
   ]
  },
  {
   "cell_type": "code",
   "execution_count": null,
   "metadata": {},
   "outputs": [],
   "source": [
    "name.upper() # <-- procedure/method"
   ]
  },
  {
   "cell_type": "markdown",
   "metadata": {},
   "source": [
    "Properties are data stored within objects (like 'name' storing \"Spiderman\"), while methods are functions that belong to objects (like `.upper()`). Methods often manipulate the object's properties or return new values based on them."
   ]
  },
  {
   "cell_type": "markdown",
   "metadata": {},
   "source": [
    "## Constructing a custom object"
   ]
  },
  {
   "cell_type": "markdown",
   "metadata": {},
   "source": [
    "### Syntax basics"
   ]
  },
  {
   "cell_type": "code",
   "execution_count": null,
   "metadata": {},
   "outputs": [],
   "source": [
    "class myClass:\n",
    "    def __init__(self, a, b):\n",
    "        self.a = a\n",
    "        self.b = b\n",
    "    \n",
    "    def somefunc(self, arg1, arg2):\n",
    "        pass #SOME CODE HERE\n",
    "\n",
    "new_myClass_var = myClass(something_for_a, something_for_b)"
   ]
  },
  {
   "cell_type": "markdown",
   "metadata": {},
   "source": [
    "Classes are blueprints for creating objects. The __init__ method is a special method that runs when you create a new object, setting up its initial properties. The 'self' parameter refers to the specific instance of the object being created or manipulated."
   ]
  },
  {
   "cell_type": "markdown",
   "metadata": {},
   "source": [
    "### Bank example\n",
    "Let's create a simple Python class (object) for storing basic bank account information."
   ]
  },
  {
   "cell_type": "code",
   "execution_count": null,
   "metadata": {},
   "outputs": [],
   "source": [
    "class Account:\n",
    "    \n",
    "    # This creates the default values for the object\n",
    "    def __init__(self, x, balance = 0): # initiate\n",
    "        self.account_name = x\n",
    "        self.balance = balance\n",
    "    \n",
    "    # Method used when depositing money\n",
    "    def deposit(self, amount):\n",
    "        self.balance = self.balance + amount\n",
    "    \n",
    "    # Method used when withrawing money\n",
    "    def withdraw(self, amount):\n",
    "        if amount <= self.balance:\n",
    "            self.balance = self.balance - amount\n",
    "        else:\n",
    "            print(\"Cannot Withdraw amounts as not enough funds!!!\")"
   ]
  },
  {
   "cell_type": "markdown",
   "metadata": {},
   "source": [
    "This Account class demonstrates how objects can model real-world entities - like a bank account. Each account object will maintain its own balance and name, and provide methods to interact with that data."
   ]
  },
  {
   "cell_type": "code",
   "execution_count": null,
   "metadata": {},
   "outputs": [],
   "source": [
    "Account"
   ]
  },
  {
   "cell_type": "code",
   "execution_count": null,
   "metadata": {},
   "outputs": [],
   "source": [
    "yotam_account = Account(\"Yotam\", 100)"
   ]
  },
  {
   "cell_type": "code",
   "execution_count": null,
   "metadata": {},
   "outputs": [],
   "source": [
    "type(yotam_account)"
   ]
  },
  {
   "cell_type": "code",
   "execution_count": null,
   "metadata": {},
   "outputs": [],
   "source": [
    "dani_account = Account(\"Dani\")"
   ]
  },
  {
   "cell_type": "code",
   "execution_count": null,
   "metadata": {},
   "outputs": [],
   "source": [
    "lilach_account = Account(\"Lilach\")"
   ]
  },
  {
   "cell_type": "code",
   "execution_count": null,
   "metadata": {},
   "outputs": [],
   "source": [
    "yotam_account.balance"
   ]
  },
  {
   "cell_type": "code",
   "execution_count": null,
   "metadata": {},
   "outputs": [],
   "source": [
    "lilach_account.balance"
   ]
  },
  {
   "cell_type": "code",
   "execution_count": null,
   "metadata": {},
   "outputs": [],
   "source": [
    "yotam_account.deposit(1000)\n",
    "yotam_account.balance"
   ]
  },
  {
   "cell_type": "code",
   "execution_count": null,
   "metadata": {},
   "outputs": [],
   "source": [
    "yotam_account.withdraw(100)"
   ]
  },
  {
   "cell_type": "code",
   "execution_count": null,
   "metadata": {},
   "outputs": [],
   "source": [
    "yotam_account.balance"
   ]
  },
  {
   "cell_type": "code",
   "execution_count": null,
   "metadata": {},
   "outputs": [],
   "source": [
    "yotam_account.account_name = 'simon'"
   ]
  },
  {
   "cell_type": "code",
   "execution_count": null,
   "metadata": {},
   "outputs": [],
   "source": [
    "yotam_account.account_name"
   ]
  },
  {
   "cell_type": "markdown",
   "metadata": {},
   "source": [
    "### Exercise\n",
    "Write a new class called `Car`.\n",
    "This class stores the attributes:\n",
    "- `brand`: What brand (e.g., Toyota) is the car?\n",
    "- `year`: When was it produced?\n",
    "- `km_max`: Number of kilometres the car can drive on a full fuel tank.\n",
    "- `km_left`: Number of kilometres left to drive with the current amount of fuel.\n",
    "\n",
    "This class also has the procedures:\n",
    "- `drive(n)`: Representing an instruction to drive _n_ number of kilometres. _n_ is reduced from `km_left`. If _n_ > `km` than print 'Can not drive this far. Distance is greater than number of kilometres left in fuel tank.'\n",
    "- `fill_up()`': Fills up the fuel tank to full."
   ]
  },
  {
   "cell_type": "code",
   "execution_count": null,
   "metadata": {},
   "outputs": [],
   "source": [
    "# Write the class here\n",
    "class Car:\n",
    "    def __init__(self, b, year, max_km):\n",
    "        ...\n",
    "    \n",
    "    def fill_up(self):\n",
    "        ...\n",
    "        \n",
    "    def drive(self, n):\n",
    "        ...\n",
    "        "
   ]
  },
  {
   "cell_type": "code",
   "execution_count": null,
   "metadata": {},
   "outputs": [],
   "source": [
    "# Try out the class and its methods here\n",
    "mazda = Car('Mazda', 1999, 1000)\n",
    "toyora = Car('Toyota', 1999, 1000)\n",
    "mazda2010 = Car('Mazda', 2010, 1000)"
   ]
  },
  {
   "cell_type": "code",
   "execution_count": null,
   "metadata": {},
   "outputs": [],
   "source": [
    "mazda.drive(100)\n",
    "mazda.km_left"
   ]
  },
  {
   "cell_type": "code",
   "execution_count": null,
   "metadata": {},
   "outputs": [],
   "source": [
    "mazda.fill_up()"
   ]
  },
  {
   "cell_type": "markdown",
   "metadata": {},
   "source": [
    "## Importing classes"
   ]
  },
  {
   "cell_type": "markdown",
   "metadata": {},
   "source": [
    "Python allows you to define classes in separate files and import them into your programs."
   ]
  },
  {
   "cell_type": "code",
   "execution_count": null,
   "metadata": {},
   "outputs": [],
   "source": [
    "from employee import Employee"
   ]
  },
  {
   "cell_type": "code",
   "execution_count": null,
   "metadata": {},
   "outputs": [],
   "source": [
    "david = Employee('David', 100)"
   ]
  },
  {
   "cell_type": "code",
   "execution_count": null,
   "metadata": {},
   "outputs": [],
   "source": [
    "david.add_work_hours(42)\n",
    "amount_to_pay = david.payday()"
   ]
  },
  {
   "cell_type": "markdown",
   "metadata": {},
   "source": [
    "Ofcourse, custom objects can be combined into data structures to create unique data sets."
   ]
  },
  {
   "cell_type": "code",
   "execution_count": null,
   "metadata": {},
   "outputs": [],
   "source": [
    "employee_data = dict()\n",
    "employee_data[\"Anna\"] = Employee(\"Anna\", 500)\n",
    "employee_data[\"David\"] = david"
   ]
  },
  {
   "cell_type": "code",
   "execution_count": null,
   "metadata": {},
   "outputs": [],
   "source": [
    "print(employee_data)"
   ]
  },
  {
   "cell_type": "code",
   "execution_count": null,
   "metadata": {},
   "outputs": [],
   "source": [
    "employee_data[\"David\"].add_work_hours(42)\n",
    "employee_data[\"David\"].accumulated_hours"
   ]
  },
  {
   "cell_type": "markdown",
   "metadata": {},
   "source": [
    "## Functional programming\n",
    "## `map` and `filter`\n",
    "Map, Filter, and Reduce are paradigms of functional programming. Functional programming organizes code around functions that process data. They allow you to write simpler, shorter code, without neccessarily needing to bother about intricacies like loops."
   ]
  },
  {
   "cell_type": "code",
   "execution_count": null,
   "metadata": {},
   "outputs": [],
   "source": [
    "import random\n",
    "rt = [ (random.randint(0,10000)/10) for i in range(100)]"
   ]
  },
  {
   "cell_type": "code",
   "execution_count": null,
   "metadata": {},
   "outputs": [],
   "source": [
    "print(rt)"
   ]
  },
  {
   "cell_type": "markdown",
   "metadata": {},
   "source": [
    "### Exercise\n",
    "Before we learn `map()` - Write a program that converts all the items in the list into integers."
   ]
  },
  {
   "cell_type": "code",
   "execution_count": null,
   "metadata": {},
   "outputs": [],
   "source": [
    "..."
   ]
  },
  {
   "cell_type": "code",
   "execution_count": null,
   "metadata": {},
   "outputs": [],
   "source": [
    "print(list_rt)"
   ]
  },
  {
   "cell_type": "markdown",
   "metadata": {},
   "source": [
    "### Map\n",
    "Map transforms each element in a sequence by applying a function to it. This provides a concise way to perform the same operation on every item in a collection without writing explicit loops."
   ]
  },
  {
   "cell_type": "code",
   "execution_count": null,
   "metadata": {},
   "outputs": [],
   "source": [
    "# Remember, this is the 'original' RT list, with response times as FLOAT\n",
    "print(rt)"
   ]
  },
  {
   "cell_type": "code",
   "execution_count": null,
   "metadata": {},
   "outputs": [],
   "source": [
    "rt_int = map(int,rt)"
   ]
  },
  {
   "cell_type": "code",
   "execution_count": null,
   "metadata": {},
   "outputs": [],
   "source": [
    "rt_int"
   ]
  },
  {
   "cell_type": "code",
   "execution_count": null,
   "metadata": {},
   "outputs": [],
   "source": [
    "type(rt_int)"
   ]
  },
  {
   "cell_type": "code",
   "execution_count": null,
   "metadata": {},
   "outputs": [],
   "source": [
    "print(list(rt_int))"
   ]
  },
  {
   "cell_type": "code",
   "execution_count": null,
   "metadata": {},
   "outputs": [],
   "source": [
    "# What if we wanted RT on a scale of seconds (rather than milli-seconds)\n",
    "def div_10(x):\n",
    "    return(x/1000)\n",
    "\n",
    "new_rt = map(div_10, rt)\n",
    "\n",
    "print(list(new_rt))"
   ]
  },
  {
   "cell_type": "markdown",
   "metadata": {},
   "source": [
    "### Filter\n",
    "Like its name, `filter` function 'filters' (removes) from its _second_ input parameter (typically lists, but can be any iteratable object) values according to its _first_ input parameter - a function that returns `True` or `False` (ie., boolean value)."
   ]
  },
  {
   "cell_type": "code",
   "execution_count": null,
   "metadata": {},
   "outputs": [],
   "source": [
    "print(list_rt)"
   ]
  },
  {
   "cell_type": "code",
   "execution_count": null,
   "metadata": {},
   "outputs": [],
   "source": [
    "# Lets remove \"outliers\" of response times - so very fast (<100) or \"slow\" rts (> 750)\n",
    "x = 1000\n",
    "print(x > 100 and x < 750)"
   ]
  },
  {
   "cell_type": "code",
   "execution_count": null,
   "metadata": {},
   "outputs": [],
   "source": [
    "def is_in_range(x):\n",
    "    return(x > 100 and x < 750)\n",
    "\n",
    "filterred_rt = filter(is_in_range, list_rt)\n",
    "list_filterred_rt = list(filterred_rt)\n",
    "\n",
    "print(list_filterred_rt)"
   ]
  },
  {
   "cell_type": "code",
   "execution_count": null,
   "metadata": {},
   "outputs": [],
   "source": [
    "print(list_filterred_rt)"
   ]
  },
  {
   "cell_type": "code",
   "execution_count": null,
   "metadata": {},
   "outputs": [],
   "source": [
    "print('Original list of RTs:', len(list_rt))\n",
    "print('Filterred list of RTs:', len(list_filterred_rt))"
   ]
  },
  {
   "cell_type": "code",
   "execution_count": null,
   "metadata": {},
   "outputs": [],
   "source": [
    "# Example that filter works with other iterables\n",
    "\n",
    "def is_even(x):\n",
    "    return(x % 2 == 0)\n",
    "\n",
    "list(filter(is_even, range(1,21)))"
   ]
  },
  {
   "cell_type": "markdown",
   "metadata": {},
   "source": [
    "### Lambda functions\n",
    "Lambda functions are sometimes also called 'anonymous functions'. They are simple functions that (a) can be written in one-line and (b) are typically not reused."
   ]
  },
  {
   "cell_type": "code",
   "execution_count": null,
   "metadata": {},
   "outputs": [],
   "source": [
    "def prop_of_x_from_xy(x,y):\n",
    "    return(x / (x+y))\n",
    "\n",
    "prop_of_x_from_xy(1,9)"
   ]
  },
  {
   "cell_type": "markdown",
   "metadata": {},
   "source": [
    "Lambdas work well with `map` and `filter` because they can be easily written in one line."
   ]
  },
  {
   "cell_type": "code",
   "execution_count": null,
   "metadata": {},
   "outputs": [],
   "source": [
    "# Print out all the even numbers between user's input numbers.\n",
    "\n",
    "start = int(input('What number to start:'))\n",
    "end = int(input('What number to end:'))\n",
    "\n",
    "list(filter(lambda x: x % 2 == 0, range(start, end)))"
   ]
  },
  {
   "cell_type": "markdown",
   "metadata": {},
   "source": [
    "### Exercises\n",
    "Given a list of numbers (in code below), write a function and filter that keeps only numbers divisible by 5."
   ]
  },
  {
   "cell_type": "code",
   "execution_count": null,
   "metadata": {},
   "outputs": [],
   "source": [
    "import random\n",
    "list_of_numbers = [(random.randint(0,10_000)) for i in range(100)]\n",
    "\n",
    "def div_by_5(x):\n",
    "    return(...)\n",
    "    \n",
    "list(...(div_by_5, list_of_numbers))"
   ]
  },
  {
   "cell_type": "markdown",
   "metadata": {},
   "source": [
    "Given a range object of numbers between 1 and 100, write a (1) function and (2) program with filter that keeps only the prime numbers from that list."
   ]
  },
  {
   "cell_type": "code",
   "execution_count": null,
   "metadata": {},
   "outputs": [],
   "source": [
    "r = range(1, 100)\n",
    "\n",
    "# part (1)\n",
    "def is_prime(x):\n",
    "    ...\n",
    "    return(...)\n",
    "\n",
    "# part (2)\n",
    "list(filter(is_prime, r))"
   ]
  }
 ],
 "metadata": {
  "kernelspec": {
   "display_name": "Python 3 (ipykernel)",
   "language": "python",
   "name": "python3"
  },
  "language_info": {
   "codemirror_mode": {
    "name": "ipython",
    "version": 3
   },
   "file_extension": ".py",
   "mimetype": "text/x-python",
   "name": "python",
   "nbconvert_exporter": "python",
   "pygments_lexer": "ipython3",
   "version": "3.12.7"
  }
 },
 "nbformat": 4,
 "nbformat_minor": 4
}
