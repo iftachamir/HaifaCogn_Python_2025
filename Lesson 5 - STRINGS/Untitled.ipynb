{
 "cells": [
  {
   "cell_type": "code",
   "execution_count": 1,
   "id": "ccdad960-5c8d-4d8b-979f-2dcea9ff355b",
   "metadata": {},
   "outputs": [],
   "source": [
    "# Your solution here\n",
    "def generate_substrings(text):\n",
    "    # Generate all substrings of length 3 or more\n",
    "    for i in range(len(text)-3):\n",
    "        print(text[i:i+3])"
   ]
  },
  {
   "cell_type": "code",
   "execution_count": 2,
   "id": "ccaae850-f0df-4b9f-83a4-0f41e6d50f66",
   "metadata": {},
   "outputs": [
    {
     "name": "stdout",
     "output_type": "stream",
     "text": [
      "Hel\n",
      "ell\n",
      "llo\n",
      "lo \n",
      "o W\n",
      " Wo\n",
      "Wor\n",
      "orl\n"
     ]
    }
   ],
   "source": [
    "generate_substrings('Hello World')"
   ]
  }
 ],
 "metadata": {
  "kernelspec": {
   "display_name": "Python 3 (ipykernel)",
   "language": "python",
   "name": "python3"
  },
  "language_info": {
   "codemirror_mode": {
    "name": "ipython",
    "version": 3
   },
   "file_extension": ".py",
   "mimetype": "text/x-python",
   "name": "python",
   "nbconvert_exporter": "python",
   "pygments_lexer": "ipython3",
   "version": "3.12.7"
  }
 },
 "nbformat": 4,
 "nbformat_minor": 5
}
