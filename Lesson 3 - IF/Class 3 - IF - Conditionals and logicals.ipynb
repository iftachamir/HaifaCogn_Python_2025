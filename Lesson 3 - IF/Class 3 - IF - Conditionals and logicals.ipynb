{
 "cells": [
  {
   "cell_type": "markdown",
   "metadata": {},
   "source": [
    "# Class 3 - `if` - Conditional statements and logical operators"
   ]
  },
  {
   "cell_type": "markdown",
   "metadata": {},
   "source": [
    "## Overview\n",
    "One of the basic principles in writing code is to __execute a series of code (commands) only under certain conditions__. To do this we need to:\n",
    "1. set the condition(s) when to execute (and when not)\n",
    "2. sometimes also combine a series of commands together\n",
    "3. write it into an `if` command, and then write out what commands are conditionally executed.\n",
    "\n",
    "We'll cover these parts now, but first an example."
   ]
  },
  {
   "cell_type": "code",
   "execution_count": null,
   "metadata": {},
   "outputs": [],
   "source": [
    "# Virtual bar keeper\n",
    "age = float(input('How old are you (in years)?'))\n",
    "if age >= 18:\n",
    "    print('Great, you are old enough to drink alcohol.')\n",
    "else:\n",
    "    print(\"I'm sorry, I can't serve you alcohol.\")"
   ]
  },
  {
   "cell_type": "markdown",
   "metadata": {},
   "source": [
    "#### Difference between assignment and equality operators"
   ]
  },
  {
   "cell_type": "code",
   "execution_count": null,
   "metadata": {},
   "outputs": [],
   "source": [
    "x = 1\n",
    "y = 2\n",
    "print(x+y)"
   ]
  },
  {
   "cell_type": "code",
   "execution_count": null,
   "metadata": {},
   "outputs": [],
   "source": [
    "print(1 == 1)\n",
    "print(1 == 2)"
   ]
  },
  {
   "cell_type": "code",
   "execution_count": null,
   "metadata": {},
   "outputs": [],
   "source": [
    "print(2 == 3)"
   ]
  },
  {
   "cell_type": "markdown",
   "metadata": {},
   "source": [
    "### Quick Exercise: Predict the Output\n",
    "\n",
    "Before running the code, try to predict what each of these expressions will evaluate to:\n"
   ]
  },
  {
   "cell_type": "code",
   "execution_count": null,
   "metadata": {},
   "outputs": [],
   "source": [
    "# Exercise 1: Predict the output of these expressions\n",
    "print(10 > 5)\n",
    "print(10 == 10)\n",
    "print(10 == \"10\")\n",
    "print(\"apple\" == \"Apple\")\n",
    "print(True == 1)\n",
    "print(False == 0)"
   ]
  },
  {
   "cell_type": "markdown",
   "metadata": {},
   "source": [
    "#### Boolean type"
   ]
  },
  {
   "cell_type": "code",
   "execution_count": null,
   "metadata": {},
   "outputs": [],
   "source": [
    "x = True\n",
    "type(x)"
   ]
  },
  {
   "cell_type": "code",
   "execution_count": null,
   "metadata": {},
   "outputs": [],
   "source": [
    "'abc' == 'ABC'"
   ]
  },
  {
   "cell_type": "code",
   "execution_count": null,
   "metadata": {},
   "outputs": [],
   "source": [
    "print(type(True))\n",
    "print(type('abc' == 'ABC'))"
   ]
  },
  {
   "cell_type": "code",
   "execution_count": null,
   "metadata": {},
   "outputs": [],
   "source": [
    "bool(100)"
   ]
  },
  {
   "cell_type": "code",
   "execution_count": null,
   "metadata": {},
   "outputs": [],
   "source": [
    "bool(-10)"
   ]
  },
  {
   "cell_type": "code",
   "execution_count": null,
   "metadata": {},
   "outputs": [],
   "source": [
    "bool(0)"
   ]
  },
  {
   "cell_type": "code",
   "execution_count": null,
   "metadata": {},
   "outputs": [],
   "source": [
    "bool(1)"
   ]
  },
  {
   "cell_type": "markdown",
   "metadata": {},
   "source": [
    "### Comparators"
   ]
  },
  {
   "cell_type": "code",
   "execution_count": null,
   "metadata": {},
   "outputs": [],
   "source": [
    "x = 1\n",
    "y = 2\n",
    "z = 3\n",
    "a = 'marcus'\n",
    "b = 'aurelius'"
   ]
  },
  {
   "cell_type": "code",
   "execution_count": null,
   "metadata": {},
   "outputs": [],
   "source": [
    "print(x == 1)\n",
    "print(x == y)\n",
    "print(x != y)"
   ]
  },
  {
   "cell_type": "code",
   "execution_count": null,
   "metadata": {},
   "outputs": [],
   "source": [
    "print(a == 'marcus')\n",
    "print(a == 'Marcus')"
   ]
  },
  {
   "cell_type": "code",
   "execution_count": null,
   "metadata": {},
   "outputs": [],
   "source": [
    "print(x)\n",
    "print('1' == str(x))"
   ]
  },
  {
   "cell_type": "markdown",
   "metadata": {},
   "source": [
    "#### Membership operator"
   ]
  },
  {
   "cell_type": "code",
   "execution_count": null,
   "metadata": {},
   "outputs": [],
   "source": [
    "a = 'iftach'\n",
    "print(a in 'amir iftach abckdkkd')\n",
    "print(a in 'Iftach Amir'.lower())"
   ]
  },
  {
   "cell_type": "code",
   "execution_count": null,
   "metadata": {},
   "outputs": [],
   "source": [
    "z = 10\n",
    "z in (0, 1, 2, 3)"
   ]
  },
  {
   "cell_type": "markdown",
   "metadata": {},
   "source": [
    "## `if` statements"
   ]
  },
  {
   "cell_type": "markdown",
   "metadata": {},
   "source": [
    "The simplest form of conditional logic is an `if` statement. It tests a condition and executes code if the condition is true.\n",
    "\n",
    "**Syntax:**\n",
    "```python\n",
    "if condition:\n",
    "    # code to execute if condition is true\n"
   ]
  },
  {
   "cell_type": "code",
   "execution_count": null,
   "metadata": {},
   "outputs": [],
   "source": [
    "if True:\n",
    "    print('Hello')"
   ]
  },
  {
   "cell_type": "markdown",
   "metadata": {},
   "source": [
    "### Indentation and Whitespace in Conditionals\n",
    "In Python, indentation indicates what code belongs inside a conditional:"
   ]
  },
  {
   "cell_type": "code",
   "execution_count": null,
   "metadata": {},
   "outputs": [],
   "source": [
    "x = 102\n",
    "\n",
    "if x == 102:\n",
    "    print('ABCD')   # inside 'if'\n",
    "    print(123)      # inside 'if'\n",
    "    print(x)        # inside 'if'\n",
    "\n",
    "print('Goodbye')    # outside 'if', executes regardless"
   ]
  },
  {
   "cell_type": "markdown",
   "metadata": {},
   "source": [
    "### `else` and `elif`\n",
    "In case the first `if` condition returns `False`, than Python will check whether there is an `else` code to execute. This alternate code can also be condition by using `elif`.\n",
    "\n",
    "Remember: once the commands following `if` or `elif`, no other `elif` or `else` will be evaluated or executed."
   ]
  },
  {
   "cell_type": "code",
   "execution_count": null,
   "metadata": {},
   "outputs": [],
   "source": [
    "# Virtual bar keeper\n",
    "age = float(input('How old are you (in years)?'))\n",
    "if age > 18:\n",
    "    print('Great, you are old enough to drink alcohol.')\n",
    "else:\n",
    "    print(\"I'm sorry, I can't serve you alcohol.\")"
   ]
  },
  {
   "cell_type": "code",
   "execution_count": null,
   "metadata": {},
   "outputs": [],
   "source": [
    "x = int(input())\n",
    "\n",
    "if x > 100:\n",
    "    print('X is larger than 100')\n",
    "\n",
    "if x <= 100:\n",
    "    print('X is smaller or equal to 100')\n"
   ]
  },
  {
   "cell_type": "code",
   "execution_count": null,
   "metadata": {},
   "outputs": [],
   "source": [
    "if x > 100:\n",
    "    print('X is larger than 100')\n",
    "else:\n",
    "    print('X is smaller or equal to 100')\n"
   ]
  },
  {
   "cell_type": "code",
   "execution_count": null,
   "metadata": {},
   "outputs": [],
   "source": [
    "x = int(input())\n",
    "\n",
    "if x > 100:\n",
    "    print('X is larget than 100')\n",
    "elif x == 100:\n",
    "    print('X is equal to 100')\n",
    "#elif ...:\n",
    "#    ...\n",
    "#elif... :\n",
    "#    ...\n",
    "else:\n",
    "    print('X is smaller than 100')"
   ]
  },
  {
   "cell_type": "code",
   "execution_count": null,
   "metadata": {},
   "outputs": [],
   "source": [
    "grade = int(input(\"Enter grade:\"))\n",
    "if grade > 80 :\n",
    "    print('A')\n",
    "elif grade > 60 :\n",
    "    print('B')\n",
    "elif grade > 50:\n",
    "    print('C')\n",
    "else :\n",
    "    print('Fail')"
   ]
  },
  {
   "cell_type": "code",
   "execution_count": null,
   "metadata": {},
   "outputs": [],
   "source": [
    "grade = int(input(\"Enter grade:\"))\n",
    "if grade > 80 :\n",
    "    print('A')\n",
    "\n",
    "if grade > 60 and grade < 80:\n",
    "    print('B')\n",
    "elif grade > 50:\n",
    "    print('C')\n",
    "else :\n",
    "    print('Fail')"
   ]
  },
  {
   "cell_type": "markdown",
   "metadata": {},
   "source": [
    "## Logical operators"
   ]
  },
  {
   "cell_type": "markdown",
   "metadata": {},
   "source": [
    "### `and` operator"
   ]
  },
  {
   "cell_type": "code",
   "execution_count": null,
   "metadata": {},
   "outputs": [],
   "source": [
    "# Example: Checking if a number is within a range\n",
    "number = int(input())\n",
    "lower_bound = 10\n",
    "upper_bound = 30\n",
    "is_within_range = (number >= lower_bound) and (number <= upper_bound)\n",
    "print(f\"Is the number within the range? {is_within_range}\")"
   ]
  },
  {
   "cell_type": "code",
   "execution_count": null,
   "metadata": {},
   "outputs": [],
   "source": [
    "# Checking if a person is of pension age\n",
    "if sex=='F':\n",
    "    if age > 65:\n",
    "        begin_survey()\n",
    "    else:\n",
    "        print('Sorry, only pensioners')\n",
    "else: # Males\n",
    "    if age > 67:\n",
    "        begin_survey()\n",
    "    else:\n",
    "        print('Sorry, only pensioners')"
   ]
  },
  {
   "cell_type": "code",
   "execution_count": null,
   "metadata": {},
   "outputs": [],
   "source": [
    "sex = input('Male (M) or Female (F)?')\n",
    "age = int(input('Enter your age: '))\n",
    "\n",
    "female_pension_status = sex=='F' and age>65\n",
    "male_pension_status = sex=='M' and age>67\n",
    "\n",
    "if male_pension_status or female_pension_status:\n",
    "    begin_survey()\n",
    "else:\n",
    "    print('Sorry, only pensioners')"
   ]
  },
  {
   "cell_type": "markdown",
   "metadata": {},
   "source": [
    "### `or` operator"
   ]
  },
  {
   "cell_type": "code",
   "execution_count": null,
   "metadata": {},
   "outputs": [],
   "source": [
    "a = 'mark'\n",
    "print(a == 'Marcus')\n",
    "print(a == 'marcus')\n",
    "print(a == 'Marcus' or a == 'mark')\n",
    "print(False or True)"
   ]
  },
  {
   "cell_type": "code",
   "execution_count": null,
   "metadata": {},
   "outputs": [],
   "source": [
    "print(False or True)"
   ]
  },
  {
   "cell_type": "code",
   "execution_count": null,
   "metadata": {},
   "outputs": [],
   "source": [
    "# Survey not for pensioners\n",
    "sex = input('Male (M) or Female (F)?')\n",
    "age = int(input('Enter your age: '))\n",
    "\n",
    "female_pension_status = sex=='F' and age>65\n",
    "male_pension_status = sex=='M' and age>67\n",
    "\n",
    "if not(male_pension_status or female_pension_status):\n",
    "    begin_survey()\n",
    "else:\n",
    "    print('Sorry, only pensioners')"
   ]
  },
  {
   "cell_type": "markdown",
   "metadata": {},
   "source": [
    "### `not` command"
   ]
  },
  {
   "cell_type": "code",
   "execution_count": null,
   "metadata": {
    "tags": []
   },
   "outputs": [],
   "source": [
    "not(True)"
   ]
  },
  {
   "cell_type": "code",
   "execution_count": null,
   "metadata": {},
   "outputs": [],
   "source": [
    "print(1 != 2)\n",
    "print(not(x == 2))"
   ]
  },
  {
   "cell_type": "markdown",
   "metadata": {},
   "source": [
    "### Pythonic Chained Comparisons\n",
    "\n",
    "Python allows you to chain comparison operators in a way that's similar to mathematical notation. This makes your code more readable and concise:"
   ]
  },
  {
   "cell_type": "code",
   "execution_count": null,
   "metadata": {},
   "outputs": [],
   "source": [
    "# Instead of writing:\n",
    "x = 15\n",
    "result = x > 10 and x < 20\n",
    "print(result)  # True\n",
    "\n",
    "# You can write:\n",
    "result = 10 < x < 20\n",
    "print(result)  # True\n",
    "\n",
    "# This works with multiple comparisons:\n",
    "a = 5\n",
    "result = 1 < a < 10 < 100\n",
    "print(result)  # True"
   ]
  },
  {
   "cell_type": "markdown",
   "metadata": {},
   "source": [
    "### (Back to) Truthiness in Python\n",
    "In Python, every value can be evaluated as either `True` or `False`. This concept is known as \"truthiness\". Understanding truthiness is crucial for writing concise and effective conditional statements.\n",
    "\n",
    "**Values that are considered `False`:**\n",
    "* `False`\n",
    "* `None`\n",
    "* Zero of any numeric type: `0`, `0.0`, `0j`\n",
    "* Empty sequences and collections: `\"\"`, `()`, `[]`, `{}`\n",
    "* (Objects which of classes which define a `__bool__()` or `__len__()` method which returns `False` or 0)\n",
    "\n",
    "**All other values are considered `True`.**\n",
    "\n",
    "some examples:"
   ]
  },
  {
   "cell_type": "code",
   "execution_count": null,
   "metadata": {},
   "outputs": [],
   "source": [
    "my_number = 42\n",
    "if my_number:\n",
    "    print(\"The number is not zero.\") "
   ]
  },
  {
   "cell_type": "code",
   "execution_count": null,
   "metadata": {},
   "outputs": [],
   "source": [
    "my_number = 0\n",
    "if not my_number:\n",
    "    print(\"The number is zero.\") "
   ]
  },
  {
   "cell_type": "code",
   "execution_count": null,
   "metadata": {},
   "outputs": [],
   "source": [
    "my_number = 0\n",
    "if my_number==0:\n",
    "    print(\"The number is zero.\") "
   ]
  },
  {
   "cell_type": "markdown",
   "metadata": {},
   "source": [
    "### Common IF Statement Patterns"
   ]
  },
  {
   "cell_type": "code",
   "execution_count": null,
   "metadata": {},
   "outputs": [],
   "source": [
    "# Checking for Equality\n",
    "username = input(\"Enter your username: \")\n",
    "\n",
    "if username == \"admin\":\n",
    "    print(\"Welcome, administrator!\")"
   ]
  },
  {
   "cell_type": "code",
   "execution_count": null,
   "metadata": {},
   "outputs": [],
   "source": [
    "# Checking for range\n",
    "age = int(input(\"Enter your age: \"))\n",
    "\n",
    "if 18 <= age <= 65:\n",
    "    print(\"You are of working age.\")\n"
   ]
  },
  {
   "cell_type": "code",
   "execution_count": null,
   "metadata": {},
   "outputs": [],
   "source": [
    "# Checking for membership\n",
    "email = input(\"Enter your email: \")\n",
    "\n",
    "if \"@\" in email:\n",
    "    print(\"Email format looks valid.\")\n"
   ]
  },
  {
   "cell_type": "markdown",
   "metadata": {},
   "source": [
    "## Nested `if`s"
   ]
  },
  {
   "cell_type": "code",
   "execution_count": null,
   "metadata": {},
   "outputs": [],
   "source": [
    "# Get the visitor's age and student status\n",
    "age = int(input(\"Enter your age: \"))\n",
    "\n",
    "# First condition checks if visitor qualifies for free entry\n",
    "if age < 5:\n",
    "    print(\"Your entry is free!\")  \n",
    "\n",
    "# If visitor is 5 or older, check further conditions (nested if statements)\n",
    "else:\n",
    "    # Nested condition: check if the visitor is a student\n",
    "    is_student = input(\"Are you a student? (yes/no): \").lower()\n",
    "    if is_student == 'yes':\n",
    "        print(\"Your ticket price is $10 (student discount).\")\n",
    "    # If not a student, proceed to the next nested check\n",
    "    else:\n",
    "        # Nested condition: check if the visitor qualifies as a senior\n",
    "        if age >= 65:\n",
    "            print(\"Your ticket price is $12 (senior discount).\")\n",
    "        # If none of the above conditions met, default pricing applies\n",
    "        else:\n",
    "            print(\"Your ticket price is $20 (regular adult).\")"
   ]
  }
 ],
 "metadata": {
  "kernelspec": {
   "display_name": "Python 3 (ipykernel)",
   "language": "python",
   "name": "python3"
  },
  "language_info": {
   "codemirror_mode": {
    "name": "ipython",
    "version": 3
   },
   "file_extension": ".py",
   "mimetype": "text/x-python",
   "name": "python",
   "nbconvert_exporter": "python",
   "pygments_lexer": "ipython3",
   "version": "3.12.7"
  }
 },
 "nbformat": 4,
 "nbformat_minor": 4
}
