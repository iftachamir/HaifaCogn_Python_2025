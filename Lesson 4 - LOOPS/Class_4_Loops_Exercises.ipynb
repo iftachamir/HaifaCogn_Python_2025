{
 "cells": [
  {
   "cell_type": "markdown",
   "id": "536d7797",
   "metadata": {},
   "source": [
    "# Class 4 Exercises - Loops\n"
   ]
  },
  {
   "cell_type": "markdown",
   "id": "5b299bc0",
   "metadata": {},
   "source": [
    "## Quick Demonstration: List Comprehension for Inputs"
   ]
  },
  {
   "cell_type": "code",
   "execution_count": null,
   "id": "ad723e2d",
   "metadata": {},
   "outputs": [],
   "source": [
    "# Example: Create a list of integers from user input\n",
    "numbers = [int(x) for x in input(\"Enter numbers separated by spaces:\").split()]\n",
    "print(numbers)"
   ]
  },
  {
   "cell_type": "code",
   "execution_count": null,
   "id": "fece9ac9-8c81-4209-bdbd-022b8bb8a7a8",
   "metadata": {},
   "outputs": [],
   "source": [
    "# Example: Create a list of strings from user input\n",
    "words = [x for x in input(\"Enter words separated by spaces:\").split()]\n",
    "print(words)"
   ]
  },
  {
   "cell_type": "markdown",
   "id": "060e43f9",
   "metadata": {},
   "source": [
    "### Exercise 1: Count up to a number\n",
    "\n",
    "Write a program that asks the user for a positive integer `n`, and then prints the numbers from 1 to n (inclusive), one per line.\n",
    "\n",
    "Example Input:\n",
    "5\n",
    "\n",
    "Expected Output:\n",
    "1\n",
    "2\n",
    "3\n",
    "4\n",
    "5\n",
    "\n",
    "Edge Case:\n",
    "Input: 0 --> No output."
   ]
  },
  {
   "cell_type": "code",
   "execution_count": null,
   "id": "4ca8fb98",
   "metadata": {},
   "outputs": [],
   "source": [
    "# Your code here"
   ]
  },
  {
   "cell_type": "markdown",
   "id": "42a8b4ce",
   "metadata": {},
   "source": [
    "### Exercise 2: Countdown\n",
    "\n",
    "Write a program that asks the user for a positive integer `n`, and counts **down** from n to 1.\n",
    "\n",
    "Example Input:\n",
    "4\n",
    "\n",
    "Expected Output:\n",
    "4\n",
    "3\n",
    "2\n",
    "1"
   ]
  },
  {
   "cell_type": "code",
   "execution_count": null,
   "id": "ab1cc58b",
   "metadata": {},
   "outputs": [],
   "source": [
    "# Your code here"
   ]
  },
  {
   "cell_type": "markdown",
   "id": "d9cc40ee",
   "metadata": {},
   "source": [
    "### Exercise 3: Sum a List of Numbers\n",
    "\n",
    "Ask the user to input a list of numbers (using list comprehension format), and calculate the total sum.\n",
    "\n",
    "Example Input:\n",
    "1 2 3 4 5\n",
    "\n",
    "Expected Output:\n",
    "15\n",
    "\n",
    "Edge Case:\n",
    "Input: (empty list) --> Output: 0"
   ]
  },
  {
   "cell_type": "code",
   "execution_count": null,
   "id": "ae47b96f",
   "metadata": {},
   "outputs": [],
   "source": [
    "# Your code here"
   ]
  },
  {
   "cell_type": "markdown",
   "id": "99a4320b",
   "metadata": {},
   "source": [
    "### Exercise 4: Find the First Long Word\n",
    "\n",
    "Ask the user to input a list of words.\n",
    "Use a loop to find and print the first word that has more than 5 characters.\n",
    "Use `break` when you find it.\n",
    "You can use `len()` to get the # of characters in a string.\n",
    "\n",
    "Example Input:\n",
    "apple tree cat elephant\n",
    "\n",
    "Expected Output:\n",
    "elephant\n",
    "\n",
    "Edge Case:\n",
    "All short words --> No output."
   ]
  },
  {
   "cell_type": "code",
   "execution_count": null,
   "id": "cf04a7c4",
   "metadata": {},
   "outputs": [],
   "source": [
    "# Your code here\n",
    "words = [x for x in input(\"Enter words separated by spaces:\").split()]\n",
    "\n",
    "..."
   ]
  },
  {
   "cell_type": "markdown",
   "id": "8adc59e3",
   "metadata": {},
   "source": [
    "### Exercise 5: Skip Short Words\n",
    "\n",
    "Ask the user to input a list of words.\n",
    "Print only the words that are longer than 3 characters.\n",
    "Use `continue` to skip short words.\n",
    "\n",
    "Example Input:\n",
    "a an and apple\n",
    "\n",
    "Expected Output:\n",
    "and\n",
    "apple"
   ]
  },
  {
   "cell_type": "code",
   "execution_count": 1,
   "id": "6c26d3f0-7b3b-4dd4-b7f6-1281bd0550c8",
   "metadata": {},
   "outputs": [
    {
     "data": {
      "text/plain": [
       "3"
      ]
     },
     "execution_count": 1,
     "metadata": {},
     "output_type": "execute_result"
    }
   ],
   "source": [
    "len('mum')"
   ]
  },
  {
   "cell_type": "code",
   "execution_count": 11,
   "id": "312e3e90",
   "metadata": {},
   "outputs": [
    {
     "name": "stdin",
     "output_type": "stream",
     "text": [
      "Enter words separated by spaces: hi how are you?\n"
     ]
    },
    {
     "name": "stdout",
     "output_type": "stream",
     "text": [
      "hi\n",
      "how\n",
      "are\n",
      "End of Program\n"
     ]
    }
   ],
   "source": [
    "# Your code here\n",
    "words = [x for x in input(\"Enter words separated by spaces:\").split()]\n",
    "\n",
    "for each_word in words:\n",
    "    if len(each_word) > 3:\n",
    "        break\n",
    "    print(each_word)\n",
    "\n",
    "print('End of Program')"
   ]
  },
  {
   "cell_type": "markdown",
   "id": "86fc3c25",
   "metadata": {},
   "source": [
    "### Exercise 6: Password Checker\n",
    "\n",
    "Ask the user to guess a secret password.\n",
    "Allow unlimited tries until they get it right.\n",
    "Print a success message when correct.\n",
    "\n",
    "Example Secret Password: \"PythonRocks\"\n",
    "\n",
    "Example Input/Output:\\\n",
    "Input: [1] Java\\\n",
    "Input: [2] Python\\\n",
    "Input: [3] PythonRocks\\\n",
    "Output: Correct password!"
   ]
  },
  {
   "cell_type": "code",
   "execution_count": null,
   "id": "b738b478",
   "metadata": {},
   "outputs": [],
   "source": [
    "# Your code here"
   ]
  },
  {
   "cell_type": "markdown",
   "id": "02d958e5",
   "metadata": {},
   "source": [
    "### Exercise 7: Average of Numbers (Sentinel-controlled loop)\n",
    "\n",
    "Ask the user to enter numbers one by one.\n",
    "Calculate the average of all numbers entered.\n",
    "Entering -1 should stop the input.\n",
    "\n",
    "Example Input:\n",
    "5\n",
    "10\n",
    "15\n",
    "-1\n",
    "\n",
    "Expected Output:\n",
    "Average: 10.0\n",
    "\n",
    "Edge Case:\n",
    "No numbers entered before -1 --> Output: Cannot calculate average."
   ]
  },
  {
   "cell_type": "code",
   "execution_count": null,
   "id": "462d03c4",
   "metadata": {},
   "outputs": [],
   "source": [
    "# Your code here"
   ]
  },
  {
   "cell_type": "markdown",
   "id": "03f65aca",
   "metadata": {},
   "source": [
    "### Exercise 8: Find Index of a Target Number\n",
    "\n",
    "Ask the user to input a list of numbers and a target number.\n",
    "Use `enumerate()` to find and print the index where the target appears.\n",
    "If the number appears multiple times, print all indices.\n",
    "\n",
    "Example Input:\\\n",
    "1 2 3 2 5\\\n",
    "Target: 2\n",
    "\n",
    "Expected Output:\\\n",
    "Found at index 1\\\n",
    "Found at index 3\n",
    "\n",
    "Edge Case:\n",
    "Target not found --> Output: \"Not found\""
   ]
  },
  {
   "cell_type": "code",
   "execution_count": null,
   "id": "93410988",
   "metadata": {},
   "outputs": [],
   "source": [
    "# Your code here"
   ]
  },
  {
   "cell_type": "markdown",
   "id": "189b7f7b",
   "metadata": {},
   "source": [
    "### Exercise 9: Multiples Table\n",
    "\n",
    "Ask the user to input a number `n`.\n",
    "Print the multiplication table for that number from 1 to 10.\n",
    "\n",
    "Example Input:\\\n",
    "3\n",
    "\n",
    "Expected Output:\\\n",
    "3 x 1 = 3\\\n",
    "3 x 2 = 6\\\n",
    "... \\\n",
    "3 x 10 = 30"
   ]
  },
  {
   "cell_type": "code",
   "execution_count": null,
   "id": "f4e6d590",
   "metadata": {},
   "outputs": [],
   "source": [
    "# Your code here"
   ]
  },
  {
   "cell_type": "markdown",
   "id": "1aff5083",
   "metadata": {},
   "source": [
    "### Exercise 10: Count Valid Entries (Combined Concepts)\n",
    "\n",
    "You are conducting a survey. Participants should answer with \"yes\", \"no\", or \"maybe\".\n",
    "Ask for 10 responses.\n",
    "- Ignore invalid responses (not \"yes\"/\"no\"/\"maybe\") using `continue`.\n",
    "- Use `enumerate()` to show participant number.\n",
    "- At the end, show how many valid answers you collected.\n",
    "\n",
    "Example Input:\n",
    "yes\n",
    "banana\n",
    "no\n",
    "maybe\n",
    "hello\n",
    "no\n",
    "\n",
    "Expected Output:\n",
    "Valid answers: 4\n",
    "\n",
    "Challenge:\n",
    "Wrap this program inside a function."
   ]
  },
  {
   "cell_type": "code",
   "execution_count": null,
   "id": "c9dd9288",
   "metadata": {},
   "outputs": [],
   "source": [
    "# Your code here"
   ]
  }
 ],
 "metadata": {
  "kernelspec": {
   "display_name": "Python 3 (ipykernel)",
   "language": "python",
   "name": "python3"
  },
  "language_info": {
   "codemirror_mode": {
    "name": "ipython",
    "version": 3
   },
   "file_extension": ".py",
   "mimetype": "text/x-python",
   "name": "python",
   "nbconvert_exporter": "python",
   "pygments_lexer": "ipython3",
   "version": "3.12.7"
  }
 },
 "nbformat": 4,
 "nbformat_minor": 5
}
