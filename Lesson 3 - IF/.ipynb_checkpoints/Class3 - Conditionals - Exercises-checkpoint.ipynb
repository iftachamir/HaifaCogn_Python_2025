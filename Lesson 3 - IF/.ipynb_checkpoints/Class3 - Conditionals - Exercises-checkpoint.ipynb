{
 "cells": [
  {
   "cell_type": "markdown",
   "id": "2daf573c",
   "metadata": {},
   "source": [
    "# Class 3 Exercises: Conditionals and Logical Operators"
   ]
  },
  {
   "cell_type": "markdown",
   "id": "4eb96782",
   "metadata": {},
   "source": [
    "### Exercise 1: Simple Conditional\n",
    "Write a Python program that asks the user to enter a temperature in Celsius. If the temperature is below 0, print 'Freezing!'. Otherwise, print 'Above freezing.'"
   ]
  },
  {
   "cell_type": "code",
   "execution_count": null,
   "id": "3dd88451",
   "metadata": {},
   "outputs": [],
   "source": [
    "# Your code here\n"
   ]
  },
  {
   "cell_type": "markdown",
   "id": "84d4fc26",
   "metadata": {},
   "source": [
    "### Exercise 2: If-Else Statement\n",
    "Write a Python script that asks the user for a number. Check whether the number is odd or even and print the result."
   ]
  },
  {
   "cell_type": "code",
   "execution_count": null,
   "id": "b313db20",
   "metadata": {},
   "outputs": [],
   "source": [
    "# Your code here\n"
   ]
  },
  {
   "cell_type": "markdown",
   "id": "13db08eb",
   "metadata": {},
   "source": [
    "### Exercise 3: Nested If Statements\n",
    "A cinema charges different prices depending on age:\n",
    "- Children under 5: free\n",
    "- Ages 5 to 17: $8\n",
    "- Adults (18 to 64): $15\n",
    "- Seniors (65+): $10\n",
    "\n",
    "Write a program that asks for the user's age and prints the ticket price."
   ]
  },
  {
   "cell_type": "code",
   "execution_count": null,
   "id": "a2f3af7a",
   "metadata": {},
   "outputs": [],
   "source": [
    "# Your code here\n"
   ]
  },
  {
   "cell_type": "markdown",
   "id": "8143744e",
   "metadata": {},
   "source": [
    "### Exercise 4: Chained Conditional (Elif)\n",
    "Write a program that categorizes a given numerical score into grades:\n",
    "- 90 and above: A\n",
    "- 80-89: B\n",
    "- 70-79: C\n",
    "- 60-69: D\n",
    "- Below 60: F\n",
    "\n",
    "Ask the user for their score and print their grade."
   ]
  },
  {
   "cell_type": "code",
   "execution_count": null,
   "id": "da827a06",
   "metadata": {},
   "outputs": [],
   "source": [
    "# Your code here\n"
   ]
  },
  {
   "cell_type": "markdown",
   "id": "c7431943",
   "metadata": {},
   "source": [
    "### Exercise 5: Conditionals, Logical Operators, and Exception Handling (Integrated Problem)\n",
    "Create a Python program that acts as a basic calculator:\n",
    "- Ask the user for two numbers and an operator (`+`, `-`, `*`, `/`).\n",
    "- Use conditionals to perform the correct calculation.\n",
    "- Use a `try` and `except` block to handle division by zero and invalid operators gracefully."
   ]
  },
  {
   "cell_type": "code",
   "execution_count": null,
   "id": "b0c95c8c",
   "metadata": {},
   "outputs": [],
   "source": [
    "# Your code here\n"
   ]
  }
 ],
 "metadata": {},
 "nbformat": 4,
 "nbformat_minor": 5
}
