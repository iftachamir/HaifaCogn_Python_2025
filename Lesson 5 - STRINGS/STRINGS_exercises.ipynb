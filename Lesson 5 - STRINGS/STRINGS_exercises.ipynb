{
 "cells": [
  {
   "cell_type": "markdown",
   "metadata": {},
   "source": [
    "# Strings: Practice Exercises"
   ]
  },
  {
   "cell_type": "markdown",
   "metadata": {},
   "source": [
    "## String Information\n",
    "\n",
    "Create a function called `string_info` that takes a string as input and prints:\n",
    "- The length of the string\n",
    "- The first character\n",
    "- The last character\n",
    "- The string in all uppercase\n",
    "- The string in all lowercase"
   ]
  },
  {
   "cell_type": "code",
   "execution_count": null,
   "metadata": {},
   "outputs": [],
   "source": [
    "# Your solution here\n",
    "def string_info(text):\n",
    "    # Print the requested information about the string\n",
    "    pass\n"
   ]
  },
  {
   "cell_type": "code",
   "execution_count": null,
   "metadata": {},
   "outputs": [],
   "source": [
    "# Test your function\n",
    "string_info(\"Hello World\")"
   ]
  },
  {
   "cell_type": "markdown",
   "metadata": {},
   "source": [
    "## Password Validator\n",
    "\n",
    "Create a function called `validate_password` that checks if a password meets the following criteria:\n",
    "- At least 8 characters long\n",
    "- Contains at least one uppercase letter\n",
    "- Contains at least one lowercase letter\n",
    "- Contains at least one digit\n",
    "\n",
    "The function should return `True` if the password is valid and `False` otherwise."
   ]
  },
  {
   "cell_type": "code",
   "execution_count": null,
   "metadata": {},
   "outputs": [],
   "source": [
    "# Your solution here\n",
    "def validate_password(password):\n",
    "    # Check if the password meets all criteria\n",
    "    pass"
   ]
  },
  {
   "cell_type": "code",
   "execution_count": null,
   "metadata": {},
   "outputs": [],
   "source": [
    "# Test your function with different passwords\n",
    "passwords = [\"abc123\", \"Password123\", \"nodigits\", \"NOLOWERCASE123\", \"nouppercase123\"]\n",
    "for pwd in passwords:\n",
    "    print(f\"Password '{pwd}' is valid: {validate_password(pwd)}\")"
   ]
  },
  {
   "cell_type": "markdown",
   "metadata": {},
   "source": [
    "## Vowel Counter\n",
    "\n",
    "Create a function called `count_vowels` that takes a string as input and returns the number of vowels (a, e, i, o, u) in the string. The function should be case-insensitive (count both uppercase and lowercase vowels)."
   ]
  },
  {
   "cell_type": "code",
   "execution_count": null,
   "metadata": {},
   "outputs": [],
   "source": [
    "# Your solution here\n",
    "def count_vowels(text):\n",
    "    # Count the number of vowels in the text\n",
    "    pass\n",
    "\n",
    "# Test your function\n",
    "sample_text = \"Hello, how are you today?\"\n",
    "print(f\"The text '{sample_text}' contains {count_vowels(sample_text)} vowels.\")"
   ]
  },
  {
   "cell_type": "markdown",
   "metadata": {},
   "source": [
    "## String Transformation\n",
    "\n",
    "Create a function called `transform_text` that takes a string and returns a new string where:\n",
    "- All vowels are replaced with '*'\n",
    "- All digits are replaced with '#'\n",
    "- All other characters remain unchanged"
   ]
  },
  {
   "cell_type": "code",
   "execution_count": null,
   "metadata": {},
   "outputs": [],
   "source": [
    "# Your solution here\n",
    "def transform_text(text):\n",
    "    # Transform the text according to the rules\n",
    "    pass"
   ]
  },
  {
   "cell_type": "code",
   "execution_count": null,
   "metadata": {},
   "outputs": [],
   "source": [
    "# Test your function\n",
    "sample = \"Hello123 World!\"\n",
    "transformed = transform_text(sample)\n",
    "print(f\"Original: {sample}\")\n",
    "print(f\"Transformed: {transformed}\")"
   ]
  },
  {
   "cell_type": "markdown",
   "metadata": {},
   "source": [
    "## Substring Generator\n",
    "\n",
    "Create a function called `generate_substrings` that takes a string and prints all possible substrings of length 3 or more.\n",
    "\n",
    "For example, for the input \"hello\", the output would include: \"hel\", \"ell\", \"llo\", \"hell\", \"ello\", \"hello\"."
   ]
  },
  {
   "cell_type": "code",
   "execution_count": null,
   "metadata": {},
   "outputs": [],
   "source": [
    "# Your solution here\n",
    "def generate_substrings(text):\n",
    "    # Generate all substrings of length 3 or more\n",
    "    pass"
   ]
  },
  {
   "cell_type": "code",
   "execution_count": null,
   "metadata": {},
   "outputs": [],
   "source": [
    "# Test your function\n",
    "word = \"python\"\n",
    "substrings = generate_substrings(word)\n",
    "print(substrings)"
   ]
  },
  {
   "cell_type": "markdown",
   "metadata": {},
   "source": [
    "## Text Categorizer\n",
    "\n",
    "Create a function called `categorize_text` that takes a string and returns a string indicating if it is:\n",
    "- \"NUMBER\" if it contains only digits\n",
    "- \"EMAIL\" if it contains '@' and ends with .com, .org, .edu, etc.\n",
    "- \"URL\" if it starts with http:// or https://\n",
    "- \"TEXT\" for anything else"
   ]
  },
  {
   "cell_type": "code",
   "execution_count": null,
   "metadata": {},
   "outputs": [],
   "source": [
    "# Your solution here\n",
    "def categorize_text(text):\n",
    "    # Determine the category of the text\n",
    "    pass"
   ]
  },
  {
   "cell_type": "code",
   "execution_count": null,
   "metadata": {},
   "outputs": [],
   "source": [
    "# Test your function\n",
    "samples = [\"12345\", \"user@example.com\", \"https://python.org\", \"Hello world\"]\n",
    "for sample in samples:\n",
    "    print(f\"\\\"{sample}\\\" is: {categorize_text(sample)}\")"
   ]
  },
  {
   "cell_type": "markdown",
   "metadata": {},
   "source": [
    "## Name Formatter\n",
    "\n",
    "Create a function called `format_name` that takes a person's first name, last name, and title (e.g., \"Mr.\", \"Dr.\", \"Ms.\") and returns a formatted string based on a format code:\n",
    "\n",
    "- If format_code is 1: Return \"Title FirstName LastName\"\n",
    "- If format_code is 2: Return \"FirstName LastName\"\n",
    "- If format_code is 3: Return \"F. LastName\"\n",
    "- If format_code is 4: Return \"LastName, FirstName\"\n",
    "- For any other format_code: Return \"Invalid format code\""
   ]
  },
  {
   "cell_type": "code",
   "execution_count": null,
   "metadata": {},
   "outputs": [],
   "source": [
    "# Your solution here\n",
    "def format_name(first_name, last_name, title, format_code):\n",
    "    # Format the name according to the specified format code\n",
    "    pass"
   ]
  },
  {
   "cell_type": "code",
   "execution_count": null,
   "metadata": {},
   "outputs": [],
   "source": [
    "# Test your function\n",
    "first = \"John\"\n",
    "last = \"Smith\"\n",
    "title = \"Dr.\"\n",
    "\n",
    "print(format_name(first, last, title, 1))\n",
    "print(format_name(first, last, title, 2))\n",
    "print(format_name(first, last, title, 3))\n",
    "print(format_name(first, last, title, 4))\n",
    "print(format_name(first, last, title, 5))"
   ]
  },
  {
   "cell_type": "markdown",
   "metadata": {},
   "source": [
    "## Palindrome Checker\n",
    "\n",
    "Create a function called `is_palindrome` that checks if a string is a palindrome (reads the same forward and backward). The function should:\n",
    "\n",
    "1. **Ignore spaces and (lower/upper) case differences**\n",
    "2. Return True if the string is a palindrome and False otherwise\n",
    "3. Print a message indicating whether the string is a palindrome"
   ]
  },
  {
   "cell_type": "code",
   "execution_count": null,
   "metadata": {},
   "outputs": [],
   "source": [
    "# Your solution here\n",
    "def is_palindrome(text):\n",
    "    # Check if the text is a palindrome\n",
    "    pass"
   ]
  },
  {
   "cell_type": "code",
   "execution_count": null,
   "metadata": {},
   "outputs": [],
   "source": [
    "# Test your function\n",
    "test_strings = [\"radar\", \"hello\", \"ABBA\", \"Race car\", \"Not a palindrome\"]\n",
    "for s in test_strings:\n",
    "    is_palindrome(s)"
   ]
  }
 ],
 "metadata": {
  "kernelspec": {
   "display_name": "Python 3 (ipykernel)",
   "language": "python",
   "name": "python3"
  },
  "language_info": {
   "codemirror_mode": {
    "name": "ipython",
    "version": 3
   },
   "file_extension": ".py",
   "mimetype": "text/x-python",
   "name": "python",
   "nbconvert_exporter": "python",
   "pygments_lexer": "ipython3",
   "version": "3.12.7"
  }
 },
 "nbformat": 4,
 "nbformat_minor": 4
}
